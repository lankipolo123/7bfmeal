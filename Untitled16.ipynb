{
  "nbformat": 4,
  "nbformat_minor": 0,
  "metadata": {
    "colab": {
      "provenance": [],
      "machine_shape": "hm",
      "gpuType": "T4",
      "authorship_tag": "ABX9TyOpRAbVIlp+OF3MkYOGALgs",
      "include_colab_link": true
    },
    "kernelspec": {
      "name": "python3",
      "display_name": "Python 3"
    },
    "language_info": {
      "name": "python"
    },
    "accelerator": "GPU"
  },
  "cells": [
    {
      "cell_type": "markdown",
      "metadata": {
        "id": "view-in-github",
        "colab_type": "text"
      },
      "source": [
        "<a href=\"https://colab.research.google.com/github/lankipolo123/7bfmeal/blob/main/Untitled16.ipynb\" target=\"_parent\"><img src=\"https://colab.research.google.com/assets/colab-badge.svg\" alt=\"Open In Colab\"/></a>"
      ]
    },
    {
      "cell_type": "code",
      "execution_count": 1,
      "metadata": {
        "colab": {
          "base_uri": "https://localhost:8080/"
        },
        "id": "a6fKVjbyMleD",
        "outputId": "0a920a10-bbdd-482d-a997-896abbdbc8a4"
      },
      "outputs": [
        {
          "output_type": "stream",
          "name": "stdout",
          "text": [
            "\u001b[2K   \u001b[90m━━━━━━━━━━━━━━━━━━━━━━━━━━━━━━━━━━━━━━━━\u001b[0m \u001b[32m1.0/1.0 MB\u001b[0m \u001b[31m24.1 MB/s\u001b[0m eta \u001b[36m0:00:00\u001b[0m\n",
            "\u001b[2K   \u001b[90m━━━━━━━━━━━━━━━━━━━━━━━━━━━━━━━━━━━━━━━━\u001b[0m \u001b[32m363.4/363.4 MB\u001b[0m \u001b[31m3.2 MB/s\u001b[0m eta \u001b[36m0:00:00\u001b[0m\n",
            "\u001b[2K   \u001b[90m━━━━━━━━━━━━━━━━━━━━━━━━━━━━━━━━━━━━━━━━\u001b[0m \u001b[32m13.8/13.8 MB\u001b[0m \u001b[31m131.0 MB/s\u001b[0m eta \u001b[36m0:00:00\u001b[0m\n",
            "\u001b[2K   \u001b[90m━━━━━━━━━━━━━━━━━━━━━━━━━━━━━━━━━━━━━━━━\u001b[0m \u001b[32m24.6/24.6 MB\u001b[0m \u001b[31m102.7 MB/s\u001b[0m eta \u001b[36m0:00:00\u001b[0m\n",
            "\u001b[2K   \u001b[90m━━━━━━━━━━━━━━━━━━━━━━━━━━━━━━━━━━━━━━━━\u001b[0m \u001b[32m883.7/883.7 kB\u001b[0m \u001b[31m60.3 MB/s\u001b[0m eta \u001b[36m0:00:00\u001b[0m\n",
            "\u001b[2K   \u001b[90m━━━━━━━━━━━━━━━━━━━━━━━━━━━━━━━━━━━━━━━━\u001b[0m \u001b[32m664.8/664.8 MB\u001b[0m \u001b[31m2.3 MB/s\u001b[0m eta \u001b[36m0:00:00\u001b[0m\n",
            "\u001b[2K   \u001b[90m━━━━━━━━━━━━━━━━━━━━━━━━━━━━━━━━━━━━━━━━\u001b[0m \u001b[32m211.5/211.5 MB\u001b[0m \u001b[31m4.9 MB/s\u001b[0m eta \u001b[36m0:00:00\u001b[0m\n",
            "\u001b[2K   \u001b[90m━━━━━━━━━━━━━━━━━━━━━━━━━━━━━━━━━━━━━━━━\u001b[0m \u001b[32m56.3/56.3 MB\u001b[0m \u001b[31m44.7 MB/s\u001b[0m eta \u001b[36m0:00:00\u001b[0m\n",
            "\u001b[2K   \u001b[90m━━━━━━━━━━━━━━━━━━━━━━━━━━━━━━━━━━━━━━━━\u001b[0m \u001b[32m127.9/127.9 MB\u001b[0m \u001b[31m20.7 MB/s\u001b[0m eta \u001b[36m0:00:00\u001b[0m\n",
            "\u001b[2K   \u001b[90m━━━━━━━━━━━━━━━━━━━━━━━━━━━━━━━━━━━━━━━━\u001b[0m \u001b[32m207.5/207.5 MB\u001b[0m \u001b[31m4.2 MB/s\u001b[0m eta \u001b[36m0:00:00\u001b[0m\n",
            "\u001b[2K   \u001b[90m━━━━━━━━━━━━━━━━━━━━━━━━━━━━━━━━━━━━━━━━\u001b[0m \u001b[32m21.1/21.1 MB\u001b[0m \u001b[31m112.4 MB/s\u001b[0m eta \u001b[36m0:00:00\u001b[0m\n",
            "\u001b[?25h"
          ]
        }
      ],
      "source": [
        "# 1. Install ultralytics\n",
        "!pip install ultralytics -q\n",
        "\n",
        "# 2. (Optional) Clear old outputs\n",
        "!rm -rf /content/runs/detect/*"
      ]
    },
    {
      "cell_type": "markdown",
      "source": [
        "fine tuning"
      ],
      "metadata": {
        "id": "8UWmTYhiNFH1"
      }
    },
    {
      "cell_type": "code",
      "source": [
        "!pip install roboflow\n",
        "\n",
        "from roboflow import Roboflow\n",
        "rf = Roboflow(api_key=\"SzttdelfmuWaCwAz2N5u\")\n",
        "project = rf.workspace(\"dequillaprojects\").project(\"pothole-ol3a7\")\n",
        "version = project.version(3)\n",
        "dataset = version.download(\"yolov11\")\n",
        ""
      ],
      "metadata": {
        "colab": {
          "base_uri": "https://localhost:8080/"
        },
        "id": "a200uIPgNGTK",
        "outputId": "cee3d7fd-e8d2-4b0b-88c4-9ad247f7a5c2"
      },
      "execution_count": 2,
      "outputs": [
        {
          "output_type": "stream",
          "name": "stdout",
          "text": [
            "Collecting roboflow\n",
            "  Downloading roboflow-1.2.3-py3-none-any.whl.metadata (9.7 kB)\n",
            "Requirement already satisfied: certifi in /usr/local/lib/python3.11/dist-packages (from roboflow) (2025.7.14)\n",
            "Collecting idna==3.7 (from roboflow)\n",
            "  Downloading idna-3.7-py3-none-any.whl.metadata (9.9 kB)\n",
            "Requirement already satisfied: cycler in /usr/local/lib/python3.11/dist-packages (from roboflow) (0.12.1)\n",
            "Requirement already satisfied: kiwisolver>=1.3.1 in /usr/local/lib/python3.11/dist-packages (from roboflow) (1.4.8)\n",
            "Requirement already satisfied: matplotlib in /usr/local/lib/python3.11/dist-packages (from roboflow) (3.10.0)\n",
            "Requirement already satisfied: numpy>=1.18.5 in /usr/local/lib/python3.11/dist-packages (from roboflow) (2.0.2)\n",
            "Collecting opencv-python-headless==4.10.0.84 (from roboflow)\n",
            "  Downloading opencv_python_headless-4.10.0.84-cp37-abi3-manylinux_2_17_x86_64.manylinux2014_x86_64.whl.metadata (20 kB)\n",
            "Requirement already satisfied: Pillow>=7.1.2 in /usr/local/lib/python3.11/dist-packages (from roboflow) (11.3.0)\n",
            "Collecting pi-heif<2 (from roboflow)\n",
            "  Downloading pi_heif-1.0.0-cp311-cp311-manylinux_2_17_x86_64.manylinux2014_x86_64.whl.metadata (6.5 kB)\n",
            "Collecting pillow-avif-plugin<2 (from roboflow)\n",
            "  Downloading pillow_avif_plugin-1.5.2-cp311-cp311-manylinux_2_28_x86_64.whl.metadata (2.1 kB)\n",
            "Requirement already satisfied: python-dateutil in /usr/local/lib/python3.11/dist-packages (from roboflow) (2.9.0.post0)\n",
            "Collecting python-dotenv (from roboflow)\n",
            "  Downloading python_dotenv-1.1.1-py3-none-any.whl.metadata (24 kB)\n",
            "Requirement already satisfied: requests in /usr/local/lib/python3.11/dist-packages (from roboflow) (2.32.3)\n",
            "Requirement already satisfied: six in /usr/local/lib/python3.11/dist-packages (from roboflow) (1.17.0)\n",
            "Requirement already satisfied: urllib3>=1.26.6 in /usr/local/lib/python3.11/dist-packages (from roboflow) (2.5.0)\n",
            "Requirement already satisfied: tqdm>=4.41.0 in /usr/local/lib/python3.11/dist-packages (from roboflow) (4.67.1)\n",
            "Requirement already satisfied: PyYAML>=5.3.1 in /usr/local/lib/python3.11/dist-packages (from roboflow) (6.0.2)\n",
            "Requirement already satisfied: requests-toolbelt in /usr/local/lib/python3.11/dist-packages (from roboflow) (1.0.0)\n",
            "Collecting filetype (from roboflow)\n",
            "  Downloading filetype-1.2.0-py2.py3-none-any.whl.metadata (6.5 kB)\n",
            "Requirement already satisfied: contourpy>=1.0.1 in /usr/local/lib/python3.11/dist-packages (from matplotlib->roboflow) (1.3.3)\n",
            "Requirement already satisfied: fonttools>=4.22.0 in /usr/local/lib/python3.11/dist-packages (from matplotlib->roboflow) (4.59.0)\n",
            "Requirement already satisfied: packaging>=20.0 in /usr/local/lib/python3.11/dist-packages (from matplotlib->roboflow) (25.0)\n",
            "Requirement already satisfied: pyparsing>=2.3.1 in /usr/local/lib/python3.11/dist-packages (from matplotlib->roboflow) (3.2.3)\n",
            "Requirement already satisfied: charset-normalizer<4,>=2 in /usr/local/lib/python3.11/dist-packages (from requests->roboflow) (3.4.2)\n",
            "Downloading roboflow-1.2.3-py3-none-any.whl (86 kB)\n",
            "\u001b[2K   \u001b[90m━━━━━━━━━━━━━━━━━━━━━━━━━━━━━━━━━━━━━━━━\u001b[0m \u001b[32m86.9/86.9 kB\u001b[0m \u001b[31m5.1 MB/s\u001b[0m eta \u001b[36m0:00:00\u001b[0m\n",
            "\u001b[?25hDownloading idna-3.7-py3-none-any.whl (66 kB)\n",
            "\u001b[2K   \u001b[90m━━━━━━━━━━━━━━━━━━━━━━━━━━━━━━━━━━━━━━━━\u001b[0m \u001b[32m66.8/66.8 kB\u001b[0m \u001b[31m6.2 MB/s\u001b[0m eta \u001b[36m0:00:00\u001b[0m\n",
            "\u001b[?25hDownloading opencv_python_headless-4.10.0.84-cp37-abi3-manylinux_2_17_x86_64.manylinux2014_x86_64.whl (49.9 MB)\n",
            "\u001b[2K   \u001b[90m━━━━━━━━━━━━━━━━━━━━━━━━━━━━━━━━━━━━━━━━\u001b[0m \u001b[32m49.9/49.9 MB\u001b[0m \u001b[31m50.3 MB/s\u001b[0m eta \u001b[36m0:00:00\u001b[0m\n",
            "\u001b[?25hDownloading pi_heif-1.0.0-cp311-cp311-manylinux_2_17_x86_64.manylinux2014_x86_64.whl (1.2 MB)\n",
            "\u001b[2K   \u001b[90m━━━━━━━━━━━━━━━━━━━━━━━━━━━━━━━━━━━━━━━━\u001b[0m \u001b[32m1.2/1.2 MB\u001b[0m \u001b[31m72.8 MB/s\u001b[0m eta \u001b[36m0:00:00\u001b[0m\n",
            "\u001b[?25hDownloading pillow_avif_plugin-1.5.2-cp311-cp311-manylinux_2_28_x86_64.whl (4.2 MB)\n",
            "\u001b[2K   \u001b[90m━━━━━━━━━━━━━━━━━━━━━━━━━━━━━━━━━━━━━━━━\u001b[0m \u001b[32m4.2/4.2 MB\u001b[0m \u001b[31m116.1 MB/s\u001b[0m eta \u001b[36m0:00:00\u001b[0m\n",
            "\u001b[?25hDownloading filetype-1.2.0-py2.py3-none-any.whl (19 kB)\n",
            "Downloading python_dotenv-1.1.1-py3-none-any.whl (20 kB)\n",
            "Installing collected packages: pillow-avif-plugin, filetype, python-dotenv, pi-heif, opencv-python-headless, idna, roboflow\n",
            "  Attempting uninstall: opencv-python-headless\n",
            "    Found existing installation: opencv-python-headless 4.12.0.88\n",
            "    Uninstalling opencv-python-headless-4.12.0.88:\n",
            "      Successfully uninstalled opencv-python-headless-4.12.0.88\n",
            "  Attempting uninstall: idna\n",
            "    Found existing installation: idna 3.10\n",
            "    Uninstalling idna-3.10:\n",
            "      Successfully uninstalled idna-3.10\n",
            "Successfully installed filetype-1.2.0 idna-3.7 opencv-python-headless-4.10.0.84 pi-heif-1.0.0 pillow-avif-plugin-1.5.2 python-dotenv-1.1.1 roboflow-1.2.3\n",
            "loading Roboflow workspace...\n",
            "loading Roboflow project...\n"
          ]
        },
        {
          "output_type": "stream",
          "name": "stderr",
          "text": [
            "Downloading Dataset Version Zip in pothole-3 to yolov11:: 100%|██████████| 72322/72322 [00:01<00:00, 46882.95it/s]"
          ]
        },
        {
          "output_type": "stream",
          "name": "stdout",
          "text": [
            "\n"
          ]
        },
        {
          "output_type": "stream",
          "name": "stderr",
          "text": [
            "\n",
            "Extracting Dataset Version Zip to pothole-3 in yolov11:: 100%|██████████| 2378/2378 [00:00<00:00, 7718.67it/s]\n"
          ]
        }
      ]
    },
    {
      "cell_type": "markdown",
      "source": [
        "altering the data.yaml so that accuracy will increase and it will keep remembering that there is a hole that mean \"sewage-manhole\""
      ],
      "metadata": {
        "id": "bJIQVIdwNLa_"
      }
    },
    {
      "cell_type": "code",
      "source": [
        "data_yaml = \"\"\"\n",
        "train: ../train/images\n",
        "val: ../valid/images\n",
        "test: ../test/images\n",
        "\n",
        "nc: 2\n",
        "names: ['Pothole', 'Sewage-Manhole']\n",
        "\n",
        "roboflow:\n",
        "  license: CC BY 4.0\n",
        "  project: pothole-ol3a7\n",
        "  url: https://universe.roboflow.com/dequillaprojects/pothole-ol3a7/dataset/3\n",
        "  version: 3\n",
        "  workspace: dequillaprojects\n",
        "\"\"\"\n",
        "\n",
        "with open(\"/content/pothole-3/data.yaml\", \"w\") as f:\n",
        "    f.write(data_yaml.strip())\n"
      ],
      "metadata": {
        "id": "lf91QEKFNUR0"
      },
      "execution_count": 3,
      "outputs": []
    },
    {
      "cell_type": "markdown",
      "source": [
        "training them"
      ],
      "metadata": {
        "id": "LRk_9dQzN9Vm"
      }
    },
    {
      "cell_type": "code",
      "source": [
        "# Step 1: Upload model weights named best11.pt\n",
        "from google.colab import files\n",
        "\n",
        "print(\"📤 Upload your 'best11.pt' file now\")\n",
        "uploaded = files.upload()\n",
        "\n",
        "# Step 2: Verify it's uploaded to /content/\n",
        "import os\n",
        "if not os.path.exists(\"/content/best11.pt\"):\n",
        "    raise FileNotFoundError(\"❌ best11.pt was not uploaded correctly.\")\n",
        "print(\"✅ best11.pt uploaded successfully\")\n",
        "\n",
        "# Step 3: Define and start training\n",
        "from ultralytics import YOLO\n",
        "\n",
        "# Load uploaded model\n",
        "model = YOLO('/content/best11.pt')\n",
        "\n",
        "# Train it on Roboflow dataset with YAML config\n",
        "model.train(\n",
        "    data='/content/pothole-3/data.yaml',\n",
        "    epochs=50,\n",
        "    imgsz=640,\n",
        "    name='pothole-yolov11n'\n",
        ")\n"
      ],
      "metadata": {
        "colab": {
          "base_uri": "https://localhost:8080/",
          "height": 1000
        },
        "id": "fMoo8CAmOALi",
        "outputId": "c5024bc4-61aa-4334-f5ec-f2877d89edbd"
      },
      "execution_count": 4,
      "outputs": [
        {
          "output_type": "stream",
          "name": "stdout",
          "text": [
            "📤 Upload your 'best11.pt' file now\n"
          ]
        },
        {
          "output_type": "display_data",
          "data": {
            "text/plain": [
              "<IPython.core.display.HTML object>"
            ],
            "text/html": [
              "\n",
              "     <input type=\"file\" id=\"files-89177921-32c4-46ed-bd48-8c380e11ff1b\" name=\"files[]\" multiple disabled\n",
              "        style=\"border:none\" />\n",
              "     <output id=\"result-89177921-32c4-46ed-bd48-8c380e11ff1b\">\n",
              "      Upload widget is only available when the cell has been executed in the\n",
              "      current browser session. Please rerun this cell to enable.\n",
              "      </output>\n",
              "      <script>// Copyright 2017 Google LLC\n",
              "//\n",
              "// Licensed under the Apache License, Version 2.0 (the \"License\");\n",
              "// you may not use this file except in compliance with the License.\n",
              "// You may obtain a copy of the License at\n",
              "//\n",
              "//      http://www.apache.org/licenses/LICENSE-2.0\n",
              "//\n",
              "// Unless required by applicable law or agreed to in writing, software\n",
              "// distributed under the License is distributed on an \"AS IS\" BASIS,\n",
              "// WITHOUT WARRANTIES OR CONDITIONS OF ANY KIND, either express or implied.\n",
              "// See the License for the specific language governing permissions and\n",
              "// limitations under the License.\n",
              "\n",
              "/**\n",
              " * @fileoverview Helpers for google.colab Python module.\n",
              " */\n",
              "(function(scope) {\n",
              "function span(text, styleAttributes = {}) {\n",
              "  const element = document.createElement('span');\n",
              "  element.textContent = text;\n",
              "  for (const key of Object.keys(styleAttributes)) {\n",
              "    element.style[key] = styleAttributes[key];\n",
              "  }\n",
              "  return element;\n",
              "}\n",
              "\n",
              "// Max number of bytes which will be uploaded at a time.\n",
              "const MAX_PAYLOAD_SIZE = 100 * 1024;\n",
              "\n",
              "function _uploadFiles(inputId, outputId) {\n",
              "  const steps = uploadFilesStep(inputId, outputId);\n",
              "  const outputElement = document.getElementById(outputId);\n",
              "  // Cache steps on the outputElement to make it available for the next call\n",
              "  // to uploadFilesContinue from Python.\n",
              "  outputElement.steps = steps;\n",
              "\n",
              "  return _uploadFilesContinue(outputId);\n",
              "}\n",
              "\n",
              "// This is roughly an async generator (not supported in the browser yet),\n",
              "// where there are multiple asynchronous steps and the Python side is going\n",
              "// to poll for completion of each step.\n",
              "// This uses a Promise to block the python side on completion of each step,\n",
              "// then passes the result of the previous step as the input to the next step.\n",
              "function _uploadFilesContinue(outputId) {\n",
              "  const outputElement = document.getElementById(outputId);\n",
              "  const steps = outputElement.steps;\n",
              "\n",
              "  const next = steps.next(outputElement.lastPromiseValue);\n",
              "  return Promise.resolve(next.value.promise).then((value) => {\n",
              "    // Cache the last promise value to make it available to the next\n",
              "    // step of the generator.\n",
              "    outputElement.lastPromiseValue = value;\n",
              "    return next.value.response;\n",
              "  });\n",
              "}\n",
              "\n",
              "/**\n",
              " * Generator function which is called between each async step of the upload\n",
              " * process.\n",
              " * @param {string} inputId Element ID of the input file picker element.\n",
              " * @param {string} outputId Element ID of the output display.\n",
              " * @return {!Iterable<!Object>} Iterable of next steps.\n",
              " */\n",
              "function* uploadFilesStep(inputId, outputId) {\n",
              "  const inputElement = document.getElementById(inputId);\n",
              "  inputElement.disabled = false;\n",
              "\n",
              "  const outputElement = document.getElementById(outputId);\n",
              "  outputElement.innerHTML = '';\n",
              "\n",
              "  const pickedPromise = new Promise((resolve) => {\n",
              "    inputElement.addEventListener('change', (e) => {\n",
              "      resolve(e.target.files);\n",
              "    });\n",
              "  });\n",
              "\n",
              "  const cancel = document.createElement('button');\n",
              "  inputElement.parentElement.appendChild(cancel);\n",
              "  cancel.textContent = 'Cancel upload';\n",
              "  const cancelPromise = new Promise((resolve) => {\n",
              "    cancel.onclick = () => {\n",
              "      resolve(null);\n",
              "    };\n",
              "  });\n",
              "\n",
              "  // Wait for the user to pick the files.\n",
              "  const files = yield {\n",
              "    promise: Promise.race([pickedPromise, cancelPromise]),\n",
              "    response: {\n",
              "      action: 'starting',\n",
              "    }\n",
              "  };\n",
              "\n",
              "  cancel.remove();\n",
              "\n",
              "  // Disable the input element since further picks are not allowed.\n",
              "  inputElement.disabled = true;\n",
              "\n",
              "  if (!files) {\n",
              "    return {\n",
              "      response: {\n",
              "        action: 'complete',\n",
              "      }\n",
              "    };\n",
              "  }\n",
              "\n",
              "  for (const file of files) {\n",
              "    const li = document.createElement('li');\n",
              "    li.append(span(file.name, {fontWeight: 'bold'}));\n",
              "    li.append(span(\n",
              "        `(${file.type || 'n/a'}) - ${file.size} bytes, ` +\n",
              "        `last modified: ${\n",
              "            file.lastModifiedDate ? file.lastModifiedDate.toLocaleDateString() :\n",
              "                                    'n/a'} - `));\n",
              "    const percent = span('0% done');\n",
              "    li.appendChild(percent);\n",
              "\n",
              "    outputElement.appendChild(li);\n",
              "\n",
              "    const fileDataPromise = new Promise((resolve) => {\n",
              "      const reader = new FileReader();\n",
              "      reader.onload = (e) => {\n",
              "        resolve(e.target.result);\n",
              "      };\n",
              "      reader.readAsArrayBuffer(file);\n",
              "    });\n",
              "    // Wait for the data to be ready.\n",
              "    let fileData = yield {\n",
              "      promise: fileDataPromise,\n",
              "      response: {\n",
              "        action: 'continue',\n",
              "      }\n",
              "    };\n",
              "\n",
              "    // Use a chunked sending to avoid message size limits. See b/62115660.\n",
              "    let position = 0;\n",
              "    do {\n",
              "      const length = Math.min(fileData.byteLength - position, MAX_PAYLOAD_SIZE);\n",
              "      const chunk = new Uint8Array(fileData, position, length);\n",
              "      position += length;\n",
              "\n",
              "      const base64 = btoa(String.fromCharCode.apply(null, chunk));\n",
              "      yield {\n",
              "        response: {\n",
              "          action: 'append',\n",
              "          file: file.name,\n",
              "          data: base64,\n",
              "        },\n",
              "      };\n",
              "\n",
              "      let percentDone = fileData.byteLength === 0 ?\n",
              "          100 :\n",
              "          Math.round((position / fileData.byteLength) * 100);\n",
              "      percent.textContent = `${percentDone}% done`;\n",
              "\n",
              "    } while (position < fileData.byteLength);\n",
              "  }\n",
              "\n",
              "  // All done.\n",
              "  yield {\n",
              "    response: {\n",
              "      action: 'complete',\n",
              "    }\n",
              "  };\n",
              "}\n",
              "\n",
              "scope.google = scope.google || {};\n",
              "scope.google.colab = scope.google.colab || {};\n",
              "scope.google.colab._files = {\n",
              "  _uploadFiles,\n",
              "  _uploadFilesContinue,\n",
              "};\n",
              "})(self);\n",
              "</script> "
            ]
          },
          "metadata": {}
        },
        {
          "output_type": "stream",
          "name": "stdout",
          "text": [
            "Saving best11.pt to best11.pt\n",
            "✅ best11.pt uploaded successfully\n",
            "Creating new Ultralytics Settings v0.0.6 file ✅ \n",
            "View Ultralytics Settings with 'yolo settings' or at '/root/.config/Ultralytics/settings.json'\n",
            "Update Settings with 'yolo settings key=value', i.e. 'yolo settings runs_dir=path/to/dir'. For help see https://docs.ultralytics.com/quickstart/#ultralytics-settings.\n",
            "Ultralytics 8.3.171 🚀 Python-3.11.13 torch-2.6.0+cu124 CUDA:0 (Tesla T4, 15095MiB)\n",
            "\u001b[34m\u001b[1mengine/trainer: \u001b[0magnostic_nms=False, amp=True, augment=False, auto_augment=randaugment, batch=16, bgr=0.0, box=7.5, cache=False, cfg=None, classes=None, close_mosaic=10, cls=0.5, conf=None, copy_paste=0.0, copy_paste_mode=flip, cos_lr=False, cutmix=0.0, data=/content/pothole-3/data.yaml, degrees=0.0, deterministic=True, device=None, dfl=1.5, dnn=False, dropout=0.0, dynamic=False, embed=None, epochs=50, erasing=0.4, exist_ok=False, fliplr=0.5, flipud=0.0, format=torchscript, fraction=1.0, freeze=None, half=False, hsv_h=0.015, hsv_s=0.7, hsv_v=0.4, imgsz=640, int8=False, iou=0.7, keras=False, kobj=1.0, line_width=None, lr0=0.01, lrf=0.01, mask_ratio=4, max_det=300, mixup=0.0, mode=train, model=/content/best11.pt, momentum=0.937, mosaic=1.0, multi_scale=False, name=pothole-yolov11n, nbs=64, nms=False, opset=None, optimize=False, optimizer=auto, overlap_mask=True, patience=100, perspective=0.0, plots=True, pose=12.0, pretrained=True, profile=False, project=None, rect=False, resume=False, retina_masks=False, save=True, save_conf=False, save_crop=False, save_dir=runs/detect/pothole-yolov11n, save_frames=False, save_json=False, save_period=-1, save_txt=False, scale=0.5, seed=0, shear=0.0, show=False, show_boxes=True, show_conf=True, show_labels=True, simplify=True, single_cls=False, source=None, split=val, stream_buffer=False, task=detect, time=None, tracker=botsort.yaml, translate=0.1, val=True, verbose=True, vid_stride=1, visualize=False, warmup_bias_lr=0.1, warmup_epochs=3.0, warmup_momentum=0.8, weight_decay=0.0005, workers=8, workspace=None\n",
            "Downloading https://ultralytics.com/assets/Arial.ttf to '/root/.config/Ultralytics/Arial.ttf'...\n"
          ]
        },
        {
          "output_type": "stream",
          "name": "stderr",
          "text": [
            "100%|██████████| 755k/755k [00:00<00:00, 19.9MB/s]"
          ]
        },
        {
          "output_type": "stream",
          "name": "stdout",
          "text": [
            "\n",
            "                   from  n    params  module                                       arguments                     \n",
            "  0                  -1  1       464  ultralytics.nn.modules.conv.Conv             [3, 16, 3, 2]                 \n",
            "  1                  -1  1      4672  ultralytics.nn.modules.conv.Conv             [16, 32, 3, 2]                \n",
            "  2                  -1  1      6640  ultralytics.nn.modules.block.C3k2            [32, 64, 1, False, 0.25]      \n",
            "  3                  -1  1     36992  ultralytics.nn.modules.conv.Conv             [64, 64, 3, 2]                \n",
            "  4                  -1  1     26080  ultralytics.nn.modules.block.C3k2            [64, 128, 1, False, 0.25]     \n",
            "  5                  -1  1    147712  ultralytics.nn.modules.conv.Conv             [128, 128, 3, 2]              \n",
            "  6                  -1  1     87040  ultralytics.nn.modules.block.C3k2            [128, 128, 1, True]           \n",
            "  7                  -1  1    295424  ultralytics.nn.modules.conv.Conv             [128, 256, 3, 2]              \n",
            "  8                  -1  1    346112  ultralytics.nn.modules.block.C3k2            [256, 256, 1, True]           \n",
            "  9                  -1  1    164608  ultralytics.nn.modules.block.SPPF            [256, 256, 5]                 \n",
            " 10                  -1  1    249728  ultralytics.nn.modules.block.C2PSA           [256, 256, 1]                 \n",
            " 11                  -1  1         0  torch.nn.modules.upsampling.Upsample         [None, 2, 'nearest']          \n",
            " 12             [-1, 6]  1         0  ultralytics.nn.modules.conv.Concat           [1]                           \n",
            " 13                  -1  1    111296  ultralytics.nn.modules.block.C3k2            [384, 128, 1, False]          \n",
            " 14                  -1  1         0  torch.nn.modules.upsampling.Upsample         [None, 2, 'nearest']          \n",
            " 15             [-1, 4]  1         0  ultralytics.nn.modules.conv.Concat           [1]                           \n",
            " 16                  -1  1     32096  ultralytics.nn.modules.block.C3k2            [256, 64, 1, False]           \n",
            " 17                  -1  1     36992  ultralytics.nn.modules.conv.Conv             [64, 64, 3, 2]                \n",
            " 18            [-1, 13]  1         0  ultralytics.nn.modules.conv.Concat           [1]                           \n",
            " 19                  -1  1     86720  ultralytics.nn.modules.block.C3k2            [192, 128, 1, False]          \n",
            " 20                  -1  1    147712  ultralytics.nn.modules.conv.Conv             [128, 128, 3, 2]              \n",
            " 21            [-1, 10]  1         0  ultralytics.nn.modules.conv.Concat           [1]                           \n",
            " 22                  -1  1    378880  ultralytics.nn.modules.block.C3k2            [384, 256, 1, True]           \n",
            " 23        [16, 19, 22]  1    431062  ultralytics.nn.modules.head.Detect           [2, [64, 128, 256]]           \n"
          ]
        },
        {
          "output_type": "stream",
          "name": "stderr",
          "text": [
            "\n"
          ]
        },
        {
          "output_type": "stream",
          "name": "stdout",
          "text": [
            "YOLO11n summary: 181 layers, 2,590,230 parameters, 2,590,214 gradients, 6.4 GFLOPs\n",
            "\n",
            "Transferred 499/499 items from pretrained weights\n",
            "Freezing layer 'model.23.dfl.conv.weight'\n",
            "\u001b[34m\u001b[1mAMP: \u001b[0mrunning Automatic Mixed Precision (AMP) checks...\n",
            "Downloading https://github.com/ultralytics/assets/releases/download/v8.3.0/yolo11n.pt to 'yolo11n.pt'...\n"
          ]
        },
        {
          "output_type": "stream",
          "name": "stderr",
          "text": [
            "100%|██████████| 5.35M/5.35M [00:00<00:00, 94.7MB/s]\n"
          ]
        },
        {
          "output_type": "stream",
          "name": "stdout",
          "text": [
            "\u001b[34m\u001b[1mAMP: \u001b[0mchecks passed ✅\n",
            "\u001b[34m\u001b[1mtrain: \u001b[0mFast image access ✅ (ping: 0.0±0.0 ms, read: 1598.4±507.3 MB/s, size: 70.0 KB)\n"
          ]
        },
        {
          "output_type": "stream",
          "name": "stderr",
          "text": [
            "\u001b[34m\u001b[1mtrain: \u001b[0mScanning /content/pothole-3/train/labels... 667 images, 0 backgrounds, 0 corrupt: 100%|██████████| 667/667 [00:00<00:00, 1635.30it/s]\n"
          ]
        },
        {
          "output_type": "stream",
          "name": "stdout",
          "text": [
            "\u001b[34m\u001b[1mtrain: \u001b[0mNew cache created: /content/pothole-3/train/labels.cache\n",
            "\u001b[34m\u001b[1malbumentations: \u001b[0mBlur(p=0.01, blur_limit=(3, 7)), MedianBlur(p=0.01, blur_limit=(3, 7)), ToGray(p=0.01, method='weighted_average', num_output_channels=3), CLAHE(p=0.01, clip_limit=(1.0, 4.0), tile_grid_size=(8, 8))\n",
            "\u001b[34m\u001b[1mval: \u001b[0mFast image access ✅ (ping: 0.0±0.0 ms, read: 314.2±35.5 MB/s, size: 63.1 KB)\n"
          ]
        },
        {
          "output_type": "stream",
          "name": "stderr",
          "text": [
            "\u001b[34m\u001b[1mval: \u001b[0mScanning /content/pothole-3/valid/labels... 325 images, 0 backgrounds, 0 corrupt: 100%|██████████| 325/325 [00:00<00:00, 1720.57it/s]\n"
          ]
        },
        {
          "output_type": "stream",
          "name": "stdout",
          "text": [
            "\u001b[34m\u001b[1mval: \u001b[0mNew cache created: /content/pothole-3/valid/labels.cache\n",
            "Plotting labels to runs/detect/pothole-yolov11n/labels.jpg... \n",
            "\u001b[34m\u001b[1moptimizer:\u001b[0m 'optimizer=auto' found, ignoring 'lr0=0.01' and 'momentum=0.937' and determining best 'optimizer', 'lr0' and 'momentum' automatically... \n",
            "\u001b[34m\u001b[1moptimizer:\u001b[0m AdamW(lr=0.001667, momentum=0.9) with parameter groups 81 weight(decay=0.0), 88 weight(decay=0.0005), 87 bias(decay=0.0)\n",
            "Image sizes 640 train, 640 val\n",
            "Using 8 dataloader workers\n",
            "Logging results to \u001b[1mruns/detect/pothole-yolov11n\u001b[0m\n",
            "Starting training for 50 epochs...\n",
            "\n",
            "      Epoch    GPU_mem   box_loss   cls_loss   dfl_loss  Instances       Size\n"
          ]
        },
        {
          "output_type": "stream",
          "name": "stderr",
          "text": [
            "       1/50      2.24G      1.651      1.405      1.631         34        640: 100%|██████████| 42/42 [00:08<00:00,  5.11it/s]\n",
            "                 Class     Images  Instances      Box(P          R      mAP50  mAP50-95): 100%|██████████| 11/11 [00:02<00:00,  4.26it/s]"
          ]
        },
        {
          "output_type": "stream",
          "name": "stdout",
          "text": [
            "                   all        325        888      0.638      0.655      0.634      0.325\n"
          ]
        },
        {
          "output_type": "stream",
          "name": "stderr",
          "text": [
            "\n"
          ]
        },
        {
          "output_type": "stream",
          "name": "stdout",
          "text": [
            "\n",
            "      Epoch    GPU_mem   box_loss   cls_loss   dfl_loss  Instances       Size\n"
          ]
        },
        {
          "output_type": "stream",
          "name": "stderr",
          "text": [
            "       2/50      2.77G      1.556      1.191      1.487         61        640: 100%|██████████| 42/42 [00:06<00:00,  6.43it/s]\n",
            "                 Class     Images  Instances      Box(P          R      mAP50  mAP50-95): 100%|██████████| 11/11 [00:01<00:00,  6.25it/s]"
          ]
        },
        {
          "output_type": "stream",
          "name": "stdout",
          "text": [
            "                   all        325        888      0.684      0.627      0.664      0.333\n"
          ]
        },
        {
          "output_type": "stream",
          "name": "stderr",
          "text": [
            "\n"
          ]
        },
        {
          "output_type": "stream",
          "name": "stdout",
          "text": [
            "\n",
            "      Epoch    GPU_mem   box_loss   cls_loss   dfl_loss  Instances       Size\n"
          ]
        },
        {
          "output_type": "stream",
          "name": "stderr",
          "text": [
            "       3/50      2.79G      1.564      1.236      1.499         57        640: 100%|██████████| 42/42 [00:06<00:00,  6.55it/s]\n",
            "                 Class     Images  Instances      Box(P          R      mAP50  mAP50-95): 100%|██████████| 11/11 [00:01<00:00,  6.27it/s]"
          ]
        },
        {
          "output_type": "stream",
          "name": "stdout",
          "text": [
            "                   all        325        888      0.683      0.508      0.591      0.294\n"
          ]
        },
        {
          "output_type": "stream",
          "name": "stderr",
          "text": [
            "\n"
          ]
        },
        {
          "output_type": "stream",
          "name": "stdout",
          "text": [
            "\n",
            "      Epoch    GPU_mem   box_loss   cls_loss   dfl_loss  Instances       Size\n"
          ]
        },
        {
          "output_type": "stream",
          "name": "stderr",
          "text": [
            "       4/50       2.8G      1.537      1.185      1.459         68        640: 100%|██████████| 42/42 [00:06<00:00,  6.62it/s]\n",
            "                 Class     Images  Instances      Box(P          R      mAP50  mAP50-95): 100%|██████████| 11/11 [00:01<00:00,  6.18it/s]"
          ]
        },
        {
          "output_type": "stream",
          "name": "stdout",
          "text": [
            "                   all        325        888       0.66      0.552      0.627      0.321\n"
          ]
        },
        {
          "output_type": "stream",
          "name": "stderr",
          "text": [
            "\n"
          ]
        },
        {
          "output_type": "stream",
          "name": "stdout",
          "text": [
            "\n",
            "      Epoch    GPU_mem   box_loss   cls_loss   dfl_loss  Instances       Size\n"
          ]
        },
        {
          "output_type": "stream",
          "name": "stderr",
          "text": [
            "       5/50      2.82G      1.543       1.19      1.497         66        640: 100%|██████████| 42/42 [00:06<00:00,  6.55it/s]\n",
            "                 Class     Images  Instances      Box(P          R      mAP50  mAP50-95): 100%|██████████| 11/11 [00:01<00:00,  6.28it/s]"
          ]
        },
        {
          "output_type": "stream",
          "name": "stdout",
          "text": [
            "                   all        325        888      0.668      0.551      0.616      0.297\n"
          ]
        },
        {
          "output_type": "stream",
          "name": "stderr",
          "text": [
            "\n"
          ]
        },
        {
          "output_type": "stream",
          "name": "stdout",
          "text": [
            "\n",
            "      Epoch    GPU_mem   box_loss   cls_loss   dfl_loss  Instances       Size\n"
          ]
        },
        {
          "output_type": "stream",
          "name": "stderr",
          "text": [
            "       6/50      2.83G       1.52      1.206      1.467         66        640: 100%|██████████| 42/42 [00:06<00:00,  6.52it/s]\n",
            "                 Class     Images  Instances      Box(P          R      mAP50  mAP50-95): 100%|██████████| 11/11 [00:01<00:00,  6.05it/s]"
          ]
        },
        {
          "output_type": "stream",
          "name": "stdout",
          "text": [
            "                   all        325        888      0.653      0.588       0.64      0.329\n"
          ]
        },
        {
          "output_type": "stream",
          "name": "stderr",
          "text": [
            "\n"
          ]
        },
        {
          "output_type": "stream",
          "name": "stdout",
          "text": [
            "\n",
            "      Epoch    GPU_mem   box_loss   cls_loss   dfl_loss  Instances       Size\n"
          ]
        },
        {
          "output_type": "stream",
          "name": "stderr",
          "text": [
            "       7/50      2.85G      1.501      1.196      1.453         43        640: 100%|██████████| 42/42 [00:06<00:00,  6.49it/s]\n",
            "                 Class     Images  Instances      Box(P          R      mAP50  mAP50-95): 100%|██████████| 11/11 [00:01<00:00,  6.16it/s]"
          ]
        },
        {
          "output_type": "stream",
          "name": "stdout",
          "text": [
            "                   all        325        888        0.7      0.609      0.667      0.335\n"
          ]
        },
        {
          "output_type": "stream",
          "name": "stderr",
          "text": [
            "\n"
          ]
        },
        {
          "output_type": "stream",
          "name": "stdout",
          "text": [
            "\n",
            "      Epoch    GPU_mem   box_loss   cls_loss   dfl_loss  Instances       Size\n"
          ]
        },
        {
          "output_type": "stream",
          "name": "stderr",
          "text": [
            "       8/50      2.86G      1.451      1.127      1.437         39        640: 100%|██████████| 42/42 [00:06<00:00,  6.53it/s]\n",
            "                 Class     Images  Instances      Box(P          R      mAP50  mAP50-95): 100%|██████████| 11/11 [00:01<00:00,  6.20it/s]"
          ]
        },
        {
          "output_type": "stream",
          "name": "stdout",
          "text": [
            "                   all        325        888      0.739      0.655      0.731      0.407\n"
          ]
        },
        {
          "output_type": "stream",
          "name": "stderr",
          "text": [
            "\n"
          ]
        },
        {
          "output_type": "stream",
          "name": "stdout",
          "text": [
            "\n",
            "      Epoch    GPU_mem   box_loss   cls_loss   dfl_loss  Instances       Size\n"
          ]
        },
        {
          "output_type": "stream",
          "name": "stderr",
          "text": [
            "       9/50      2.88G        1.4      1.092      1.404         70        640: 100%|██████████| 42/42 [00:06<00:00,  6.43it/s]\n",
            "                 Class     Images  Instances      Box(P          R      mAP50  mAP50-95): 100%|██████████| 11/11 [00:01<00:00,  6.21it/s]"
          ]
        },
        {
          "output_type": "stream",
          "name": "stdout",
          "text": [
            "                   all        325        888      0.709      0.596      0.674      0.345\n"
          ]
        },
        {
          "output_type": "stream",
          "name": "stderr",
          "text": [
            "\n"
          ]
        },
        {
          "output_type": "stream",
          "name": "stdout",
          "text": [
            "\n",
            "      Epoch    GPU_mem   box_loss   cls_loss   dfl_loss  Instances       Size\n"
          ]
        },
        {
          "output_type": "stream",
          "name": "stderr",
          "text": [
            "      10/50      2.89G      1.392      1.063      1.388         38        640: 100%|██████████| 42/42 [00:06<00:00,  6.42it/s]\n",
            "                 Class     Images  Instances      Box(P          R      mAP50  mAP50-95): 100%|██████████| 11/11 [00:01<00:00,  6.07it/s]"
          ]
        },
        {
          "output_type": "stream",
          "name": "stdout",
          "text": [
            "                   all        325        888      0.724      0.652      0.723      0.385\n"
          ]
        },
        {
          "output_type": "stream",
          "name": "stderr",
          "text": [
            "\n"
          ]
        },
        {
          "output_type": "stream",
          "name": "stdout",
          "text": [
            "\n",
            "      Epoch    GPU_mem   box_loss   cls_loss   dfl_loss  Instances       Size\n"
          ]
        },
        {
          "output_type": "stream",
          "name": "stderr",
          "text": [
            "      11/50      2.91G      1.368      1.042      1.383         40        640: 100%|██████████| 42/42 [00:06<00:00,  6.41it/s]\n",
            "                 Class     Images  Instances      Box(P          R      mAP50  mAP50-95): 100%|██████████| 11/11 [00:01<00:00,  6.00it/s]"
          ]
        },
        {
          "output_type": "stream",
          "name": "stdout",
          "text": [
            "                   all        325        888      0.723      0.692      0.731      0.393\n"
          ]
        },
        {
          "output_type": "stream",
          "name": "stderr",
          "text": [
            "\n"
          ]
        },
        {
          "output_type": "stream",
          "name": "stdout",
          "text": [
            "\n",
            "      Epoch    GPU_mem   box_loss   cls_loss   dfl_loss  Instances       Size\n"
          ]
        },
        {
          "output_type": "stream",
          "name": "stderr",
          "text": [
            "      12/50      2.92G      1.379       1.05      1.402         52        640: 100%|██████████| 42/42 [00:06<00:00,  6.42it/s]\n",
            "                 Class     Images  Instances      Box(P          R      mAP50  mAP50-95): 100%|██████████| 11/11 [00:01<00:00,  6.13it/s]"
          ]
        },
        {
          "output_type": "stream",
          "name": "stdout",
          "text": [
            "                   all        325        888      0.726      0.688      0.747      0.427\n"
          ]
        },
        {
          "output_type": "stream",
          "name": "stderr",
          "text": [
            "\n"
          ]
        },
        {
          "output_type": "stream",
          "name": "stdout",
          "text": [
            "\n",
            "      Epoch    GPU_mem   box_loss   cls_loss   dfl_loss  Instances       Size\n"
          ]
        },
        {
          "output_type": "stream",
          "name": "stderr",
          "text": [
            "      13/50      2.94G      1.359      1.037      1.386         55        640: 100%|██████████| 42/42 [00:06<00:00,  6.37it/s]\n",
            "                 Class     Images  Instances      Box(P          R      mAP50  mAP50-95): 100%|██████████| 11/11 [00:01<00:00,  6.12it/s]"
          ]
        },
        {
          "output_type": "stream",
          "name": "stdout",
          "text": [
            "                   all        325        888      0.731      0.671      0.734      0.401\n"
          ]
        },
        {
          "output_type": "stream",
          "name": "stderr",
          "text": [
            "\n"
          ]
        },
        {
          "output_type": "stream",
          "name": "stdout",
          "text": [
            "\n",
            "      Epoch    GPU_mem   box_loss   cls_loss   dfl_loss  Instances       Size\n"
          ]
        },
        {
          "output_type": "stream",
          "name": "stderr",
          "text": [
            "      14/50      2.95G      1.347      1.053      1.362         78        640: 100%|██████████| 42/42 [00:06<00:00,  6.41it/s]\n",
            "                 Class     Images  Instances      Box(P          R      mAP50  mAP50-95): 100%|██████████| 11/11 [00:01<00:00,  6.21it/s]"
          ]
        },
        {
          "output_type": "stream",
          "name": "stdout",
          "text": [
            "                   all        325        888      0.762      0.624      0.721      0.407\n"
          ]
        },
        {
          "output_type": "stream",
          "name": "stderr",
          "text": [
            "\n"
          ]
        },
        {
          "output_type": "stream",
          "name": "stdout",
          "text": [
            "\n",
            "      Epoch    GPU_mem   box_loss   cls_loss   dfl_loss  Instances       Size\n"
          ]
        },
        {
          "output_type": "stream",
          "name": "stderr",
          "text": [
            "      15/50      2.97G      1.349      1.031      1.363         52        640: 100%|██████████| 42/42 [00:06<00:00,  6.44it/s]\n",
            "                 Class     Images  Instances      Box(P          R      mAP50  mAP50-95): 100%|██████████| 11/11 [00:01<00:00,  6.05it/s]"
          ]
        },
        {
          "output_type": "stream",
          "name": "stdout",
          "text": [
            "                   all        325        888       0.77      0.673      0.747      0.395\n"
          ]
        },
        {
          "output_type": "stream",
          "name": "stderr",
          "text": [
            "\n"
          ]
        },
        {
          "output_type": "stream",
          "name": "stdout",
          "text": [
            "\n",
            "      Epoch    GPU_mem   box_loss   cls_loss   dfl_loss  Instances       Size\n"
          ]
        },
        {
          "output_type": "stream",
          "name": "stderr",
          "text": [
            "      16/50      2.98G      1.317     0.9812       1.34         47        640: 100%|██████████| 42/42 [00:06<00:00,  6.47it/s]\n",
            "                 Class     Images  Instances      Box(P          R      mAP50  mAP50-95): 100%|██████████| 11/11 [00:01<00:00,  6.19it/s]"
          ]
        },
        {
          "output_type": "stream",
          "name": "stdout",
          "text": [
            "                   all        325        888      0.801      0.646      0.757      0.434\n"
          ]
        },
        {
          "output_type": "stream",
          "name": "stderr",
          "text": [
            "\n"
          ]
        },
        {
          "output_type": "stream",
          "name": "stdout",
          "text": [
            "\n",
            "      Epoch    GPU_mem   box_loss   cls_loss   dfl_loss  Instances       Size\n"
          ]
        },
        {
          "output_type": "stream",
          "name": "stderr",
          "text": [
            "      17/50      2.99G       1.31      0.989       1.33         44        640: 100%|██████████| 42/42 [00:06<00:00,  6.41it/s]\n",
            "                 Class     Images  Instances      Box(P          R      mAP50  mAP50-95): 100%|██████████| 11/11 [00:01<00:00,  6.21it/s]"
          ]
        },
        {
          "output_type": "stream",
          "name": "stdout",
          "text": [
            "                   all        325        888      0.765       0.69      0.768      0.453\n"
          ]
        },
        {
          "output_type": "stream",
          "name": "stderr",
          "text": [
            "\n"
          ]
        },
        {
          "output_type": "stream",
          "name": "stdout",
          "text": [
            "\n",
            "      Epoch    GPU_mem   box_loss   cls_loss   dfl_loss  Instances       Size\n"
          ]
        },
        {
          "output_type": "stream",
          "name": "stderr",
          "text": [
            "      18/50      3.01G      1.297     0.9634      1.334         64        640: 100%|██████████| 42/42 [00:06<00:00,  6.42it/s]\n",
            "                 Class     Images  Instances      Box(P          R      mAP50  mAP50-95): 100%|██████████| 11/11 [00:01<00:00,  6.24it/s]"
          ]
        },
        {
          "output_type": "stream",
          "name": "stdout",
          "text": [
            "                   all        325        888      0.808       0.72      0.806      0.474\n"
          ]
        },
        {
          "output_type": "stream",
          "name": "stderr",
          "text": [
            "\n"
          ]
        },
        {
          "output_type": "stream",
          "name": "stdout",
          "text": [
            "\n",
            "      Epoch    GPU_mem   box_loss   cls_loss   dfl_loss  Instances       Size\n"
          ]
        },
        {
          "output_type": "stream",
          "name": "stderr",
          "text": [
            "      19/50      3.03G      1.296     0.9645      1.343         52        640: 100%|██████████| 42/42 [00:06<00:00,  6.46it/s]\n",
            "                 Class     Images  Instances      Box(P          R      mAP50  mAP50-95): 100%|██████████| 11/11 [00:01<00:00,  6.12it/s]"
          ]
        },
        {
          "output_type": "stream",
          "name": "stdout",
          "text": [
            "                   all        325        888      0.762      0.649      0.739      0.418\n"
          ]
        },
        {
          "output_type": "stream",
          "name": "stderr",
          "text": [
            "\n"
          ]
        },
        {
          "output_type": "stream",
          "name": "stdout",
          "text": [
            "\n",
            "      Epoch    GPU_mem   box_loss   cls_loss   dfl_loss  Instances       Size\n"
          ]
        },
        {
          "output_type": "stream",
          "name": "stderr",
          "text": [
            "      20/50      3.04G      1.272     0.9602      1.331         77        640: 100%|██████████| 42/42 [00:06<00:00,  6.49it/s]\n",
            "                 Class     Images  Instances      Box(P          R      mAP50  mAP50-95): 100%|██████████| 11/11 [00:01<00:00,  6.20it/s]"
          ]
        },
        {
          "output_type": "stream",
          "name": "stdout",
          "text": [
            "                   all        325        888      0.755      0.675      0.766      0.449\n"
          ]
        },
        {
          "output_type": "stream",
          "name": "stderr",
          "text": [
            "\n"
          ]
        },
        {
          "output_type": "stream",
          "name": "stdout",
          "text": [
            "\n",
            "      Epoch    GPU_mem   box_loss   cls_loss   dfl_loss  Instances       Size\n"
          ]
        },
        {
          "output_type": "stream",
          "name": "stderr",
          "text": [
            "      21/50      3.05G      1.225     0.9037      1.282         63        640: 100%|██████████| 42/42 [00:06<00:00,  6.42it/s]\n",
            "                 Class     Images  Instances      Box(P          R      mAP50  mAP50-95): 100%|██████████| 11/11 [00:01<00:00,  6.20it/s]"
          ]
        },
        {
          "output_type": "stream",
          "name": "stdout",
          "text": [
            "                   all        325        888       0.82      0.697      0.792      0.467\n"
          ]
        },
        {
          "output_type": "stream",
          "name": "stderr",
          "text": [
            "\n"
          ]
        },
        {
          "output_type": "stream",
          "name": "stdout",
          "text": [
            "\n",
            "      Epoch    GPU_mem   box_loss   cls_loss   dfl_loss  Instances       Size\n"
          ]
        },
        {
          "output_type": "stream",
          "name": "stderr",
          "text": [
            "      22/50      3.07G      1.255     0.9043      1.303         57        640: 100%|██████████| 42/42 [00:06<00:00,  6.43it/s]\n",
            "                 Class     Images  Instances      Box(P          R      mAP50  mAP50-95): 100%|██████████| 11/11 [00:01<00:00,  6.12it/s]"
          ]
        },
        {
          "output_type": "stream",
          "name": "stdout",
          "text": [
            "                   all        325        888      0.785      0.667      0.769      0.436\n"
          ]
        },
        {
          "output_type": "stream",
          "name": "stderr",
          "text": [
            "\n"
          ]
        },
        {
          "output_type": "stream",
          "name": "stdout",
          "text": [
            "\n",
            "      Epoch    GPU_mem   box_loss   cls_loss   dfl_loss  Instances       Size\n"
          ]
        },
        {
          "output_type": "stream",
          "name": "stderr",
          "text": [
            "      23/50      3.08G      1.217     0.8938      1.291         45        640: 100%|██████████| 42/42 [00:06<00:00,  6.43it/s]\n",
            "                 Class     Images  Instances      Box(P          R      mAP50  mAP50-95): 100%|██████████| 11/11 [00:01<00:00,  6.04it/s]"
          ]
        },
        {
          "output_type": "stream",
          "name": "stdout",
          "text": [
            "                   all        325        888      0.806      0.714      0.807      0.491\n"
          ]
        },
        {
          "output_type": "stream",
          "name": "stderr",
          "text": [
            "\n"
          ]
        },
        {
          "output_type": "stream",
          "name": "stdout",
          "text": [
            "\n",
            "      Epoch    GPU_mem   box_loss   cls_loss   dfl_loss  Instances       Size\n"
          ]
        },
        {
          "output_type": "stream",
          "name": "stderr",
          "text": [
            "      24/50       3.1G      1.228     0.8815      1.274         50        640: 100%|██████████| 42/42 [00:06<00:00,  6.46it/s]\n",
            "                 Class     Images  Instances      Box(P          R      mAP50  mAP50-95): 100%|██████████| 11/11 [00:01<00:00,  6.20it/s]"
          ]
        },
        {
          "output_type": "stream",
          "name": "stdout",
          "text": [
            "                   all        325        888      0.783      0.756       0.82      0.484\n"
          ]
        },
        {
          "output_type": "stream",
          "name": "stderr",
          "text": [
            "\n"
          ]
        },
        {
          "output_type": "stream",
          "name": "stdout",
          "text": [
            "\n",
            "      Epoch    GPU_mem   box_loss   cls_loss   dfl_loss  Instances       Size\n"
          ]
        },
        {
          "output_type": "stream",
          "name": "stderr",
          "text": [
            "      25/50      3.12G      1.208     0.8804       1.27         78        640: 100%|██████████| 42/42 [00:06<00:00,  6.44it/s]\n",
            "                 Class     Images  Instances      Box(P          R      mAP50  mAP50-95): 100%|██████████| 11/11 [00:01<00:00,  6.18it/s]"
          ]
        },
        {
          "output_type": "stream",
          "name": "stdout",
          "text": [
            "                   all        325        888      0.837      0.722      0.818      0.481\n"
          ]
        },
        {
          "output_type": "stream",
          "name": "stderr",
          "text": [
            "\n"
          ]
        },
        {
          "output_type": "stream",
          "name": "stdout",
          "text": [
            "\n",
            "      Epoch    GPU_mem   box_loss   cls_loss   dfl_loss  Instances       Size\n"
          ]
        },
        {
          "output_type": "stream",
          "name": "stderr",
          "text": [
            "      26/50      3.13G      1.184     0.8467      1.259         67        640: 100%|██████████| 42/42 [00:06<00:00,  6.44it/s]\n",
            "                 Class     Images  Instances      Box(P          R      mAP50  mAP50-95): 100%|██████████| 11/11 [00:01<00:00,  6.17it/s]"
          ]
        },
        {
          "output_type": "stream",
          "name": "stdout",
          "text": [
            "                   all        325        888      0.842      0.705      0.827      0.506\n"
          ]
        },
        {
          "output_type": "stream",
          "name": "stderr",
          "text": [
            "\n"
          ]
        },
        {
          "output_type": "stream",
          "name": "stdout",
          "text": [
            "\n",
            "      Epoch    GPU_mem   box_loss   cls_loss   dfl_loss  Instances       Size\n"
          ]
        },
        {
          "output_type": "stream",
          "name": "stderr",
          "text": [
            "      27/50      3.14G       1.18      0.829      1.267         54        640: 100%|██████████| 42/42 [00:06<00:00,  6.43it/s]\n",
            "                 Class     Images  Instances      Box(P          R      mAP50  mAP50-95): 100%|██████████| 11/11 [00:01<00:00,  6.08it/s]"
          ]
        },
        {
          "output_type": "stream",
          "name": "stdout",
          "text": [
            "                   all        325        888      0.794      0.765      0.824      0.502\n"
          ]
        },
        {
          "output_type": "stream",
          "name": "stderr",
          "text": [
            "\n"
          ]
        },
        {
          "output_type": "stream",
          "name": "stdout",
          "text": [
            "\n",
            "      Epoch    GPU_mem   box_loss   cls_loss   dfl_loss  Instances       Size\n"
          ]
        },
        {
          "output_type": "stream",
          "name": "stderr",
          "text": [
            "      28/50      3.16G      1.193      0.849      1.257         56        640: 100%|██████████| 42/42 [00:06<00:00,  6.45it/s]\n",
            "                 Class     Images  Instances      Box(P          R      mAP50  mAP50-95): 100%|██████████| 11/11 [00:01<00:00,  6.17it/s]"
          ]
        },
        {
          "output_type": "stream",
          "name": "stdout",
          "text": [
            "                   all        325        888      0.789      0.713      0.805      0.481\n"
          ]
        },
        {
          "output_type": "stream",
          "name": "stderr",
          "text": [
            "\n"
          ]
        },
        {
          "output_type": "stream",
          "name": "stdout",
          "text": [
            "\n",
            "      Epoch    GPU_mem   box_loss   cls_loss   dfl_loss  Instances       Size\n"
          ]
        },
        {
          "output_type": "stream",
          "name": "stderr",
          "text": [
            "      29/50      3.18G      1.145      0.817       1.25         32        640: 100%|██████████| 42/42 [00:06<00:00,  6.41it/s]\n",
            "                 Class     Images  Instances      Box(P          R      mAP50  mAP50-95): 100%|██████████| 11/11 [00:01<00:00,  6.27it/s]"
          ]
        },
        {
          "output_type": "stream",
          "name": "stdout",
          "text": [
            "                   all        325        888      0.811      0.762      0.838      0.524\n"
          ]
        },
        {
          "output_type": "stream",
          "name": "stderr",
          "text": [
            "\n"
          ]
        },
        {
          "output_type": "stream",
          "name": "stdout",
          "text": [
            "\n",
            "      Epoch    GPU_mem   box_loss   cls_loss   dfl_loss  Instances       Size\n"
          ]
        },
        {
          "output_type": "stream",
          "name": "stderr",
          "text": [
            "      30/50      3.19G      1.146      0.829      1.247         35        640: 100%|██████████| 42/42 [00:06<00:00,  6.44it/s]\n",
            "                 Class     Images  Instances      Box(P          R      mAP50  mAP50-95): 100%|██████████| 11/11 [00:01<00:00,  6.30it/s]"
          ]
        },
        {
          "output_type": "stream",
          "name": "stdout",
          "text": [
            "                   all        325        888      0.795      0.765      0.829      0.507\n"
          ]
        },
        {
          "output_type": "stream",
          "name": "stderr",
          "text": [
            "\n"
          ]
        },
        {
          "output_type": "stream",
          "name": "stdout",
          "text": [
            "\n",
            "      Epoch    GPU_mem   box_loss   cls_loss   dfl_loss  Instances       Size\n"
          ]
        },
        {
          "output_type": "stream",
          "name": "stderr",
          "text": [
            "      31/50       3.2G      1.132     0.8196      1.223         57        640: 100%|██████████| 42/42 [00:06<00:00,  6.46it/s]\n",
            "                 Class     Images  Instances      Box(P          R      mAP50  mAP50-95): 100%|██████████| 11/11 [00:01<00:00,  6.22it/s]"
          ]
        },
        {
          "output_type": "stream",
          "name": "stdout",
          "text": [
            "                   all        325        888      0.829      0.752      0.832      0.526\n"
          ]
        },
        {
          "output_type": "stream",
          "name": "stderr",
          "text": [
            "\n"
          ]
        },
        {
          "output_type": "stream",
          "name": "stdout",
          "text": [
            "\n",
            "      Epoch    GPU_mem   box_loss   cls_loss   dfl_loss  Instances       Size\n"
          ]
        },
        {
          "output_type": "stream",
          "name": "stderr",
          "text": [
            "      32/50      3.22G      1.135      0.784      1.235         49        640: 100%|██████████| 42/42 [00:06<00:00,  6.47it/s]\n",
            "                 Class     Images  Instances      Box(P          R      mAP50  mAP50-95): 100%|██████████| 11/11 [00:01<00:00,  6.29it/s]"
          ]
        },
        {
          "output_type": "stream",
          "name": "stdout",
          "text": [
            "                   all        325        888      0.808      0.762      0.843      0.525\n"
          ]
        },
        {
          "output_type": "stream",
          "name": "stderr",
          "text": [
            "\n"
          ]
        },
        {
          "output_type": "stream",
          "name": "stdout",
          "text": [
            "\n",
            "      Epoch    GPU_mem   box_loss   cls_loss   dfl_loss  Instances       Size\n"
          ]
        },
        {
          "output_type": "stream",
          "name": "stderr",
          "text": [
            "      33/50      3.23G      1.101     0.7732      1.217         53        640: 100%|██████████| 42/42 [00:06<00:00,  6.40it/s]\n",
            "                 Class     Images  Instances      Box(P          R      mAP50  mAP50-95): 100%|██████████| 11/11 [00:01<00:00,  6.10it/s]"
          ]
        },
        {
          "output_type": "stream",
          "name": "stdout",
          "text": [
            "                   all        325        888      0.848      0.743      0.842      0.508\n"
          ]
        },
        {
          "output_type": "stream",
          "name": "stderr",
          "text": [
            "\n"
          ]
        },
        {
          "output_type": "stream",
          "name": "stdout",
          "text": [
            "\n",
            "      Epoch    GPU_mem   box_loss   cls_loss   dfl_loss  Instances       Size\n"
          ]
        },
        {
          "output_type": "stream",
          "name": "stderr",
          "text": [
            "      34/50      3.25G        1.1     0.7713      1.213         55        640: 100%|██████████| 42/42 [00:06<00:00,  6.47it/s]\n",
            "                 Class     Images  Instances      Box(P          R      mAP50  mAP50-95): 100%|██████████| 11/11 [00:01<00:00,  6.26it/s]"
          ]
        },
        {
          "output_type": "stream",
          "name": "stdout",
          "text": [
            "                   all        325        888      0.838      0.759      0.845      0.532\n"
          ]
        },
        {
          "output_type": "stream",
          "name": "stderr",
          "text": [
            "\n"
          ]
        },
        {
          "output_type": "stream",
          "name": "stdout",
          "text": [
            "\n",
            "      Epoch    GPU_mem   box_loss   cls_loss   dfl_loss  Instances       Size\n"
          ]
        },
        {
          "output_type": "stream",
          "name": "stderr",
          "text": [
            "      35/50      3.26G      1.129     0.7791      1.205         64        640: 100%|██████████| 42/42 [00:06<00:00,  6.42it/s]\n",
            "                 Class     Images  Instances      Box(P          R      mAP50  mAP50-95): 100%|██████████| 11/11 [00:01<00:00,  6.17it/s]"
          ]
        },
        {
          "output_type": "stream",
          "name": "stdout",
          "text": [
            "                   all        325        888       0.83      0.774      0.856      0.539\n"
          ]
        },
        {
          "output_type": "stream",
          "name": "stderr",
          "text": [
            "\n"
          ]
        },
        {
          "output_type": "stream",
          "name": "stdout",
          "text": [
            "\n",
            "      Epoch    GPU_mem   box_loss   cls_loss   dfl_loss  Instances       Size\n"
          ]
        },
        {
          "output_type": "stream",
          "name": "stderr",
          "text": [
            "      36/50      3.28G      1.057     0.7398      1.195         39        640: 100%|██████████| 42/42 [00:06<00:00,  6.44it/s]\n",
            "                 Class     Images  Instances      Box(P          R      mAP50  mAP50-95): 100%|██████████| 11/11 [00:01<00:00,  6.21it/s]"
          ]
        },
        {
          "output_type": "stream",
          "name": "stdout",
          "text": [
            "                   all        325        888      0.841      0.764      0.849      0.539\n"
          ]
        },
        {
          "output_type": "stream",
          "name": "stderr",
          "text": [
            "\n"
          ]
        },
        {
          "output_type": "stream",
          "name": "stdout",
          "text": [
            "\n",
            "      Epoch    GPU_mem   box_loss   cls_loss   dfl_loss  Instances       Size\n"
          ]
        },
        {
          "output_type": "stream",
          "name": "stderr",
          "text": [
            "      37/50      3.29G       1.06     0.7354      1.188         49        640: 100%|██████████| 42/42 [00:06<00:00,  6.41it/s]\n",
            "                 Class     Images  Instances      Box(P          R      mAP50  mAP50-95): 100%|██████████| 11/11 [00:01<00:00,  6.26it/s]"
          ]
        },
        {
          "output_type": "stream",
          "name": "stdout",
          "text": [
            "                   all        325        888      0.872      0.747      0.851      0.538\n"
          ]
        },
        {
          "output_type": "stream",
          "name": "stderr",
          "text": [
            "\n"
          ]
        },
        {
          "output_type": "stream",
          "name": "stdout",
          "text": [
            "\n",
            "      Epoch    GPU_mem   box_loss   cls_loss   dfl_loss  Instances       Size\n"
          ]
        },
        {
          "output_type": "stream",
          "name": "stderr",
          "text": [
            "      38/50      3.31G      1.073     0.7524      1.193         61        640: 100%|██████████| 42/42 [00:06<00:00,  6.45it/s]\n",
            "                 Class     Images  Instances      Box(P          R      mAP50  mAP50-95): 100%|██████████| 11/11 [00:01<00:00,  6.11it/s]"
          ]
        },
        {
          "output_type": "stream",
          "name": "stdout",
          "text": [
            "                   all        325        888      0.849      0.749      0.843      0.527\n"
          ]
        },
        {
          "output_type": "stream",
          "name": "stderr",
          "text": [
            "\n"
          ]
        },
        {
          "output_type": "stream",
          "name": "stdout",
          "text": [
            "\n",
            "      Epoch    GPU_mem   box_loss   cls_loss   dfl_loss  Instances       Size\n"
          ]
        },
        {
          "output_type": "stream",
          "name": "stderr",
          "text": [
            "      39/50      3.32G      1.056     0.7171      1.183         35        640: 100%|██████████| 42/42 [00:06<00:00,  6.45it/s]\n",
            "                 Class     Images  Instances      Box(P          R      mAP50  mAP50-95): 100%|██████████| 11/11 [00:01<00:00,  6.23it/s]"
          ]
        },
        {
          "output_type": "stream",
          "name": "stdout",
          "text": [
            "                   all        325        888      0.848      0.759      0.845      0.525\n"
          ]
        },
        {
          "output_type": "stream",
          "name": "stderr",
          "text": [
            "\n"
          ]
        },
        {
          "output_type": "stream",
          "name": "stdout",
          "text": [
            "\n",
            "      Epoch    GPU_mem   box_loss   cls_loss   dfl_loss  Instances       Size\n"
          ]
        },
        {
          "output_type": "stream",
          "name": "stderr",
          "text": [
            "      40/50      3.34G       1.07     0.7225      1.177         38        640: 100%|██████████| 42/42 [00:06<00:00,  6.40it/s]\n",
            "                 Class     Images  Instances      Box(P          R      mAP50  mAP50-95): 100%|██████████| 11/11 [00:01<00:00,  6.27it/s]"
          ]
        },
        {
          "output_type": "stream",
          "name": "stdout",
          "text": [
            "                   all        325        888      0.811      0.804      0.865      0.548\n"
          ]
        },
        {
          "output_type": "stream",
          "name": "stderr",
          "text": [
            "\n"
          ]
        },
        {
          "output_type": "stream",
          "name": "stdout",
          "text": [
            "Closing dataloader mosaic\n",
            "\u001b[34m\u001b[1malbumentations: \u001b[0mBlur(p=0.01, blur_limit=(3, 7)), MedianBlur(p=0.01, blur_limit=(3, 7)), ToGray(p=0.01, method='weighted_average', num_output_channels=3), CLAHE(p=0.01, clip_limit=(1.0, 4.0), tile_grid_size=(8, 8))\n",
            "\n",
            "      Epoch    GPU_mem   box_loss   cls_loss   dfl_loss  Instances       Size\n"
          ]
        },
        {
          "output_type": "stream",
          "name": "stderr",
          "text": [
            "      41/50      3.35G      1.007     0.6673      1.162         17        640: 100%|██████████| 42/42 [00:07<00:00,  5.86it/s]\n",
            "                 Class     Images  Instances      Box(P          R      mAP50  mAP50-95): 100%|██████████| 11/11 [00:01<00:00,  6.28it/s]"
          ]
        },
        {
          "output_type": "stream",
          "name": "stdout",
          "text": [
            "                   all        325        888      0.811      0.778      0.848      0.538\n"
          ]
        },
        {
          "output_type": "stream",
          "name": "stderr",
          "text": [
            "\n"
          ]
        },
        {
          "output_type": "stream",
          "name": "stdout",
          "text": [
            "\n",
            "      Epoch    GPU_mem   box_loss   cls_loss   dfl_loss  Instances       Size\n"
          ]
        },
        {
          "output_type": "stream",
          "name": "stderr",
          "text": [
            "      42/50      3.37G     0.9625     0.6052      1.121         40        640: 100%|██████████| 42/42 [00:06<00:00,  6.48it/s]\n",
            "                 Class     Images  Instances      Box(P          R      mAP50  mAP50-95): 100%|██████████| 11/11 [00:01<00:00,  6.27it/s]"
          ]
        },
        {
          "output_type": "stream",
          "name": "stdout",
          "text": [
            "                   all        325        888      0.825      0.776       0.85      0.539\n"
          ]
        },
        {
          "output_type": "stream",
          "name": "stderr",
          "text": [
            "\n"
          ]
        },
        {
          "output_type": "stream",
          "name": "stdout",
          "text": [
            "\n",
            "      Epoch    GPU_mem   box_loss   cls_loss   dfl_loss  Instances       Size\n"
          ]
        },
        {
          "output_type": "stream",
          "name": "stderr",
          "text": [
            "      43/50      3.38G     0.9578     0.6038      1.133         28        640: 100%|██████████| 42/42 [00:06<00:00,  6.50it/s]\n",
            "                 Class     Images  Instances      Box(P          R      mAP50  mAP50-95): 100%|██████████| 11/11 [00:01<00:00,  6.27it/s]"
          ]
        },
        {
          "output_type": "stream",
          "name": "stdout",
          "text": [
            "                   all        325        888      0.857      0.782       0.86      0.552\n"
          ]
        },
        {
          "output_type": "stream",
          "name": "stderr",
          "text": [
            "\n"
          ]
        },
        {
          "output_type": "stream",
          "name": "stdout",
          "text": [
            "\n",
            "      Epoch    GPU_mem   box_loss   cls_loss   dfl_loss  Instances       Size\n"
          ]
        },
        {
          "output_type": "stream",
          "name": "stderr",
          "text": [
            "      44/50       3.4G      0.936     0.5624      1.114         32        640: 100%|██████████| 42/42 [00:06<00:00,  6.49it/s]\n",
            "                 Class     Images  Instances      Box(P          R      mAP50  mAP50-95): 100%|██████████| 11/11 [00:01<00:00,  6.19it/s]"
          ]
        },
        {
          "output_type": "stream",
          "name": "stdout",
          "text": [
            "                   all        325        888       0.87      0.789      0.871      0.557\n"
          ]
        },
        {
          "output_type": "stream",
          "name": "stderr",
          "text": [
            "\n"
          ]
        },
        {
          "output_type": "stream",
          "name": "stdout",
          "text": [
            "\n",
            "      Epoch    GPU_mem   box_loss   cls_loss   dfl_loss  Instances       Size\n"
          ]
        },
        {
          "output_type": "stream",
          "name": "stderr",
          "text": [
            "      45/50      3.41G     0.9203     0.5568      1.105         17        640: 100%|██████████| 42/42 [00:06<00:00,  6.48it/s]\n",
            "                 Class     Images  Instances      Box(P          R      mAP50  mAP50-95): 100%|██████████| 11/11 [00:01<00:00,  6.24it/s]"
          ]
        },
        {
          "output_type": "stream",
          "name": "stdout",
          "text": [
            "                   all        325        888      0.884      0.759      0.865      0.557\n"
          ]
        },
        {
          "output_type": "stream",
          "name": "stderr",
          "text": [
            "\n"
          ]
        },
        {
          "output_type": "stream",
          "name": "stdout",
          "text": [
            "\n",
            "      Epoch    GPU_mem   box_loss   cls_loss   dfl_loss  Instances       Size\n"
          ]
        },
        {
          "output_type": "stream",
          "name": "stderr",
          "text": [
            "      46/50      3.43G     0.9085     0.5402      1.092         39        640: 100%|██████████| 42/42 [00:06<00:00,  6.53it/s]\n",
            "                 Class     Images  Instances      Box(P          R      mAP50  mAP50-95): 100%|██████████| 11/11 [00:01<00:00,  6.24it/s]"
          ]
        },
        {
          "output_type": "stream",
          "name": "stdout",
          "text": [
            "                   all        325        888      0.873      0.783      0.875      0.562\n"
          ]
        },
        {
          "output_type": "stream",
          "name": "stderr",
          "text": [
            "\n"
          ]
        },
        {
          "output_type": "stream",
          "name": "stdout",
          "text": [
            "\n",
            "      Epoch    GPU_mem   box_loss   cls_loss   dfl_loss  Instances       Size\n"
          ]
        },
        {
          "output_type": "stream",
          "name": "stderr",
          "text": [
            "      47/50      3.44G     0.9112     0.5514      1.095         41        640: 100%|██████████| 42/42 [00:06<00:00,  6.50it/s]\n",
            "                 Class     Images  Instances      Box(P          R      mAP50  mAP50-95): 100%|██████████| 11/11 [00:01<00:00,  6.25it/s]"
          ]
        },
        {
          "output_type": "stream",
          "name": "stdout",
          "text": [
            "                   all        325        888      0.865      0.795      0.877      0.574\n"
          ]
        },
        {
          "output_type": "stream",
          "name": "stderr",
          "text": [
            "\n"
          ]
        },
        {
          "output_type": "stream",
          "name": "stdout",
          "text": [
            "\n",
            "      Epoch    GPU_mem   box_loss   cls_loss   dfl_loss  Instances       Size\n"
          ]
        },
        {
          "output_type": "stream",
          "name": "stderr",
          "text": [
            "      48/50      3.46G     0.8777     0.5443      1.075         26        640: 100%|██████████| 42/42 [00:06<00:00,  6.49it/s]\n",
            "                 Class     Images  Instances      Box(P          R      mAP50  mAP50-95): 100%|██████████| 11/11 [00:01<00:00,  6.25it/s]"
          ]
        },
        {
          "output_type": "stream",
          "name": "stdout",
          "text": [
            "                   all        325        888      0.891      0.765      0.875      0.569\n"
          ]
        },
        {
          "output_type": "stream",
          "name": "stderr",
          "text": [
            "\n"
          ]
        },
        {
          "output_type": "stream",
          "name": "stdout",
          "text": [
            "\n",
            "      Epoch    GPU_mem   box_loss   cls_loss   dfl_loss  Instances       Size\n"
          ]
        },
        {
          "output_type": "stream",
          "name": "stderr",
          "text": [
            "      49/50      3.47G     0.8773      0.532      1.082         38        640: 100%|██████████| 42/42 [00:06<00:00,  6.50it/s]\n",
            "                 Class     Images  Instances      Box(P          R      mAP50  mAP50-95): 100%|██████████| 11/11 [00:01<00:00,  6.32it/s]"
          ]
        },
        {
          "output_type": "stream",
          "name": "stdout",
          "text": [
            "                   all        325        888      0.887      0.769      0.876       0.57\n"
          ]
        },
        {
          "output_type": "stream",
          "name": "stderr",
          "text": [
            "\n"
          ]
        },
        {
          "output_type": "stream",
          "name": "stdout",
          "text": [
            "\n",
            "      Epoch    GPU_mem   box_loss   cls_loss   dfl_loss  Instances       Size\n"
          ]
        },
        {
          "output_type": "stream",
          "name": "stderr",
          "text": [
            "      50/50      3.48G     0.8734     0.5198      1.071         33        640: 100%|██████████| 42/42 [00:06<00:00,  6.51it/s]\n",
            "                 Class     Images  Instances      Box(P          R      mAP50  mAP50-95): 100%|██████████| 11/11 [00:01<00:00,  6.06it/s]"
          ]
        },
        {
          "output_type": "stream",
          "name": "stdout",
          "text": [
            "                   all        325        888        0.9      0.759      0.876      0.571\n"
          ]
        },
        {
          "output_type": "stream",
          "name": "stderr",
          "text": [
            "\n"
          ]
        },
        {
          "output_type": "stream",
          "name": "stdout",
          "text": [
            "\n",
            "50 epochs completed in 0.120 hours.\n",
            "Optimizer stripped from runs/detect/pothole-yolov11n/weights/last.pt, 5.5MB\n",
            "Optimizer stripped from runs/detect/pothole-yolov11n/weights/best.pt, 5.5MB\n",
            "\n",
            "Validating runs/detect/pothole-yolov11n/weights/best.pt...\n",
            "Ultralytics 8.3.171 🚀 Python-3.11.13 torch-2.6.0+cu124 CUDA:0 (Tesla T4, 15095MiB)\n",
            "YOLO11n summary (fused): 100 layers, 2,582,542 parameters, 0 gradients, 6.3 GFLOPs\n"
          ]
        },
        {
          "output_type": "stream",
          "name": "stderr",
          "text": [
            "                 Class     Images  Instances      Box(P          R      mAP50  mAP50-95): 100%|██████████| 11/11 [00:02<00:00,  4.44it/s]\n"
          ]
        },
        {
          "output_type": "stream",
          "name": "stdout",
          "text": [
            "                   all        325        888      0.867      0.795      0.877      0.574\n",
            "               Pothole        325        888      0.867      0.795      0.877      0.574\n",
            "Speed: 0.2ms preprocess, 2.2ms inference, 0.0ms loss, 3.0ms postprocess per image\n",
            "Results saved to \u001b[1mruns/detect/pothole-yolov11n\u001b[0m\n"
          ]
        },
        {
          "output_type": "execute_result",
          "data": {
            "text/plain": [
              "ultralytics.utils.metrics.DetMetrics object with attributes:\n",
              "\n",
              "ap_class_index: array([0])\n",
              "box: ultralytics.utils.metrics.Metric object\n",
              "confusion_matrix: <ultralytics.utils.metrics.ConfusionMatrix object at 0x7da27142af10>\n",
              "curves: ['Precision-Recall(B)', 'F1-Confidence(B)', 'Precision-Confidence(B)', 'Recall-Confidence(B)']\n",
              "curves_results: [[array([          0,    0.001001,    0.002002,    0.003003,    0.004004,    0.005005,    0.006006,    0.007007,    0.008008,    0.009009,     0.01001,    0.011011,    0.012012,    0.013013,    0.014014,    0.015015,    0.016016,    0.017017,    0.018018,    0.019019,     0.02002,    0.021021,    0.022022,    0.023023,\n",
              "          0.024024,    0.025025,    0.026026,    0.027027,    0.028028,    0.029029,     0.03003,    0.031031,    0.032032,    0.033033,    0.034034,    0.035035,    0.036036,    0.037037,    0.038038,    0.039039,     0.04004,    0.041041,    0.042042,    0.043043,    0.044044,    0.045045,    0.046046,    0.047047,\n",
              "          0.048048,    0.049049,     0.05005,    0.051051,    0.052052,    0.053053,    0.054054,    0.055055,    0.056056,    0.057057,    0.058058,    0.059059,     0.06006,    0.061061,    0.062062,    0.063063,    0.064064,    0.065065,    0.066066,    0.067067,    0.068068,    0.069069,     0.07007,    0.071071,\n",
              "          0.072072,    0.073073,    0.074074,    0.075075,    0.076076,    0.077077,    0.078078,    0.079079,     0.08008,    0.081081,    0.082082,    0.083083,    0.084084,    0.085085,    0.086086,    0.087087,    0.088088,    0.089089,     0.09009,    0.091091,    0.092092,    0.093093,    0.094094,    0.095095,\n",
              "          0.096096,    0.097097,    0.098098,    0.099099,      0.1001,      0.1011,      0.1021,      0.1031,      0.1041,     0.10511,     0.10611,     0.10711,     0.10811,     0.10911,     0.11011,     0.11111,     0.11211,     0.11311,     0.11411,     0.11512,     0.11612,     0.11712,     0.11812,     0.11912,\n",
              "           0.12012,     0.12112,     0.12212,     0.12312,     0.12412,     0.12513,     0.12613,     0.12713,     0.12813,     0.12913,     0.13013,     0.13113,     0.13213,     0.13313,     0.13413,     0.13514,     0.13614,     0.13714,     0.13814,     0.13914,     0.14014,     0.14114,     0.14214,     0.14314,\n",
              "           0.14414,     0.14515,     0.14615,     0.14715,     0.14815,     0.14915,     0.15015,     0.15115,     0.15215,     0.15315,     0.15415,     0.15516,     0.15616,     0.15716,     0.15816,     0.15916,     0.16016,     0.16116,     0.16216,     0.16316,     0.16416,     0.16517,     0.16617,     0.16717,\n",
              "           0.16817,     0.16917,     0.17017,     0.17117,     0.17217,     0.17317,     0.17417,     0.17518,     0.17618,     0.17718,     0.17818,     0.17918,     0.18018,     0.18118,     0.18218,     0.18318,     0.18418,     0.18519,     0.18619,     0.18719,     0.18819,     0.18919,     0.19019,     0.19119,\n",
              "           0.19219,     0.19319,     0.19419,      0.1952,      0.1962,      0.1972,      0.1982,      0.1992,      0.2002,      0.2012,      0.2022,      0.2032,      0.2042,     0.20521,     0.20621,     0.20721,     0.20821,     0.20921,     0.21021,     0.21121,     0.21221,     0.21321,     0.21421,     0.21522,\n",
              "           0.21622,     0.21722,     0.21822,     0.21922,     0.22022,     0.22122,     0.22222,     0.22322,     0.22422,     0.22523,     0.22623,     0.22723,     0.22823,     0.22923,     0.23023,     0.23123,     0.23223,     0.23323,     0.23423,     0.23524,     0.23624,     0.23724,     0.23824,     0.23924,\n",
              "           0.24024,     0.24124,     0.24224,     0.24324,     0.24424,     0.24525,     0.24625,     0.24725,     0.24825,     0.24925,     0.25025,     0.25125,     0.25225,     0.25325,     0.25425,     0.25526,     0.25626,     0.25726,     0.25826,     0.25926,     0.26026,     0.26126,     0.26226,     0.26326,\n",
              "           0.26426,     0.26527,     0.26627,     0.26727,     0.26827,     0.26927,     0.27027,     0.27127,     0.27227,     0.27327,     0.27427,     0.27528,     0.27628,     0.27728,     0.27828,     0.27928,     0.28028,     0.28128,     0.28228,     0.28328,     0.28428,     0.28529,     0.28629,     0.28729,\n",
              "           0.28829,     0.28929,     0.29029,     0.29129,     0.29229,     0.29329,     0.29429,      0.2953,      0.2963,      0.2973,      0.2983,      0.2993,      0.3003,      0.3013,      0.3023,      0.3033,      0.3043,     0.30531,     0.30631,     0.30731,     0.30831,     0.30931,     0.31031,     0.31131,\n",
              "           0.31231,     0.31331,     0.31431,     0.31532,     0.31632,     0.31732,     0.31832,     0.31932,     0.32032,     0.32132,     0.32232,     0.32332,     0.32432,     0.32533,     0.32633,     0.32733,     0.32833,     0.32933,     0.33033,     0.33133,     0.33233,     0.33333,     0.33433,     0.33534,\n",
              "           0.33634,     0.33734,     0.33834,     0.33934,     0.34034,     0.34134,     0.34234,     0.34334,     0.34434,     0.34535,     0.34635,     0.34735,     0.34835,     0.34935,     0.35035,     0.35135,     0.35235,     0.35335,     0.35435,     0.35536,     0.35636,     0.35736,     0.35836,     0.35936,\n",
              "           0.36036,     0.36136,     0.36236,     0.36336,     0.36436,     0.36537,     0.36637,     0.36737,     0.36837,     0.36937,     0.37037,     0.37137,     0.37237,     0.37337,     0.37437,     0.37538,     0.37638,     0.37738,     0.37838,     0.37938,     0.38038,     0.38138,     0.38238,     0.38338,\n",
              "           0.38438,     0.38539,     0.38639,     0.38739,     0.38839,     0.38939,     0.39039,     0.39139,     0.39239,     0.39339,     0.39439,      0.3954,      0.3964,      0.3974,      0.3984,      0.3994,      0.4004,      0.4014,      0.4024,      0.4034,      0.4044,     0.40541,     0.40641,     0.40741,\n",
              "           0.40841,     0.40941,     0.41041,     0.41141,     0.41241,     0.41341,     0.41441,     0.41542,     0.41642,     0.41742,     0.41842,     0.41942,     0.42042,     0.42142,     0.42242,     0.42342,     0.42442,     0.42543,     0.42643,     0.42743,     0.42843,     0.42943,     0.43043,     0.43143,\n",
              "           0.43243,     0.43343,     0.43443,     0.43544,     0.43644,     0.43744,     0.43844,     0.43944,     0.44044,     0.44144,     0.44244,     0.44344,     0.44444,     0.44545,     0.44645,     0.44745,     0.44845,     0.44945,     0.45045,     0.45145,     0.45245,     0.45345,     0.45445,     0.45546,\n",
              "           0.45646,     0.45746,     0.45846,     0.45946,     0.46046,     0.46146,     0.46246,     0.46346,     0.46446,     0.46547,     0.46647,     0.46747,     0.46847,     0.46947,     0.47047,     0.47147,     0.47247,     0.47347,     0.47447,     0.47548,     0.47648,     0.47748,     0.47848,     0.47948,\n",
              "           0.48048,     0.48148,     0.48248,     0.48348,     0.48448,     0.48549,     0.48649,     0.48749,     0.48849,     0.48949,     0.49049,     0.49149,     0.49249,     0.49349,     0.49449,      0.4955,      0.4965,      0.4975,      0.4985,      0.4995,      0.5005,      0.5015,      0.5025,      0.5035,\n",
              "            0.5045,     0.50551,     0.50651,     0.50751,     0.50851,     0.50951,     0.51051,     0.51151,     0.51251,     0.51351,     0.51451,     0.51552,     0.51652,     0.51752,     0.51852,     0.51952,     0.52052,     0.52152,     0.52252,     0.52352,     0.52452,     0.52553,     0.52653,     0.52753,\n",
              "           0.52853,     0.52953,     0.53053,     0.53153,     0.53253,     0.53353,     0.53453,     0.53554,     0.53654,     0.53754,     0.53854,     0.53954,     0.54054,     0.54154,     0.54254,     0.54354,     0.54454,     0.54555,     0.54655,     0.54755,     0.54855,     0.54955,     0.55055,     0.55155,\n",
              "           0.55255,     0.55355,     0.55455,     0.55556,     0.55656,     0.55756,     0.55856,     0.55956,     0.56056,     0.56156,     0.56256,     0.56356,     0.56456,     0.56557,     0.56657,     0.56757,     0.56857,     0.56957,     0.57057,     0.57157,     0.57257,     0.57357,     0.57457,     0.57558,\n",
              "           0.57658,     0.57758,     0.57858,     0.57958,     0.58058,     0.58158,     0.58258,     0.58358,     0.58458,     0.58559,     0.58659,     0.58759,     0.58859,     0.58959,     0.59059,     0.59159,     0.59259,     0.59359,     0.59459,      0.5956,      0.5966,      0.5976,      0.5986,      0.5996,\n",
              "            0.6006,      0.6016,      0.6026,      0.6036,      0.6046,     0.60561,     0.60661,     0.60761,     0.60861,     0.60961,     0.61061,     0.61161,     0.61261,     0.61361,     0.61461,     0.61562,     0.61662,     0.61762,     0.61862,     0.61962,     0.62062,     0.62162,     0.62262,     0.62362,\n",
              "           0.62462,     0.62563,     0.62663,     0.62763,     0.62863,     0.62963,     0.63063,     0.63163,     0.63263,     0.63363,     0.63463,     0.63564,     0.63664,     0.63764,     0.63864,     0.63964,     0.64064,     0.64164,     0.64264,     0.64364,     0.64464,     0.64565,     0.64665,     0.64765,\n",
              "           0.64865,     0.64965,     0.65065,     0.65165,     0.65265,     0.65365,     0.65465,     0.65566,     0.65666,     0.65766,     0.65866,     0.65966,     0.66066,     0.66166,     0.66266,     0.66366,     0.66466,     0.66567,     0.66667,     0.66767,     0.66867,     0.66967,     0.67067,     0.67167,\n",
              "           0.67267,     0.67367,     0.67467,     0.67568,     0.67668,     0.67768,     0.67868,     0.67968,     0.68068,     0.68168,     0.68268,     0.68368,     0.68468,     0.68569,     0.68669,     0.68769,     0.68869,     0.68969,     0.69069,     0.69169,     0.69269,     0.69369,     0.69469,      0.6957,\n",
              "            0.6967,      0.6977,      0.6987,      0.6997,      0.7007,      0.7017,      0.7027,      0.7037,      0.7047,     0.70571,     0.70671,     0.70771,     0.70871,     0.70971,     0.71071,     0.71171,     0.71271,     0.71371,     0.71471,     0.71572,     0.71672,     0.71772,     0.71872,     0.71972,\n",
              "           0.72072,     0.72172,     0.72272,     0.72372,     0.72472,     0.72573,     0.72673,     0.72773,     0.72873,     0.72973,     0.73073,     0.73173,     0.73273,     0.73373,     0.73473,     0.73574,     0.73674,     0.73774,     0.73874,     0.73974,     0.74074,     0.74174,     0.74274,     0.74374,\n",
              "           0.74474,     0.74575,     0.74675,     0.74775,     0.74875,     0.74975,     0.75075,     0.75175,     0.75275,     0.75375,     0.75475,     0.75576,     0.75676,     0.75776,     0.75876,     0.75976,     0.76076,     0.76176,     0.76276,     0.76376,     0.76476,     0.76577,     0.76677,     0.76777,\n",
              "           0.76877,     0.76977,     0.77077,     0.77177,     0.77277,     0.77377,     0.77477,     0.77578,     0.77678,     0.77778,     0.77878,     0.77978,     0.78078,     0.78178,     0.78278,     0.78378,     0.78478,     0.78579,     0.78679,     0.78779,     0.78879,     0.78979,     0.79079,     0.79179,\n",
              "           0.79279,     0.79379,     0.79479,      0.7958,      0.7968,      0.7978,      0.7988,      0.7998,      0.8008,      0.8018,      0.8028,      0.8038,      0.8048,     0.80581,     0.80681,     0.80781,     0.80881,     0.80981,     0.81081,     0.81181,     0.81281,     0.81381,     0.81481,     0.81582,\n",
              "           0.81682,     0.81782,     0.81882,     0.81982,     0.82082,     0.82182,     0.82282,     0.82382,     0.82482,     0.82583,     0.82683,     0.82783,     0.82883,     0.82983,     0.83083,     0.83183,     0.83283,     0.83383,     0.83483,     0.83584,     0.83684,     0.83784,     0.83884,     0.83984,\n",
              "           0.84084,     0.84184,     0.84284,     0.84384,     0.84484,     0.84585,     0.84685,     0.84785,     0.84885,     0.84985,     0.85085,     0.85185,     0.85285,     0.85385,     0.85485,     0.85586,     0.85686,     0.85786,     0.85886,     0.85986,     0.86086,     0.86186,     0.86286,     0.86386,\n",
              "           0.86486,     0.86587,     0.86687,     0.86787,     0.86887,     0.86987,     0.87087,     0.87187,     0.87287,     0.87387,     0.87487,     0.87588,     0.87688,     0.87788,     0.87888,     0.87988,     0.88088,     0.88188,     0.88288,     0.88388,     0.88488,     0.88589,     0.88689,     0.88789,\n",
              "           0.88889,     0.88989,     0.89089,     0.89189,     0.89289,     0.89389,     0.89489,      0.8959,      0.8969,      0.8979,      0.8989,      0.8999,      0.9009,      0.9019,      0.9029,      0.9039,      0.9049,     0.90591,     0.90691,     0.90791,     0.90891,     0.90991,     0.91091,     0.91191,\n",
              "           0.91291,     0.91391,     0.91491,     0.91592,     0.91692,     0.91792,     0.91892,     0.91992,     0.92092,     0.92192,     0.92292,     0.92392,     0.92492,     0.92593,     0.92693,     0.92793,     0.92893,     0.92993,     0.93093,     0.93193,     0.93293,     0.93393,     0.93493,     0.93594,\n",
              "           0.93694,     0.93794,     0.93894,     0.93994,     0.94094,     0.94194,     0.94294,     0.94394,     0.94494,     0.94595,     0.94695,     0.94795,     0.94895,     0.94995,     0.95095,     0.95195,     0.95295,     0.95395,     0.95495,     0.95596,     0.95696,     0.95796,     0.95896,     0.95996,\n",
              "           0.96096,     0.96196,     0.96296,     0.96396,     0.96496,     0.96597,     0.96697,     0.96797,     0.96897,     0.96997,     0.97097,     0.97197,     0.97297,     0.97397,     0.97497,     0.97598,     0.97698,     0.97798,     0.97898,     0.97998,     0.98098,     0.98198,     0.98298,     0.98398,\n",
              "           0.98498,     0.98599,     0.98699,     0.98799,     0.98899,     0.98999,     0.99099,     0.99199,     0.99299,     0.99399,     0.99499,       0.996,       0.997,       0.998,       0.999,           1]), array([[          1,           1,           1,           1,           1,           1,           1,           1,           1,           1,           1,           1,           1,           1,           1,           1,           1,           1,           1,           1,           1,           1,           1,\n",
              "                  1,           1,           1,           1,           1,           1,           1,           1,           1,           1,           1,           1,           1,           1,           1,           1,           1,           1,           1,           1,           1,           1,           1,\n",
              "                  1,           1,           1,           1,           1,           1,           1,           1,           1,           1,           1,           1,           1,           1,           1,           1,           1,           1,           1,           1,           1,           1,           1,\n",
              "                  1,           1,           1,           1,           1,           1,           1,           1,           1,           1,           1,           1,           1,           1,           1,           1,           1,           1,           1,           1,           1,           1,           1,\n",
              "                  1,           1,     0.99206,     0.99206,     0.99206,     0.99206,     0.99206,     0.99206,     0.99206,     0.99206,     0.99206,     0.99206,     0.99206,     0.99206,     0.99206,     0.99206,     0.99206,     0.99206,     0.99206,     0.99206,     0.99206,     0.99206,     0.99206,\n",
              "            0.99206,     0.99206,     0.99206,     0.99206,     0.99206,     0.99206,     0.99206,     0.99206,     0.99206,     0.99206,     0.99206,     0.99206,     0.99206,     0.99206,     0.99206,     0.99206,     0.99206,     0.99206,     0.99206,     0.99206,     0.99206,     0.99206,     0.99206,\n",
              "            0.99206,     0.99206,     0.99206,      0.9919,      0.9919,      0.9919,      0.9919,      0.9919,      0.9919,      0.9919,      0.9919,      0.9919,      0.9919,      0.9919,      0.9919,      0.9919,      0.9919,      0.9919,      0.9919,      0.9919,      0.9919,      0.9919,      0.9919,\n",
              "             0.9919,      0.9919,      0.9919,      0.9919,      0.9919,      0.9919,      0.9919,      0.9919,      0.9919,      0.9919,      0.9919,      0.9919,      0.9919,      0.9919,      0.9919,      0.9919,      0.9919,      0.9919,      0.9919,      0.9919,      0.9919,      0.9919,      0.9919,\n",
              "             0.9919,      0.9919,      0.9919,      0.9919,      0.9919,      0.9919,      0.9919,      0.9919,      0.9919,      0.9919,      0.9919,      0.9919,      0.9919,      0.9919,      0.9919,      0.9919,      0.9919,      0.9919,      0.9919,      0.9919,      0.9919,      0.9919,      0.9919,\n",
              "             0.9919,      0.9919,      0.9919,      0.9919,      0.9919,      0.9919,      0.9919,      0.9919,      0.9919,      0.9919,      0.9919,      0.9919,      0.9919,      0.9919,      0.9919,      0.9919,      0.9919,      0.9919,      0.9919,      0.9919,      0.9919,      0.9919,      0.9919,\n",
              "             0.9919,      0.9919,      0.9919,      0.9919,      0.9919,      0.9919,      0.9919,      0.9919,      0.9919,      0.9919,      0.9919,      0.9919,      0.9919,      0.9919,      0.9919,      0.9919,      0.9919,      0.9919,      0.9919,      0.9919,      0.9919,      0.9919,      0.9919,\n",
              "             0.9919,      0.9919,      0.9919,      0.9919,      0.9919,      0.9919,      0.9919,      0.9919,      0.9919,      0.9919,      0.9919,      0.9919,      0.9919,      0.9919,      0.9919,      0.9919,      0.9919,      0.9919,      0.9919,      0.9919,      0.9919,      0.9919,      0.9919,\n",
              "            0.99112,     0.99112,     0.99112,     0.99112,     0.99112,     0.99112,     0.99112,     0.99112,     0.99112,     0.99112,     0.99112,     0.99112,     0.99112,     0.99112,     0.99112,     0.99112,     0.99112,     0.99112,     0.99112,     0.99112,     0.99112,     0.99112,     0.99112,\n",
              "            0.99112,     0.99112,     0.99112,     0.99112,     0.99112,     0.99112,     0.99112,     0.99112,     0.99112,     0.99112,     0.99112,     0.99112,     0.99112,     0.99112,     0.99112,     0.99112,     0.99112,     0.99112,     0.99112,     0.99112,     0.99112,     0.99112,     0.99112,\n",
              "            0.99112,     0.99112,     0.99112,     0.99112,     0.99112,     0.99112,     0.99112,     0.99112,     0.99112,     0.99112,     0.99112,     0.99112,     0.99112,     0.99112,     0.99112,     0.99112,     0.99112,     0.99112,     0.99112,     0.99112,     0.99112,     0.99112,     0.99112,\n",
              "            0.99112,     0.99112,     0.99112,     0.99112,     0.99112,     0.99112,     0.99112,     0.99112,     0.99112,     0.99112,     0.99112,     0.99112,     0.99112,     0.99112,     0.99112,     0.99112,     0.99112,     0.99112,     0.99112,     0.99112,     0.99112,     0.99112,     0.99112,\n",
              "            0.99112,     0.99112,     0.99112,     0.99112,     0.99112,     0.99112,     0.99112,     0.99112,     0.99112,     0.98847,     0.98847,     0.98847,     0.98847,     0.98847,     0.98847,     0.98847,     0.98847,     0.98847,     0.98667,     0.98667,     0.98667,     0.98667,     0.98667,\n",
              "            0.98667,     0.98667,     0.98667,     0.98667,     0.98667,     0.98667,     0.98667,     0.98667,     0.98667,     0.98667,     0.98667,     0.98667,     0.98667,     0.98667,     0.98667,     0.98667,     0.98667,     0.98667,     0.98667,     0.98667,     0.98667,     0.98667,     0.98667,\n",
              "            0.98667,     0.98667,     0.98667,     0.98429,     0.98429,     0.98429,     0.98429,     0.98429,     0.98429,     0.98187,     0.98187,     0.98187,     0.98187,     0.98082,     0.98082,     0.98082,     0.98082,     0.98082,     0.98082,     0.98082,     0.98082,     0.98082,     0.98082,\n",
              "            0.98082,     0.98082,     0.98082,     0.98082,     0.98082,     0.98082,     0.98082,     0.98082,     0.98082,     0.98082,     0.98082,     0.98082,     0.98082,     0.98082,     0.98082,     0.98082,     0.98082,     0.98082,     0.98082,     0.98082,     0.98082,     0.98082,     0.98082,\n",
              "            0.98082,     0.97945,     0.97945,     0.97945,     0.97945,     0.97945,     0.97945,     0.97945,     0.97945,     0.97945,     0.97945,     0.97945,     0.97945,     0.97945,     0.97945,     0.97945,     0.97945,     0.97945,     0.97945,     0.97945,     0.97945,     0.97945,     0.97945,\n",
              "            0.97768,     0.97768,     0.97768,     0.97768,     0.97768,     0.97768,     0.97768,     0.97768,     0.97768,     0.97768,     0.97566,     0.97566,     0.97566,     0.97566,     0.97374,     0.97374,     0.97374,     0.97374,     0.97246,     0.97246,     0.97246,     0.97246,     0.97246,\n",
              "            0.97246,     0.97246,     0.97246,     0.97246,     0.97246,     0.97246,     0.97246,     0.97246,     0.97246,     0.97246,     0.97246,     0.97036,     0.97036,     0.97036,     0.97036,     0.97036,     0.97036,     0.97036,     0.97036,     0.97036,     0.97036,     0.97036,     0.97036,\n",
              "            0.97036,     0.97036,     0.97036,     0.97036,     0.97036,     0.97036,     0.97036,     0.97036,     0.97036,     0.97036,     0.97036,     0.97036,     0.97036,     0.97036,     0.97036,     0.97036,     0.97036,     0.97036,     0.97036,     0.97036,     0.97036,     0.97036,     0.97036,\n",
              "            0.97036,      0.9668,      0.9668,      0.9668,      0.9668,     0.96558,     0.96558,     0.96558,     0.96558,     0.96558,     0.96558,     0.96558,     0.96558,     0.96558,     0.96558,     0.96558,     0.96558,     0.96409,     0.96409,     0.96409,     0.96409,     0.96409,     0.96409,\n",
              "            0.96409,     0.96409,     0.96409,     0.96409,     0.96409,     0.96409,     0.96409,     0.96409,     0.96409,     0.96409,     0.96409,     0.96409,     0.96409,     0.96409,     0.96409,     0.96409,     0.96409,     0.96409,     0.96409,     0.96409,     0.96409,     0.96409,     0.96409,\n",
              "            0.96409,     0.96409,     0.96409,     0.96409,     0.96409,     0.96409,     0.96409,     0.96078,     0.96078,        0.96,        0.96,        0.96,        0.96,        0.96,        0.96,        0.96,        0.96,        0.96,        0.96,        0.96,        0.96,        0.96,        0.96,\n",
              "            0.95922,     0.95922,     0.95922,     0.95922,     0.95922,     0.95922,     0.95922,     0.95922,     0.95922,     0.95922,     0.95922,     0.95922,     0.95922,     0.95922,     0.95922,     0.95922,     0.95922,     0.95922,     0.95922,     0.95922,     0.95922,     0.95922,     0.95922,\n",
              "            0.95922,     0.95922,     0.95922,     0.95922,     0.95922,     0.95922,     0.95922,     0.95922,     0.95922,     0.95922,     0.95922,     0.95922,     0.95922,     0.95922,     0.95922,     0.95922,     0.95922,     0.95922,     0.95772,      0.9533,      0.9533,      0.9533,     0.95215,\n",
              "            0.95215,     0.95215,     0.95215,     0.95215,     0.95215,     0.95072,     0.94969,     0.94969,     0.94969,     0.94969,     0.94969,     0.94969,     0.94969,     0.94828,     0.94729,     0.94729,     0.94729,     0.94729,     0.94729,     0.94729,     0.94729,     0.94487,     0.94487,\n",
              "            0.94487,     0.94487,     0.94487,     0.94487,     0.94487,     0.94082,     0.94082,     0.94082,     0.93985,     0.93985,     0.93985,     0.93985,     0.93985,     0.93985,     0.93572,     0.93165,      0.9292,      0.9292,      0.9292,     0.92701,     0.92701,     0.92701,     0.92701,\n",
              "            0.92701,     0.92701,     0.92619,     0.92619,     0.92619,     0.92619,     0.92619,     0.92297,     0.92297,     0.92297,     0.92297,     0.92297,     0.92297,     0.92297,     0.92297,     0.92188,     0.92188,     0.92188,     0.92068,     0.92028,     0.92028,     0.92028,     0.92028,\n",
              "            0.92028,     0.92028,     0.92028,     0.92028,     0.92028,     0.91911,     0.91794,      0.9169,      0.9169,     0.91197,     0.91084,     0.90984,     0.90984,     0.90984,     0.90502,     0.90418,     0.90418,     0.90418,      0.9031,     0.90201,     0.90094,     0.90094,     0.89761,\n",
              "            0.89761,     0.89669,     0.89669,     0.89578,     0.89578,     0.89474,     0.89384,     0.89384,     0.89384,     0.89062,     0.89062,     0.88731,      0.8863,     0.88531,     0.88318,      0.8822,      0.8822,     0.88153,     0.88153,     0.88153,     0.88131,     0.88131,     0.88131,\n",
              "            0.88131,     0.88131,     0.88131,     0.88131,      0.8805,      0.8805,     0.87625,     0.87531,     0.87221,     0.87129,      0.8693,      0.8693,     0.86732,     0.85922,     0.85922,     0.85354,     0.85354,     0.85354,     0.85287,     0.85287,     0.85287,     0.85203,     0.85119,\n",
              "            0.84852,     0.84852,     0.84371,     0.84291,     0.83837,     0.83837,     0.83837,      0.8318,     0.83103,     0.82554,      0.8248,     0.81941,     0.81777,     0.81614,        0.81,        0.81,     0.80931,     0.80351,     0.80351,     0.80197,     0.79956,     0.79805,     0.79418,\n",
              "            0.79418,     0.79418,      0.7893,     0.78785,     0.78082,     0.78082,     0.77534,     0.77419,     0.77419,     0.77282,     0.77282,     0.77226,     0.76955,     0.76955,     0.76742,     0.76555,     0.76555,     0.75755,     0.75755,     0.75755,     0.75703,     0.75651,     0.75249,\n",
              "            0.75249,     0.74314,     0.72911,     0.72867,     0.72407,     0.72407,     0.72296,     0.72254,     0.71872,     0.71229,     0.71123,     0.70357,     0.70357,     0.70357,     0.70357,     0.69873,     0.68901,     0.68622,     0.68106,      0.6745,      0.6745,      0.6742,     0.66925,\n",
              "            0.66925,     0.66781,     0.66354,     0.65823,     0.65685,      0.6533,     0.65033,      0.6474,     0.64503,     0.64503,     0.64007,     0.63622,     0.62739,     0.62322,     0.62254,      0.6094,     0.59864,     0.59789,     0.59789,     0.59789,     0.59461,      0.5905,     0.58517,\n",
              "            0.58504,     0.57194,     0.57061,     0.56648,     0.56648,     0.56439,     0.56351,     0.53564,     0.53241,     0.52474,     0.52132,     0.51928,     0.51496,     0.51496,     0.49754,     0.49003,     0.48047,     0.47572,     0.47134,     0.46071,     0.44865,     0.44865,     0.44865,\n",
              "             0.4303,      0.4259,     0.42246,      0.4105,     0.40373,     0.40244,     0.39388,     0.38787,     0.38787,     0.38627,     0.38627,     0.38565,     0.37993,     0.37848,      0.3767,     0.37143,     0.36648,     0.36648,     0.36324,       0.329,     0.31078,     0.29681,     0.28997,\n",
              "            0.28951,     0.28028,     0.26167,     0.26167,     0.25916,     0.25522,     0.23412,     0.22838,     0.21626,     0.21519,     0.21323,     0.20682,     0.20682,     0.19874,     0.19416,     0.18912,     0.16871,      0.1551,     0.14932,     0.14713,     0.13666,     0.13666,     0.11887,\n",
              "            0.11466,     0.11379,     0.10362,     0.10089,    0.098279,     0.09489,    0.091501,    0.088112,    0.084723,    0.081334,    0.077945,    0.074556,    0.071167,    0.067778,     0.06439,    0.061001,    0.057612,    0.054223,    0.050834,    0.047445,    0.044056,    0.040667,    0.037278,\n",
              "           0.033889,      0.0305,    0.027111,    0.023722,    0.020334,    0.016945,    0.013556,    0.010167,   0.0067778,   0.0033889,           0]]), 'Recall', 'Precision'], [array([          0,    0.001001,    0.002002,    0.003003,    0.004004,    0.005005,    0.006006,    0.007007,    0.008008,    0.009009,     0.01001,    0.011011,    0.012012,    0.013013,    0.014014,    0.015015,    0.016016,    0.017017,    0.018018,    0.019019,     0.02002,    0.021021,    0.022022,    0.023023,\n",
              "          0.024024,    0.025025,    0.026026,    0.027027,    0.028028,    0.029029,     0.03003,    0.031031,    0.032032,    0.033033,    0.034034,    0.035035,    0.036036,    0.037037,    0.038038,    0.039039,     0.04004,    0.041041,    0.042042,    0.043043,    0.044044,    0.045045,    0.046046,    0.047047,\n",
              "          0.048048,    0.049049,     0.05005,    0.051051,    0.052052,    0.053053,    0.054054,    0.055055,    0.056056,    0.057057,    0.058058,    0.059059,     0.06006,    0.061061,    0.062062,    0.063063,    0.064064,    0.065065,    0.066066,    0.067067,    0.068068,    0.069069,     0.07007,    0.071071,\n",
              "          0.072072,    0.073073,    0.074074,    0.075075,    0.076076,    0.077077,    0.078078,    0.079079,     0.08008,    0.081081,    0.082082,    0.083083,    0.084084,    0.085085,    0.086086,    0.087087,    0.088088,    0.089089,     0.09009,    0.091091,    0.092092,    0.093093,    0.094094,    0.095095,\n",
              "          0.096096,    0.097097,    0.098098,    0.099099,      0.1001,      0.1011,      0.1021,      0.1031,      0.1041,     0.10511,     0.10611,     0.10711,     0.10811,     0.10911,     0.11011,     0.11111,     0.11211,     0.11311,     0.11411,     0.11512,     0.11612,     0.11712,     0.11812,     0.11912,\n",
              "           0.12012,     0.12112,     0.12212,     0.12312,     0.12412,     0.12513,     0.12613,     0.12713,     0.12813,     0.12913,     0.13013,     0.13113,     0.13213,     0.13313,     0.13413,     0.13514,     0.13614,     0.13714,     0.13814,     0.13914,     0.14014,     0.14114,     0.14214,     0.14314,\n",
              "           0.14414,     0.14515,     0.14615,     0.14715,     0.14815,     0.14915,     0.15015,     0.15115,     0.15215,     0.15315,     0.15415,     0.15516,     0.15616,     0.15716,     0.15816,     0.15916,     0.16016,     0.16116,     0.16216,     0.16316,     0.16416,     0.16517,     0.16617,     0.16717,\n",
              "           0.16817,     0.16917,     0.17017,     0.17117,     0.17217,     0.17317,     0.17417,     0.17518,     0.17618,     0.17718,     0.17818,     0.17918,     0.18018,     0.18118,     0.18218,     0.18318,     0.18418,     0.18519,     0.18619,     0.18719,     0.18819,     0.18919,     0.19019,     0.19119,\n",
              "           0.19219,     0.19319,     0.19419,      0.1952,      0.1962,      0.1972,      0.1982,      0.1992,      0.2002,      0.2012,      0.2022,      0.2032,      0.2042,     0.20521,     0.20621,     0.20721,     0.20821,     0.20921,     0.21021,     0.21121,     0.21221,     0.21321,     0.21421,     0.21522,\n",
              "           0.21622,     0.21722,     0.21822,     0.21922,     0.22022,     0.22122,     0.22222,     0.22322,     0.22422,     0.22523,     0.22623,     0.22723,     0.22823,     0.22923,     0.23023,     0.23123,     0.23223,     0.23323,     0.23423,     0.23524,     0.23624,     0.23724,     0.23824,     0.23924,\n",
              "           0.24024,     0.24124,     0.24224,     0.24324,     0.24424,     0.24525,     0.24625,     0.24725,     0.24825,     0.24925,     0.25025,     0.25125,     0.25225,     0.25325,     0.25425,     0.25526,     0.25626,     0.25726,     0.25826,     0.25926,     0.26026,     0.26126,     0.26226,     0.26326,\n",
              "           0.26426,     0.26527,     0.26627,     0.26727,     0.26827,     0.26927,     0.27027,     0.27127,     0.27227,     0.27327,     0.27427,     0.27528,     0.27628,     0.27728,     0.27828,     0.27928,     0.28028,     0.28128,     0.28228,     0.28328,     0.28428,     0.28529,     0.28629,     0.28729,\n",
              "           0.28829,     0.28929,     0.29029,     0.29129,     0.29229,     0.29329,     0.29429,      0.2953,      0.2963,      0.2973,      0.2983,      0.2993,      0.3003,      0.3013,      0.3023,      0.3033,      0.3043,     0.30531,     0.30631,     0.30731,     0.30831,     0.30931,     0.31031,     0.31131,\n",
              "           0.31231,     0.31331,     0.31431,     0.31532,     0.31632,     0.31732,     0.31832,     0.31932,     0.32032,     0.32132,     0.32232,     0.32332,     0.32432,     0.32533,     0.32633,     0.32733,     0.32833,     0.32933,     0.33033,     0.33133,     0.33233,     0.33333,     0.33433,     0.33534,\n",
              "           0.33634,     0.33734,     0.33834,     0.33934,     0.34034,     0.34134,     0.34234,     0.34334,     0.34434,     0.34535,     0.34635,     0.34735,     0.34835,     0.34935,     0.35035,     0.35135,     0.35235,     0.35335,     0.35435,     0.35536,     0.35636,     0.35736,     0.35836,     0.35936,\n",
              "           0.36036,     0.36136,     0.36236,     0.36336,     0.36436,     0.36537,     0.36637,     0.36737,     0.36837,     0.36937,     0.37037,     0.37137,     0.37237,     0.37337,     0.37437,     0.37538,     0.37638,     0.37738,     0.37838,     0.37938,     0.38038,     0.38138,     0.38238,     0.38338,\n",
              "           0.38438,     0.38539,     0.38639,     0.38739,     0.38839,     0.38939,     0.39039,     0.39139,     0.39239,     0.39339,     0.39439,      0.3954,      0.3964,      0.3974,      0.3984,      0.3994,      0.4004,      0.4014,      0.4024,      0.4034,      0.4044,     0.40541,     0.40641,     0.40741,\n",
              "           0.40841,     0.40941,     0.41041,     0.41141,     0.41241,     0.41341,     0.41441,     0.41542,     0.41642,     0.41742,     0.41842,     0.41942,     0.42042,     0.42142,     0.42242,     0.42342,     0.42442,     0.42543,     0.42643,     0.42743,     0.42843,     0.42943,     0.43043,     0.43143,\n",
              "           0.43243,     0.43343,     0.43443,     0.43544,     0.43644,     0.43744,     0.43844,     0.43944,     0.44044,     0.44144,     0.44244,     0.44344,     0.44444,     0.44545,     0.44645,     0.44745,     0.44845,     0.44945,     0.45045,     0.45145,     0.45245,     0.45345,     0.45445,     0.45546,\n",
              "           0.45646,     0.45746,     0.45846,     0.45946,     0.46046,     0.46146,     0.46246,     0.46346,     0.46446,     0.46547,     0.46647,     0.46747,     0.46847,     0.46947,     0.47047,     0.47147,     0.47247,     0.47347,     0.47447,     0.47548,     0.47648,     0.47748,     0.47848,     0.47948,\n",
              "           0.48048,     0.48148,     0.48248,     0.48348,     0.48448,     0.48549,     0.48649,     0.48749,     0.48849,     0.48949,     0.49049,     0.49149,     0.49249,     0.49349,     0.49449,      0.4955,      0.4965,      0.4975,      0.4985,      0.4995,      0.5005,      0.5015,      0.5025,      0.5035,\n",
              "            0.5045,     0.50551,     0.50651,     0.50751,     0.50851,     0.50951,     0.51051,     0.51151,     0.51251,     0.51351,     0.51451,     0.51552,     0.51652,     0.51752,     0.51852,     0.51952,     0.52052,     0.52152,     0.52252,     0.52352,     0.52452,     0.52553,     0.52653,     0.52753,\n",
              "           0.52853,     0.52953,     0.53053,     0.53153,     0.53253,     0.53353,     0.53453,     0.53554,     0.53654,     0.53754,     0.53854,     0.53954,     0.54054,     0.54154,     0.54254,     0.54354,     0.54454,     0.54555,     0.54655,     0.54755,     0.54855,     0.54955,     0.55055,     0.55155,\n",
              "           0.55255,     0.55355,     0.55455,     0.55556,     0.55656,     0.55756,     0.55856,     0.55956,     0.56056,     0.56156,     0.56256,     0.56356,     0.56456,     0.56557,     0.56657,     0.56757,     0.56857,     0.56957,     0.57057,     0.57157,     0.57257,     0.57357,     0.57457,     0.57558,\n",
              "           0.57658,     0.57758,     0.57858,     0.57958,     0.58058,     0.58158,     0.58258,     0.58358,     0.58458,     0.58559,     0.58659,     0.58759,     0.58859,     0.58959,     0.59059,     0.59159,     0.59259,     0.59359,     0.59459,      0.5956,      0.5966,      0.5976,      0.5986,      0.5996,\n",
              "            0.6006,      0.6016,      0.6026,      0.6036,      0.6046,     0.60561,     0.60661,     0.60761,     0.60861,     0.60961,     0.61061,     0.61161,     0.61261,     0.61361,     0.61461,     0.61562,     0.61662,     0.61762,     0.61862,     0.61962,     0.62062,     0.62162,     0.62262,     0.62362,\n",
              "           0.62462,     0.62563,     0.62663,     0.62763,     0.62863,     0.62963,     0.63063,     0.63163,     0.63263,     0.63363,     0.63463,     0.63564,     0.63664,     0.63764,     0.63864,     0.63964,     0.64064,     0.64164,     0.64264,     0.64364,     0.64464,     0.64565,     0.64665,     0.64765,\n",
              "           0.64865,     0.64965,     0.65065,     0.65165,     0.65265,     0.65365,     0.65465,     0.65566,     0.65666,     0.65766,     0.65866,     0.65966,     0.66066,     0.66166,     0.66266,     0.66366,     0.66466,     0.66567,     0.66667,     0.66767,     0.66867,     0.66967,     0.67067,     0.67167,\n",
              "           0.67267,     0.67367,     0.67467,     0.67568,     0.67668,     0.67768,     0.67868,     0.67968,     0.68068,     0.68168,     0.68268,     0.68368,     0.68468,     0.68569,     0.68669,     0.68769,     0.68869,     0.68969,     0.69069,     0.69169,     0.69269,     0.69369,     0.69469,      0.6957,\n",
              "            0.6967,      0.6977,      0.6987,      0.6997,      0.7007,      0.7017,      0.7027,      0.7037,      0.7047,     0.70571,     0.70671,     0.70771,     0.70871,     0.70971,     0.71071,     0.71171,     0.71271,     0.71371,     0.71471,     0.71572,     0.71672,     0.71772,     0.71872,     0.71972,\n",
              "           0.72072,     0.72172,     0.72272,     0.72372,     0.72472,     0.72573,     0.72673,     0.72773,     0.72873,     0.72973,     0.73073,     0.73173,     0.73273,     0.73373,     0.73473,     0.73574,     0.73674,     0.73774,     0.73874,     0.73974,     0.74074,     0.74174,     0.74274,     0.74374,\n",
              "           0.74474,     0.74575,     0.74675,     0.74775,     0.74875,     0.74975,     0.75075,     0.75175,     0.75275,     0.75375,     0.75475,     0.75576,     0.75676,     0.75776,     0.75876,     0.75976,     0.76076,     0.76176,     0.76276,     0.76376,     0.76476,     0.76577,     0.76677,     0.76777,\n",
              "           0.76877,     0.76977,     0.77077,     0.77177,     0.77277,     0.77377,     0.77477,     0.77578,     0.77678,     0.77778,     0.77878,     0.77978,     0.78078,     0.78178,     0.78278,     0.78378,     0.78478,     0.78579,     0.78679,     0.78779,     0.78879,     0.78979,     0.79079,     0.79179,\n",
              "           0.79279,     0.79379,     0.79479,      0.7958,      0.7968,      0.7978,      0.7988,      0.7998,      0.8008,      0.8018,      0.8028,      0.8038,      0.8048,     0.80581,     0.80681,     0.80781,     0.80881,     0.80981,     0.81081,     0.81181,     0.81281,     0.81381,     0.81481,     0.81582,\n",
              "           0.81682,     0.81782,     0.81882,     0.81982,     0.82082,     0.82182,     0.82282,     0.82382,     0.82482,     0.82583,     0.82683,     0.82783,     0.82883,     0.82983,     0.83083,     0.83183,     0.83283,     0.83383,     0.83483,     0.83584,     0.83684,     0.83784,     0.83884,     0.83984,\n",
              "           0.84084,     0.84184,     0.84284,     0.84384,     0.84484,     0.84585,     0.84685,     0.84785,     0.84885,     0.84985,     0.85085,     0.85185,     0.85285,     0.85385,     0.85485,     0.85586,     0.85686,     0.85786,     0.85886,     0.85986,     0.86086,     0.86186,     0.86286,     0.86386,\n",
              "           0.86486,     0.86587,     0.86687,     0.86787,     0.86887,     0.86987,     0.87087,     0.87187,     0.87287,     0.87387,     0.87487,     0.87588,     0.87688,     0.87788,     0.87888,     0.87988,     0.88088,     0.88188,     0.88288,     0.88388,     0.88488,     0.88589,     0.88689,     0.88789,\n",
              "           0.88889,     0.88989,     0.89089,     0.89189,     0.89289,     0.89389,     0.89489,      0.8959,      0.8969,      0.8979,      0.8989,      0.8999,      0.9009,      0.9019,      0.9029,      0.9039,      0.9049,     0.90591,     0.90691,     0.90791,     0.90891,     0.90991,     0.91091,     0.91191,\n",
              "           0.91291,     0.91391,     0.91491,     0.91592,     0.91692,     0.91792,     0.91892,     0.91992,     0.92092,     0.92192,     0.92292,     0.92392,     0.92492,     0.92593,     0.92693,     0.92793,     0.92893,     0.92993,     0.93093,     0.93193,     0.93293,     0.93393,     0.93493,     0.93594,\n",
              "           0.93694,     0.93794,     0.93894,     0.93994,     0.94094,     0.94194,     0.94294,     0.94394,     0.94494,     0.94595,     0.94695,     0.94795,     0.94895,     0.94995,     0.95095,     0.95195,     0.95295,     0.95395,     0.95495,     0.95596,     0.95696,     0.95796,     0.95896,     0.95996,\n",
              "           0.96096,     0.96196,     0.96296,     0.96396,     0.96496,     0.96597,     0.96697,     0.96797,     0.96897,     0.96997,     0.97097,     0.97197,     0.97297,     0.97397,     0.97497,     0.97598,     0.97698,     0.97798,     0.97898,     0.97998,     0.98098,     0.98198,     0.98298,     0.98398,\n",
              "           0.98498,     0.98599,     0.98699,     0.98799,     0.98899,     0.98999,     0.99099,     0.99199,     0.99299,     0.99399,     0.99499,       0.996,       0.997,       0.998,       0.999,           1]), array([[    0.17988,     0.17988,     0.26723,     0.32277,      0.3639,     0.39701,     0.42148,     0.44302,     0.46228,     0.47971,     0.49687,     0.51206,     0.52689,     0.53644,     0.54373,     0.55025,     0.55682,     0.56729,     0.57441,      0.5815,      0.5872,     0.59434,     0.59962,\n",
              "            0.60359,     0.60883,     0.61334,     0.61823,     0.62246,      0.6273,     0.63112,     0.63672,      0.6416,     0.64498,     0.64865,     0.65415,      0.6575,     0.65937,     0.66118,     0.66443,     0.66687,     0.67066,     0.67327,     0.67613,     0.67994,     0.68207,     0.68421,\n",
              "            0.68613,     0.68767,     0.69021,     0.69136,     0.69329,     0.69436,     0.69564,     0.69668,      0.6986,     0.69933,      0.7025,      0.7045,     0.70671,     0.70828,     0.70795,     0.71091,     0.71218,     0.71335,     0.71512,     0.71593,     0.71637,     0.71745,     0.72025,\n",
              "            0.72182,     0.72343,     0.72322,     0.72542,     0.72648,     0.72802,     0.72986,     0.73125,     0.73223,     0.73235,     0.73264,     0.73337,     0.73456,     0.73453,     0.73651,     0.73853,     0.74046,     0.74069,     0.74264,     0.74245,     0.74336,     0.74408,     0.74468,\n",
              "            0.74581,     0.74675,     0.74795,      0.7484,     0.74985,     0.75066,     0.75081,     0.75096,     0.75184,     0.75157,     0.75247,     0.75354,     0.75411,     0.75517,     0.75659,     0.75723,     0.75739,     0.75784,     0.75818,     0.75879,     0.76051,     0.76063,     0.76022,\n",
              "             0.7608,     0.76173,     0.76281,      0.7632,     0.76372,     0.76416,     0.76502,     0.76624,       0.767,     0.76709,     0.76815,     0.76798,     0.76877,     0.77006,     0.77095,     0.77149,     0.77211,     0.77312,     0.77352,     0.77374,     0.77355,     0.77443,     0.77489,\n",
              "            0.77549,     0.77616,     0.77483,      0.7752,     0.77643,     0.77745,     0.77779,     0.77807,     0.77893,      0.7791,     0.77955,     0.77975,     0.78009,     0.78105,     0.78245,     0.78285,     0.78281,     0.78312,     0.78339,     0.78436,     0.78456,     0.78475,     0.78469,\n",
              "            0.78446,     0.78497,     0.78639,     0.78665,     0.78691,     0.78655,     0.78667,     0.78764,     0.78788,     0.78863,     0.78927,     0.79044,     0.79112,     0.79155,     0.79256,     0.79291,     0.79349,     0.79399,     0.79449,     0.79535,     0.79576,     0.79615,      0.7974,\n",
              "            0.79783,     0.79807,     0.79824,      0.7984,     0.79861,     0.79924,      0.7986,      0.7987,     0.79929,      0.8006,     0.80007,     0.80029,     0.79982,     0.79914,     0.79954,     0.79976,     0.80009,     0.80153,     0.80197,     0.80204,     0.80211,     0.80218,     0.80226,\n",
              "            0.80233,     0.80257,     0.80302,     0.80337,     0.80359,     0.80246,     0.80284,     0.80298,     0.80311,     0.80327,     0.80362,     0.80307,     0.80339,     0.80402,     0.80405,     0.80362,     0.80338,     0.80314,     0.80374,     0.80405,     0.80427,     0.80448,     0.80469,\n",
              "            0.80453,     0.80405,     0.80428,     0.80458,      0.8038,     0.80414,      0.8043,     0.80445,     0.80519,     0.80561,     0.80591,     0.80624,     0.80643,     0.80658,     0.80673,     0.80637,     0.80592,     0.80548,     0.80556,     0.80568,      0.8058,     0.80605,     0.80665,\n",
              "            0.80723,     0.80753,     0.80802,     0.80928,     0.80934,     0.80964,     0.80903,     0.80914,     0.80925,     0.80937,     0.80999,     0.81029,     0.81047,     0.81062,     0.81077,     0.81103,     0.81137,      0.8108,     0.81082,     0.81096,      0.8111,     0.81124,     0.81223,\n",
              "            0.81219,      0.8124,     0.81261,     0.81275,     0.81286,     0.81298,      0.8131,     0.81328,     0.81347,     0.81299,      0.8135,     0.81368,     0.81338,     0.81285,     0.81247,     0.81294,     0.81304,     0.81313,     0.81322,     0.81331,     0.81362,     0.81424,     0.81536,\n",
              "            0.81555,     0.81552,     0.81527,     0.81503,     0.81523,     0.81494,     0.81546,     0.81599,     0.81656,     0.81678,     0.81696,     0.81719,     0.81746,     0.81794,     0.81736,     0.81799,      0.8178,     0.81814,     0.81831,     0.81848,     0.81793,     0.81891,     0.82038,\n",
              "            0.82039,        0.82,     0.82023,     0.82004,     0.81984,        0.82,     0.82052,     0.82158,     0.82186,     0.82213,     0.82185,     0.82228,     0.82255,     0.82347,     0.82377,     0.82403,     0.82421,     0.82438,     0.82471,     0.82413,     0.82385,     0.82361,     0.82379,\n",
              "            0.82396,     0.82426,     0.82481,     0.82514,     0.82531,     0.82549,     0.82594,     0.82571,     0.82524,     0.82621,     0.82676,      0.8271,     0.82728,     0.82746,     0.82655,     0.82629,     0.82625,     0.82674,     0.82708,     0.82713,     0.82717,     0.82722,     0.82726,\n",
              "            0.82731,     0.82735,     0.82739,     0.82744,     0.82748,     0.82753,     0.82734,     0.82699,     0.82678,     0.82696,     0.82714,     0.82681,     0.82646,     0.82552,     0.82528,     0.82505,     0.82476,     0.82436,     0.82453,      0.8255,       0.826,     0.82682,      0.8271,\n",
              "            0.82675,     0.82638,     0.82623,     0.82641,     0.82659,      0.8269,     0.82739,     0.82821,     0.82835,     0.82848,     0.82861,     0.82926,     0.82942,     0.82959,     0.82945,     0.82926,     0.82907,     0.82898,     0.82923,     0.82972,     0.82926,     0.82942,     0.82959,\n",
              "             0.8298,     0.83009,     0.82982,     0.82963,     0.83014,     0.83046,     0.83071,     0.83023,      0.8303,     0.82992,     0.83039,     0.83055,     0.83072,     0.83095,     0.83141,     0.83166,     0.83106,     0.83071,     0.83061,     0.83091,     0.83079,     0.83066,     0.83054,\n",
              "            0.83042,     0.83029,        0.83,     0.82964,     0.82928,     0.82893,     0.82878,     0.82868,     0.82857,     0.82847,     0.82837,     0.82827,     0.82816,     0.82655,     0.82646,     0.82637,     0.82628,     0.82618,     0.82609,       0.826,      0.8259,     0.82526,     0.82552,\n",
              "            0.82528,     0.82506,     0.82482,     0.82499,     0.82516,     0.82527,     0.82534,     0.82544,     0.82534,     0.82524,     0.82513,     0.82503,     0.82492,     0.82482,     0.82523,     0.82481,     0.82507,     0.82556,     0.82583,     0.82608,     0.82585,     0.82561,     0.82533,\n",
              "            0.82471,     0.82522,     0.82568,     0.82581,     0.82594,     0.82607,     0.82541,     0.82523,     0.82505,     0.82486,     0.82459,     0.82476,     0.82493,     0.82488,     0.82452,     0.82415,     0.82378,      0.8232,     0.82283,     0.82295,     0.82203,     0.82239,     0.82265,\n",
              "            0.82291,     0.82316,     0.82314,     0.82299,     0.82284,      0.8227,     0.82255,     0.82272,     0.82235,     0.82239,      0.8225,      0.8226,      0.8227,     0.82281,     0.82259,      0.8224,     0.82222,     0.82203,     0.82185,     0.82166,     0.82148,     0.82129,     0.82099,\n",
              "            0.82046,     0.82063,      0.8208,     0.82081,     0.82044,     0.82089,     0.82174,     0.82182,     0.82189,     0.82197,     0.82204,     0.82211,     0.82219,     0.82141,     0.82126,     0.82111,     0.82096,     0.82082,     0.82088,     0.82106,     0.82123,     0.82072,     0.82095,\n",
              "            0.82094,     0.82081,     0.82067,     0.82054,      0.8204,     0.82038,     0.82051,     0.82064,     0.82077,     0.82111,     0.82144,     0.82161,     0.82178,     0.82189,     0.82196,     0.82202,     0.82209,     0.82215,     0.82222,     0.82228,     0.82235,     0.82226,     0.82213,\n",
              "            0.82201,     0.82188,     0.82176,     0.82163,      0.8214,     0.82118,     0.82067,     0.82059,     0.82086,        0.82,     0.81962,       0.819,     0.81824,       0.816,     0.81524,     0.81514,     0.81528,     0.81541,     0.81554,     0.81537,     0.81516,     0.81494,     0.81428,\n",
              "            0.81413,     0.81398,     0.81382,     0.81367,     0.81318,     0.81241,     0.81089,     0.81041,     0.81011,     0.80981,     0.80955,     0.80929,     0.80924,     0.80964,     0.80975,     0.80985,     0.80996,     0.81006,     0.81027,     0.81062,     0.80991,     0.80914,     0.80894,\n",
              "            0.80875,     0.80855,     0.80831,     0.80744,     0.80689,     0.80569,     0.80543,     0.80517,     0.80481,     0.80442,     0.80393,     0.80448,     0.80409,     0.80355,     0.80295,     0.80264,     0.80232,     0.80288,     0.80295,     0.80302,     0.80309,     0.80316,     0.80323,\n",
              "             0.8033,     0.80284,     0.80291,     0.80326,     0.80352,     0.80398,     0.80469,      0.8039,     0.80234,      0.8017,     0.80138,     0.80107,      0.8012,      0.8008,     0.79946,     0.79987,     0.80013,      0.8005,     0.79839,      0.7968,     0.79667,     0.79709,     0.79676,\n",
              "            0.79644,     0.79455,     0.79422,     0.79254,     0.79228,      0.7924,     0.79168,     0.79113,     0.79036,     0.78954,     0.78805,      0.7877,     0.78791,     0.78811,     0.78651,     0.78627,     0.78604,      0.7858,     0.78444,     0.78328,      0.7823,     0.78329,      0.7835,\n",
              "            0.78372,     0.78337,     0.78329,     0.78305,     0.78281,     0.78203,     0.78029,     0.77701,     0.77643,     0.77587,      0.7753,     0.77365,     0.77309,     0.77188,     0.77164,      0.7714,      0.7694,     0.76756,     0.76425,     0.76382,     0.76314,     0.76332,     0.76307,\n",
              "            0.76283,     0.76258,     0.76049,     0.76006,     0.75963,      0.7592,     0.75644,       0.756,     0.75287,     0.75108,     0.74983,     0.74827,     0.74682,     0.74623,     0.74458,     0.74302,     0.74266,     0.74231,     0.74263,     0.74295,     0.74321,     0.74163,     0.73986,\n",
              "            0.73689,     0.73629,      0.7354,     0.73155,     0.73095,     0.73034,     0.72982,     0.72936,     0.72372,     0.72087,     0.71872,     0.71775,     0.71762,     0.71644,     0.71605,     0.71584,     0.71564,     0.71543,     0.71567,     0.71499,     0.71131,     0.70974,     0.70897,\n",
              "            0.70818,     0.70666,     0.70664,     0.70432,     0.70369,     0.70415,      0.7044,     0.70409,     0.70377,     0.70124,     0.69838,      0.6974,     0.69364,      0.6911,     0.69045,     0.68715,     0.68579,     0.68471,     0.68186,     0.67889,     0.67596,     0.67529,     0.67419,\n",
              "            0.67389,     0.66953,     0.66692,     0.66554,     0.66188,     0.66148,     0.66114,      0.6608,     0.65818,     0.65811,     0.65556,     0.65561,     0.65293,     0.65176,     0.64877,     0.64714,     0.64703,     0.64246,      0.6414,      0.6388,     0.63359,     0.63242,     0.62989,\n",
              "            0.62881,     0.62647,     0.62593,     0.61819,     0.61747,     0.61027,     0.60621,     0.60292,     0.60143,     0.59468,     0.59189,     0.58897,     0.58316,     0.58201,     0.57804,     0.57346,     0.56995,      0.5653,     0.56062,     0.55896,     0.55512,     0.54919,     0.54613,\n",
              "            0.54359,     0.53515,     0.53026,     0.52411,     0.51769,      0.5129,     0.50895,     0.49773,     0.49259,     0.48669,     0.48538,     0.48147,     0.47817,     0.47027,     0.46766,     0.46354,     0.45548,     0.45024,     0.44727,     0.44041,     0.43761,     0.43153,     0.42402,\n",
              "            0.41975,     0.41122,     0.40546,     0.39532,     0.38506,     0.38205,      0.3731,     0.36556,     0.35946,     0.34412,     0.34025,     0.33467,     0.32834,     0.32353,     0.32131,     0.30904,     0.30413,     0.29266,     0.28103,     0.27307,     0.26917,     0.25037,     0.24361,\n",
              "            0.23481,     0.22591,     0.21693,     0.20785,     0.19868,     0.18942,     0.17824,     0.17087,     0.16312,     0.14963,     0.13789,     0.13388,     0.12029,     0.11786,     0.10919,     0.10156,    0.097392,    0.089101,    0.084877,    0.078557,    0.076106,    0.065792,    0.061464,\n",
              "           0.055941,    0.052749,    0.044064,    0.037471,    0.032427,    0.028539,    0.024364,    0.023237,    0.021946,    0.019686,     0.01742,    0.015396,    0.014258,    0.013288,    0.012782,    0.012275,    0.011768,    0.011261,   0.0069624,   0.0060455,   0.0052804,   0.0045146,   0.0043222,\n",
              "          0.0041454,   0.0039685,   0.0037916,   0.0036147,   0.0034378,   0.0032608,   0.0030837,   0.0029067,   0.0027296,   0.0025525,   0.0023753,           0,           0,           0,           0,           0,           0,           0,           0,           0,           0,           0,           0,\n",
              "                  0,           0,           0,           0,           0,           0,           0,           0,           0,           0,           0,           0,           0,           0,           0,           0,           0,           0,           0,           0,           0,           0,           0,\n",
              "                  0,           0,           0,           0,           0,           0,           0,           0,           0,           0,           0,           0,           0,           0,           0,           0,           0,           0,           0,           0,           0,           0,           0,\n",
              "                  0,           0,           0,           0,           0,           0,           0,           0,           0,           0,           0]]), 'Confidence', 'F1'], [array([          0,    0.001001,    0.002002,    0.003003,    0.004004,    0.005005,    0.006006,    0.007007,    0.008008,    0.009009,     0.01001,    0.011011,    0.012012,    0.013013,    0.014014,    0.015015,    0.016016,    0.017017,    0.018018,    0.019019,     0.02002,    0.021021,    0.022022,    0.023023,\n",
              "          0.024024,    0.025025,    0.026026,    0.027027,    0.028028,    0.029029,     0.03003,    0.031031,    0.032032,    0.033033,    0.034034,    0.035035,    0.036036,    0.037037,    0.038038,    0.039039,     0.04004,    0.041041,    0.042042,    0.043043,    0.044044,    0.045045,    0.046046,    0.047047,\n",
              "          0.048048,    0.049049,     0.05005,    0.051051,    0.052052,    0.053053,    0.054054,    0.055055,    0.056056,    0.057057,    0.058058,    0.059059,     0.06006,    0.061061,    0.062062,    0.063063,    0.064064,    0.065065,    0.066066,    0.067067,    0.068068,    0.069069,     0.07007,    0.071071,\n",
              "          0.072072,    0.073073,    0.074074,    0.075075,    0.076076,    0.077077,    0.078078,    0.079079,     0.08008,    0.081081,    0.082082,    0.083083,    0.084084,    0.085085,    0.086086,    0.087087,    0.088088,    0.089089,     0.09009,    0.091091,    0.092092,    0.093093,    0.094094,    0.095095,\n",
              "          0.096096,    0.097097,    0.098098,    0.099099,      0.1001,      0.1011,      0.1021,      0.1031,      0.1041,     0.10511,     0.10611,     0.10711,     0.10811,     0.10911,     0.11011,     0.11111,     0.11211,     0.11311,     0.11411,     0.11512,     0.11612,     0.11712,     0.11812,     0.11912,\n",
              "           0.12012,     0.12112,     0.12212,     0.12312,     0.12412,     0.12513,     0.12613,     0.12713,     0.12813,     0.12913,     0.13013,     0.13113,     0.13213,     0.13313,     0.13413,     0.13514,     0.13614,     0.13714,     0.13814,     0.13914,     0.14014,     0.14114,     0.14214,     0.14314,\n",
              "           0.14414,     0.14515,     0.14615,     0.14715,     0.14815,     0.14915,     0.15015,     0.15115,     0.15215,     0.15315,     0.15415,     0.15516,     0.15616,     0.15716,     0.15816,     0.15916,     0.16016,     0.16116,     0.16216,     0.16316,     0.16416,     0.16517,     0.16617,     0.16717,\n",
              "           0.16817,     0.16917,     0.17017,     0.17117,     0.17217,     0.17317,     0.17417,     0.17518,     0.17618,     0.17718,     0.17818,     0.17918,     0.18018,     0.18118,     0.18218,     0.18318,     0.18418,     0.18519,     0.18619,     0.18719,     0.18819,     0.18919,     0.19019,     0.19119,\n",
              "           0.19219,     0.19319,     0.19419,      0.1952,      0.1962,      0.1972,      0.1982,      0.1992,      0.2002,      0.2012,      0.2022,      0.2032,      0.2042,     0.20521,     0.20621,     0.20721,     0.20821,     0.20921,     0.21021,     0.21121,     0.21221,     0.21321,     0.21421,     0.21522,\n",
              "           0.21622,     0.21722,     0.21822,     0.21922,     0.22022,     0.22122,     0.22222,     0.22322,     0.22422,     0.22523,     0.22623,     0.22723,     0.22823,     0.22923,     0.23023,     0.23123,     0.23223,     0.23323,     0.23423,     0.23524,     0.23624,     0.23724,     0.23824,     0.23924,\n",
              "           0.24024,     0.24124,     0.24224,     0.24324,     0.24424,     0.24525,     0.24625,     0.24725,     0.24825,     0.24925,     0.25025,     0.25125,     0.25225,     0.25325,     0.25425,     0.25526,     0.25626,     0.25726,     0.25826,     0.25926,     0.26026,     0.26126,     0.26226,     0.26326,\n",
              "           0.26426,     0.26527,     0.26627,     0.26727,     0.26827,     0.26927,     0.27027,     0.27127,     0.27227,     0.27327,     0.27427,     0.27528,     0.27628,     0.27728,     0.27828,     0.27928,     0.28028,     0.28128,     0.28228,     0.28328,     0.28428,     0.28529,     0.28629,     0.28729,\n",
              "           0.28829,     0.28929,     0.29029,     0.29129,     0.29229,     0.29329,     0.29429,      0.2953,      0.2963,      0.2973,      0.2983,      0.2993,      0.3003,      0.3013,      0.3023,      0.3033,      0.3043,     0.30531,     0.30631,     0.30731,     0.30831,     0.30931,     0.31031,     0.31131,\n",
              "           0.31231,     0.31331,     0.31431,     0.31532,     0.31632,     0.31732,     0.31832,     0.31932,     0.32032,     0.32132,     0.32232,     0.32332,     0.32432,     0.32533,     0.32633,     0.32733,     0.32833,     0.32933,     0.33033,     0.33133,     0.33233,     0.33333,     0.33433,     0.33534,\n",
              "           0.33634,     0.33734,     0.33834,     0.33934,     0.34034,     0.34134,     0.34234,     0.34334,     0.34434,     0.34535,     0.34635,     0.34735,     0.34835,     0.34935,     0.35035,     0.35135,     0.35235,     0.35335,     0.35435,     0.35536,     0.35636,     0.35736,     0.35836,     0.35936,\n",
              "           0.36036,     0.36136,     0.36236,     0.36336,     0.36436,     0.36537,     0.36637,     0.36737,     0.36837,     0.36937,     0.37037,     0.37137,     0.37237,     0.37337,     0.37437,     0.37538,     0.37638,     0.37738,     0.37838,     0.37938,     0.38038,     0.38138,     0.38238,     0.38338,\n",
              "           0.38438,     0.38539,     0.38639,     0.38739,     0.38839,     0.38939,     0.39039,     0.39139,     0.39239,     0.39339,     0.39439,      0.3954,      0.3964,      0.3974,      0.3984,      0.3994,      0.4004,      0.4014,      0.4024,      0.4034,      0.4044,     0.40541,     0.40641,     0.40741,\n",
              "           0.40841,     0.40941,     0.41041,     0.41141,     0.41241,     0.41341,     0.41441,     0.41542,     0.41642,     0.41742,     0.41842,     0.41942,     0.42042,     0.42142,     0.42242,     0.42342,     0.42442,     0.42543,     0.42643,     0.42743,     0.42843,     0.42943,     0.43043,     0.43143,\n",
              "           0.43243,     0.43343,     0.43443,     0.43544,     0.43644,     0.43744,     0.43844,     0.43944,     0.44044,     0.44144,     0.44244,     0.44344,     0.44444,     0.44545,     0.44645,     0.44745,     0.44845,     0.44945,     0.45045,     0.45145,     0.45245,     0.45345,     0.45445,     0.45546,\n",
              "           0.45646,     0.45746,     0.45846,     0.45946,     0.46046,     0.46146,     0.46246,     0.46346,     0.46446,     0.46547,     0.46647,     0.46747,     0.46847,     0.46947,     0.47047,     0.47147,     0.47247,     0.47347,     0.47447,     0.47548,     0.47648,     0.47748,     0.47848,     0.47948,\n",
              "           0.48048,     0.48148,     0.48248,     0.48348,     0.48448,     0.48549,     0.48649,     0.48749,     0.48849,     0.48949,     0.49049,     0.49149,     0.49249,     0.49349,     0.49449,      0.4955,      0.4965,      0.4975,      0.4985,      0.4995,      0.5005,      0.5015,      0.5025,      0.5035,\n",
              "            0.5045,     0.50551,     0.50651,     0.50751,     0.50851,     0.50951,     0.51051,     0.51151,     0.51251,     0.51351,     0.51451,     0.51552,     0.51652,     0.51752,     0.51852,     0.51952,     0.52052,     0.52152,     0.52252,     0.52352,     0.52452,     0.52553,     0.52653,     0.52753,\n",
              "           0.52853,     0.52953,     0.53053,     0.53153,     0.53253,     0.53353,     0.53453,     0.53554,     0.53654,     0.53754,     0.53854,     0.53954,     0.54054,     0.54154,     0.54254,     0.54354,     0.54454,     0.54555,     0.54655,     0.54755,     0.54855,     0.54955,     0.55055,     0.55155,\n",
              "           0.55255,     0.55355,     0.55455,     0.55556,     0.55656,     0.55756,     0.55856,     0.55956,     0.56056,     0.56156,     0.56256,     0.56356,     0.56456,     0.56557,     0.56657,     0.56757,     0.56857,     0.56957,     0.57057,     0.57157,     0.57257,     0.57357,     0.57457,     0.57558,\n",
              "           0.57658,     0.57758,     0.57858,     0.57958,     0.58058,     0.58158,     0.58258,     0.58358,     0.58458,     0.58559,     0.58659,     0.58759,     0.58859,     0.58959,     0.59059,     0.59159,     0.59259,     0.59359,     0.59459,      0.5956,      0.5966,      0.5976,      0.5986,      0.5996,\n",
              "            0.6006,      0.6016,      0.6026,      0.6036,      0.6046,     0.60561,     0.60661,     0.60761,     0.60861,     0.60961,     0.61061,     0.61161,     0.61261,     0.61361,     0.61461,     0.61562,     0.61662,     0.61762,     0.61862,     0.61962,     0.62062,     0.62162,     0.62262,     0.62362,\n",
              "           0.62462,     0.62563,     0.62663,     0.62763,     0.62863,     0.62963,     0.63063,     0.63163,     0.63263,     0.63363,     0.63463,     0.63564,     0.63664,     0.63764,     0.63864,     0.63964,     0.64064,     0.64164,     0.64264,     0.64364,     0.64464,     0.64565,     0.64665,     0.64765,\n",
              "           0.64865,     0.64965,     0.65065,     0.65165,     0.65265,     0.65365,     0.65465,     0.65566,     0.65666,     0.65766,     0.65866,     0.65966,     0.66066,     0.66166,     0.66266,     0.66366,     0.66466,     0.66567,     0.66667,     0.66767,     0.66867,     0.66967,     0.67067,     0.67167,\n",
              "           0.67267,     0.67367,     0.67467,     0.67568,     0.67668,     0.67768,     0.67868,     0.67968,     0.68068,     0.68168,     0.68268,     0.68368,     0.68468,     0.68569,     0.68669,     0.68769,     0.68869,     0.68969,     0.69069,     0.69169,     0.69269,     0.69369,     0.69469,      0.6957,\n",
              "            0.6967,      0.6977,      0.6987,      0.6997,      0.7007,      0.7017,      0.7027,      0.7037,      0.7047,     0.70571,     0.70671,     0.70771,     0.70871,     0.70971,     0.71071,     0.71171,     0.71271,     0.71371,     0.71471,     0.71572,     0.71672,     0.71772,     0.71872,     0.71972,\n",
              "           0.72072,     0.72172,     0.72272,     0.72372,     0.72472,     0.72573,     0.72673,     0.72773,     0.72873,     0.72973,     0.73073,     0.73173,     0.73273,     0.73373,     0.73473,     0.73574,     0.73674,     0.73774,     0.73874,     0.73974,     0.74074,     0.74174,     0.74274,     0.74374,\n",
              "           0.74474,     0.74575,     0.74675,     0.74775,     0.74875,     0.74975,     0.75075,     0.75175,     0.75275,     0.75375,     0.75475,     0.75576,     0.75676,     0.75776,     0.75876,     0.75976,     0.76076,     0.76176,     0.76276,     0.76376,     0.76476,     0.76577,     0.76677,     0.76777,\n",
              "           0.76877,     0.76977,     0.77077,     0.77177,     0.77277,     0.77377,     0.77477,     0.77578,     0.77678,     0.77778,     0.77878,     0.77978,     0.78078,     0.78178,     0.78278,     0.78378,     0.78478,     0.78579,     0.78679,     0.78779,     0.78879,     0.78979,     0.79079,     0.79179,\n",
              "           0.79279,     0.79379,     0.79479,      0.7958,      0.7968,      0.7978,      0.7988,      0.7998,      0.8008,      0.8018,      0.8028,      0.8038,      0.8048,     0.80581,     0.80681,     0.80781,     0.80881,     0.80981,     0.81081,     0.81181,     0.81281,     0.81381,     0.81481,     0.81582,\n",
              "           0.81682,     0.81782,     0.81882,     0.81982,     0.82082,     0.82182,     0.82282,     0.82382,     0.82482,     0.82583,     0.82683,     0.82783,     0.82883,     0.82983,     0.83083,     0.83183,     0.83283,     0.83383,     0.83483,     0.83584,     0.83684,     0.83784,     0.83884,     0.83984,\n",
              "           0.84084,     0.84184,     0.84284,     0.84384,     0.84484,     0.84585,     0.84685,     0.84785,     0.84885,     0.84985,     0.85085,     0.85185,     0.85285,     0.85385,     0.85485,     0.85586,     0.85686,     0.85786,     0.85886,     0.85986,     0.86086,     0.86186,     0.86286,     0.86386,\n",
              "           0.86486,     0.86587,     0.86687,     0.86787,     0.86887,     0.86987,     0.87087,     0.87187,     0.87287,     0.87387,     0.87487,     0.87588,     0.87688,     0.87788,     0.87888,     0.87988,     0.88088,     0.88188,     0.88288,     0.88388,     0.88488,     0.88589,     0.88689,     0.88789,\n",
              "           0.88889,     0.88989,     0.89089,     0.89189,     0.89289,     0.89389,     0.89489,      0.8959,      0.8969,      0.8979,      0.8989,      0.8999,      0.9009,      0.9019,      0.9029,      0.9039,      0.9049,     0.90591,     0.90691,     0.90791,     0.90891,     0.90991,     0.91091,     0.91191,\n",
              "           0.91291,     0.91391,     0.91491,     0.91592,     0.91692,     0.91792,     0.91892,     0.91992,     0.92092,     0.92192,     0.92292,     0.92392,     0.92492,     0.92593,     0.92693,     0.92793,     0.92893,     0.92993,     0.93093,     0.93193,     0.93293,     0.93393,     0.93493,     0.93594,\n",
              "           0.93694,     0.93794,     0.93894,     0.93994,     0.94094,     0.94194,     0.94294,     0.94394,     0.94494,     0.94595,     0.94695,     0.94795,     0.94895,     0.94995,     0.95095,     0.95195,     0.95295,     0.95395,     0.95495,     0.95596,     0.95696,     0.95796,     0.95896,     0.95996,\n",
              "           0.96096,     0.96196,     0.96296,     0.96396,     0.96496,     0.96597,     0.96697,     0.96797,     0.96897,     0.96997,     0.97097,     0.97197,     0.97297,     0.97397,     0.97497,     0.97598,     0.97698,     0.97798,     0.97898,     0.97998,     0.98098,     0.98198,     0.98298,     0.98398,\n",
              "           0.98498,     0.98599,     0.98699,     0.98799,     0.98899,     0.98999,     0.99099,     0.99199,     0.99299,     0.99399,     0.99499,       0.996,       0.997,       0.998,       0.999,           1]), array([[   0.099126,    0.099126,      0.1552,     0.19407,     0.22497,     0.25098,     0.27115,     0.28945,     0.30636,     0.32198,     0.33779,     0.35198,     0.36633,     0.37599,     0.38376,     0.39108,     0.39795,     0.40918,     0.41686,      0.4246,      0.4312,     0.43895,     0.44473,\n",
              "            0.44965,      0.4555,     0.46085,     0.46639,     0.47152,     0.47741,     0.48215,     0.48873,     0.49483,      0.4992,     0.50361,     0.51027,     0.51472,     0.51701,     0.51961,     0.52401,     0.52743,     0.53257,     0.53627,     0.53991,     0.54479,     0.54753,     0.55029,\n",
              "            0.55278,     0.55478,     0.55809,      0.5596,     0.56213,     0.56398,     0.56611,     0.56794,     0.57094,     0.57237,     0.57664,     0.57934,     0.58233,     0.58447,     0.58491,     0.58903,     0.59126,     0.59287,     0.59583,     0.59754,     0.59857,     0.60059,     0.60452,\n",
              "            0.60674,     0.60903,     0.60926,     0.61238,     0.61389,      0.6161,     0.61874,     0.62073,      0.6224,     0.62342,     0.62385,      0.6249,     0.62664,     0.62712,     0.63005,     0.63301,      0.6361,     0.63677,     0.63966,     0.63984,     0.64132,     0.64239,     0.64329,\n",
              "            0.64501,       0.647,      0.6494,     0.65069,     0.65289,     0.65475,     0.65497,      0.6552,     0.65653,     0.65663,     0.65876,      0.6604,     0.66128,     0.66335,     0.66576,     0.66675,     0.66756,     0.66835,     0.66954,     0.67049,     0.67318,     0.67395,     0.67474,\n",
              "            0.67566,     0.67712,     0.67884,     0.67945,     0.68083,     0.68166,     0.68303,     0.68499,      0.6862,     0.68705,     0.68875,     0.68919,     0.69046,     0.69254,     0.69398,     0.69486,     0.69586,      0.6975,     0.69816,     0.69851,     0.69894,     0.70038,     0.70114,\n",
              "            0.70211,     0.70322,     0.70289,     0.70388,      0.7059,     0.70759,     0.70816,     0.70861,     0.71006,     0.71033,     0.71119,     0.71226,     0.71352,     0.71512,     0.71748,     0.71815,     0.71856,      0.7194,     0.71985,     0.72229,     0.72262,     0.72295,     0.72364,\n",
              "            0.72406,     0.72492,     0.72736,      0.7278,     0.72824,     0.72845,     0.72947,     0.73114,     0.73155,     0.73284,     0.73396,     0.73598,     0.73716,      0.7379,     0.73966,     0.74028,     0.74128,     0.74216,     0.74388,      0.7454,     0.74612,      0.7468,     0.74901,\n",
              "            0.74976,      0.7502,     0.75049,     0.75077,     0.75114,     0.75243,     0.75219,     0.75306,      0.7541,      0.7565,      0.7563,     0.75698,     0.75684,     0.75713,     0.75814,     0.75853,     0.75913,     0.76173,     0.76252,     0.76265,     0.76278,     0.76291,     0.76304,\n",
              "            0.76317,     0.76361,     0.76443,     0.76506,     0.76546,     0.76525,     0.76595,     0.76619,     0.76643,     0.76673,     0.76737,      0.7673,     0.76788,     0.76903,     0.76946,     0.76929,     0.76921,     0.76912,      0.7704,     0.77097,     0.77138,     0.77177,     0.77216,\n",
              "            0.77282,     0.77264,     0.77331,     0.77413,     0.77434,     0.77595,     0.77624,     0.77653,     0.77791,     0.77869,     0.77926,     0.77987,     0.78022,      0.7805,     0.78078,     0.78069,     0.78053,     0.78037,     0.78057,     0.78079,     0.78102,     0.78149,     0.78263,\n",
              "            0.78371,     0.78428,      0.7852,      0.7878,      0.7887,     0.78928,     0.78913,     0.78934,     0.78956,     0.78978,     0.79096,     0.79154,     0.79187,     0.79216,     0.79245,     0.79294,     0.79359,     0.79388,      0.7946,     0.79487,     0.79515,     0.79542,     0.79733,\n",
              "             0.7983,     0.79942,     0.80017,     0.80043,     0.80066,     0.80088,     0.80111,     0.80147,     0.80183,     0.80179,     0.80295,     0.80331,     0.80338,     0.80321,     0.80309,     0.80401,      0.8042,     0.80438,     0.80456,     0.80474,     0.80533,     0.80655,     0.80876,\n",
              "            0.80913,     0.80927,     0.80919,     0.80912,      0.8096,     0.81011,     0.81115,     0.81219,     0.81333,     0.81376,     0.81413,     0.81458,     0.81512,     0.81613,     0.81604,      0.8177,     0.81804,     0.81871,     0.81905,      0.8194,     0.81942,     0.82138,     0.82436,\n",
              "            0.82474,     0.82462,     0.82549,     0.82543,     0.82538,     0.82589,     0.82696,     0.82911,     0.83085,     0.83174,       0.832,     0.83288,     0.83345,     0.83534,     0.83596,     0.83649,     0.83685,     0.83722,     0.83789,     0.83814,     0.83807,     0.83803,     0.83839,\n",
              "            0.83875,     0.83937,     0.84052,     0.84119,     0.84156,     0.84193,      0.8429,      0.8437,     0.84386,     0.84588,     0.84703,     0.84776,     0.84813,     0.84851,     0.84828,     0.84821,     0.84845,     0.84948,     0.85021,      0.8503,      0.8504,     0.85049,     0.85059,\n",
              "            0.85068,     0.85077,     0.85087,     0.85096,     0.85106,     0.85115,     0.85114,     0.85105,      0.8521,     0.85248,     0.85286,     0.85278,     0.85269,     0.85335,     0.85329,     0.85323,     0.85315,     0.85305,     0.85369,     0.85578,     0.85684,     0.85862,     0.85922,\n",
              "            0.85913,     0.85904,     0.85996,     0.86035,     0.86074,     0.86141,     0.86249,     0.86427,     0.86456,     0.86485,     0.86514,     0.86655,     0.86691,     0.86727,     0.86728,     0.86724,     0.86719,     0.86727,     0.86782,     0.86926,     0.86924,     0.86961,     0.86997,\n",
              "            0.87043,     0.87106,     0.87184,     0.87279,     0.87391,     0.87462,     0.87518,     0.87519,     0.87566,     0.87619,     0.87723,     0.87761,     0.87799,      0.8785,     0.87951,     0.88008,     0.88033,     0.88026,     0.88055,      0.8813,     0.88128,     0.88125,     0.88122,\n",
              "             0.8812,     0.88117,     0.88111,     0.88103,     0.88095,     0.88088,     0.88084,     0.88082,      0.8808,     0.88078,     0.88076,     0.88073,     0.88071,     0.88138,     0.88136,     0.88134,     0.88132,      0.8813,     0.88128,     0.88126,     0.88124,     0.88133,     0.88191,\n",
              "            0.88213,      0.8831,     0.88325,     0.88363,     0.88402,     0.88522,     0.88592,     0.88629,     0.88627,     0.88625,     0.88623,      0.8862,     0.88618,     0.88616,     0.88715,     0.88767,     0.88826,     0.88939,     0.89002,     0.89062,     0.89058,     0.89053,     0.89047,\n",
              "            0.89044,     0.89163,     0.89271,     0.89301,     0.89331,     0.89361,     0.89369,     0.89366,     0.89362,     0.89359,     0.89473,     0.89513,     0.89554,     0.89575,     0.89568,     0.89561,     0.89554,     0.89652,     0.89645,     0.89708,     0.89804,      0.8989,     0.89951,\n",
              "            0.90013,     0.90075,     0.90092,     0.90089,     0.90086,     0.90084,     0.90081,     0.90196,     0.90189,      0.9021,     0.90235,     0.90259,     0.90284,     0.90309,     0.90418,     0.90415,     0.90412,     0.90408,     0.90405,     0.90402,     0.90398,     0.90395,      0.9039,\n",
              "            0.90389,     0.90431,     0.90473,       0.905,     0.90493,     0.90657,     0.90866,     0.90885,     0.90903,     0.90921,     0.90939,     0.90957,     0.90975,      0.9097,     0.90967,     0.90965,     0.90962,      0.9096,     0.90988,      0.9103,     0.91073,     0.91074,      0.9117,\n",
              "            0.91195,     0.91193,      0.9119,     0.91188,     0.91186,     0.91198,     0.91231,     0.91263,     0.91295,     0.91378,      0.9146,     0.91503,     0.91547,     0.91573,     0.91589,     0.91606,     0.91622,     0.91638,     0.91654,     0.91671,     0.91687,     0.91688,     0.91686,\n",
              "            0.91684,     0.91682,      0.9168,     0.91678,     0.91793,     0.91911,     0.91903,     0.91936,     0.92002,     0.92013,     0.92008,     0.91998,     0.91987,     0.91952,     0.91941,     0.91963,     0.91996,     0.92029,     0.92063,     0.92065,     0.92062,     0.92059,     0.92296,\n",
              "            0.92293,     0.92291,     0.92289,     0.92287,     0.92279,     0.92268,     0.92246,     0.92239,     0.92234,      0.9223,     0.92226,     0.92222,     0.92254,      0.9236,     0.92387,     0.92415,     0.92442,     0.92469,     0.92523,     0.92614,     0.92609,     0.92598,     0.92595,\n",
              "            0.92592,      0.9259,     0.92586,     0.92574,     0.92694,     0.92677,     0.92673,      0.9267,     0.92665,     0.92659,     0.92652,     0.92919,     0.92913,     0.92906,     0.92898,     0.92893,     0.92889,     0.93045,     0.93063,     0.93082,     0.93101,      0.9312,     0.93139,\n",
              "            0.93158,     0.93158,     0.93247,     0.93342,     0.93413,     0.93737,     0.93983,     0.93973,     0.93955,     0.93947,     0.93944,      0.9394,     0.94078,     0.94073,     0.94122,     0.94234,     0.94308,     0.94484,     0.94461,     0.94444,     0.94599,     0.94728,     0.94725,\n",
              "            0.94722,     0.94702,     0.94698,     0.94719,     0.94863,     0.94966,     0.94959,     0.94953,     0.94946,     0.94937,     0.95068,     0.95092,     0.95154,     0.95215,       0.952,     0.95198,     0.95195,     0.95193,     0.95275,     0.95318,     0.95337,      0.9563,     0.95694,\n",
              "            0.95758,     0.95889,      0.9592,     0.95918,     0.95916,      0.9591,     0.95895,     0.95868,     0.95863,     0.95859,     0.95854,      0.9584,     0.95835,     0.95825,     0.95823,     0.95821,     0.95804,     0.95789,      0.9576,     0.95756,     0.95832,     0.95911,     0.95909,\n",
              "            0.95907,     0.95905,     0.95887,     0.95884,      0.9588,     0.95876,     0.95853,     0.95849,     0.95986,     0.95971,     0.95961,     0.95948,     0.95936,     0.95931,     0.95917,     0.96071,     0.96068,     0.96065,     0.96201,     0.96307,     0.96396,     0.96397,     0.96384,\n",
              "            0.96362,     0.96357,     0.96351,     0.96321,     0.96317,     0.96312,     0.96308,     0.96305,     0.96261,     0.96239,     0.96222,     0.96297,     0.96392,     0.96383,      0.9638,     0.96378,     0.96377,     0.96375,      0.9651,     0.96552,     0.96526,     0.96514,     0.96508,\n",
              "            0.96503,     0.96498,     0.96676,      0.9666,     0.96655,     0.96923,     0.97035,     0.97033,     0.97031,     0.97015,     0.96997,     0.96991,     0.96966,      0.9695,     0.96946,     0.96924,     0.96915,     0.96908,     0.96889,     0.96869,     0.96849,     0.96844,      0.9691,\n",
              "            0.97239,     0.97213,     0.97197,     0.97188,     0.97166,     0.97373,     0.97371,     0.97369,     0.97354,     0.97522,     0.97552,     0.97734,     0.97754,     0.97748,     0.97733,     0.97725,     0.97932,     0.97924,     0.97919,     0.97907,     0.97882,     0.97876,     0.97864,\n",
              "            0.97859,      0.9808,     0.98078,     0.98043,      0.9804,     0.98007,     0.97988,     0.97973,     0.97966,     0.98027,     0.98173,     0.98418,     0.98658,     0.98654,     0.98641,     0.98626,     0.98615,     0.98599,     0.98583,     0.98577,     0.98846,     0.98829,     0.98877,\n",
              "            0.99106,     0.99087,     0.99075,     0.99061,     0.99045,     0.99033,     0.99023,     0.98994,      0.9898,     0.98964,      0.9896,     0.98949,      0.9894,     0.98917,     0.98909,     0.98896,     0.98871,     0.98854,     0.98845,     0.98822,     0.98812,     0.98987,     0.99172,\n",
              "            0.99161,     0.99139,     0.99124,     0.99096,     0.99066,     0.99057,      0.9903,     0.99005,     0.98985,      0.9893,     0.98916,     0.98894,     0.98869,     0.98849,      0.9884,     0.98785,     0.98762,     0.98706,     0.98644,     0.98599,     0.98576,     0.98454,     0.99196,\n",
              "            0.99161,     0.99124,     0.99084,     0.99039,      0.9899,     0.98936,     0.98863,           1,           1,           1,           1,           1,           1,           1,           1,           1,           1,           1,           1,           1,           1,           1,           1,\n",
              "                  1,           1,           1,           1,           1,           1,           1,           1,           1,           1,           1,           1,           1,           1,           1,           1,           1,           1,           1,           1,           1,           1,           1,\n",
              "                  1,           1,           1,           1,           1,           1,           1,           1,           1,           1,           1,           1,           1,           1,           1,           1,           1,           1,           1,           1,           1,           1,           1,\n",
              "                  1,           1,           1,           1,           1,           1,           1,           1,           1,           1,           1,           1,           1,           1,           1,           1,           1,           1,           1,           1,           1,           1,           1,\n",
              "                  1,           1,           1,           1,           1,           1,           1,           1,           1,           1,           1,           1,           1,           1,           1,           1,           1,           1,           1,           1,           1,           1,           1,\n",
              "                  1,           1,           1,           1,           1,           1,           1,           1,           1,           1,           1]]), 'Confidence', 'Precision'], [array([          0,    0.001001,    0.002002,    0.003003,    0.004004,    0.005005,    0.006006,    0.007007,    0.008008,    0.009009,     0.01001,    0.011011,    0.012012,    0.013013,    0.014014,    0.015015,    0.016016,    0.017017,    0.018018,    0.019019,     0.02002,    0.021021,    0.022022,    0.023023,\n",
              "          0.024024,    0.025025,    0.026026,    0.027027,    0.028028,    0.029029,     0.03003,    0.031031,    0.032032,    0.033033,    0.034034,    0.035035,    0.036036,    0.037037,    0.038038,    0.039039,     0.04004,    0.041041,    0.042042,    0.043043,    0.044044,    0.045045,    0.046046,    0.047047,\n",
              "          0.048048,    0.049049,     0.05005,    0.051051,    0.052052,    0.053053,    0.054054,    0.055055,    0.056056,    0.057057,    0.058058,    0.059059,     0.06006,    0.061061,    0.062062,    0.063063,    0.064064,    0.065065,    0.066066,    0.067067,    0.068068,    0.069069,     0.07007,    0.071071,\n",
              "          0.072072,    0.073073,    0.074074,    0.075075,    0.076076,    0.077077,    0.078078,    0.079079,     0.08008,    0.081081,    0.082082,    0.083083,    0.084084,    0.085085,    0.086086,    0.087087,    0.088088,    0.089089,     0.09009,    0.091091,    0.092092,    0.093093,    0.094094,    0.095095,\n",
              "          0.096096,    0.097097,    0.098098,    0.099099,      0.1001,      0.1011,      0.1021,      0.1031,      0.1041,     0.10511,     0.10611,     0.10711,     0.10811,     0.10911,     0.11011,     0.11111,     0.11211,     0.11311,     0.11411,     0.11512,     0.11612,     0.11712,     0.11812,     0.11912,\n",
              "           0.12012,     0.12112,     0.12212,     0.12312,     0.12412,     0.12513,     0.12613,     0.12713,     0.12813,     0.12913,     0.13013,     0.13113,     0.13213,     0.13313,     0.13413,     0.13514,     0.13614,     0.13714,     0.13814,     0.13914,     0.14014,     0.14114,     0.14214,     0.14314,\n",
              "           0.14414,     0.14515,     0.14615,     0.14715,     0.14815,     0.14915,     0.15015,     0.15115,     0.15215,     0.15315,     0.15415,     0.15516,     0.15616,     0.15716,     0.15816,     0.15916,     0.16016,     0.16116,     0.16216,     0.16316,     0.16416,     0.16517,     0.16617,     0.16717,\n",
              "           0.16817,     0.16917,     0.17017,     0.17117,     0.17217,     0.17317,     0.17417,     0.17518,     0.17618,     0.17718,     0.17818,     0.17918,     0.18018,     0.18118,     0.18218,     0.18318,     0.18418,     0.18519,     0.18619,     0.18719,     0.18819,     0.18919,     0.19019,     0.19119,\n",
              "           0.19219,     0.19319,     0.19419,      0.1952,      0.1962,      0.1972,      0.1982,      0.1992,      0.2002,      0.2012,      0.2022,      0.2032,      0.2042,     0.20521,     0.20621,     0.20721,     0.20821,     0.20921,     0.21021,     0.21121,     0.21221,     0.21321,     0.21421,     0.21522,\n",
              "           0.21622,     0.21722,     0.21822,     0.21922,     0.22022,     0.22122,     0.22222,     0.22322,     0.22422,     0.22523,     0.22623,     0.22723,     0.22823,     0.22923,     0.23023,     0.23123,     0.23223,     0.23323,     0.23423,     0.23524,     0.23624,     0.23724,     0.23824,     0.23924,\n",
              "           0.24024,     0.24124,     0.24224,     0.24324,     0.24424,     0.24525,     0.24625,     0.24725,     0.24825,     0.24925,     0.25025,     0.25125,     0.25225,     0.25325,     0.25425,     0.25526,     0.25626,     0.25726,     0.25826,     0.25926,     0.26026,     0.26126,     0.26226,     0.26326,\n",
              "           0.26426,     0.26527,     0.26627,     0.26727,     0.26827,     0.26927,     0.27027,     0.27127,     0.27227,     0.27327,     0.27427,     0.27528,     0.27628,     0.27728,     0.27828,     0.27928,     0.28028,     0.28128,     0.28228,     0.28328,     0.28428,     0.28529,     0.28629,     0.28729,\n",
              "           0.28829,     0.28929,     0.29029,     0.29129,     0.29229,     0.29329,     0.29429,      0.2953,      0.2963,      0.2973,      0.2983,      0.2993,      0.3003,      0.3013,      0.3023,      0.3033,      0.3043,     0.30531,     0.30631,     0.30731,     0.30831,     0.30931,     0.31031,     0.31131,\n",
              "           0.31231,     0.31331,     0.31431,     0.31532,     0.31632,     0.31732,     0.31832,     0.31932,     0.32032,     0.32132,     0.32232,     0.32332,     0.32432,     0.32533,     0.32633,     0.32733,     0.32833,     0.32933,     0.33033,     0.33133,     0.33233,     0.33333,     0.33433,     0.33534,\n",
              "           0.33634,     0.33734,     0.33834,     0.33934,     0.34034,     0.34134,     0.34234,     0.34334,     0.34434,     0.34535,     0.34635,     0.34735,     0.34835,     0.34935,     0.35035,     0.35135,     0.35235,     0.35335,     0.35435,     0.35536,     0.35636,     0.35736,     0.35836,     0.35936,\n",
              "           0.36036,     0.36136,     0.36236,     0.36336,     0.36436,     0.36537,     0.36637,     0.36737,     0.36837,     0.36937,     0.37037,     0.37137,     0.37237,     0.37337,     0.37437,     0.37538,     0.37638,     0.37738,     0.37838,     0.37938,     0.38038,     0.38138,     0.38238,     0.38338,\n",
              "           0.38438,     0.38539,     0.38639,     0.38739,     0.38839,     0.38939,     0.39039,     0.39139,     0.39239,     0.39339,     0.39439,      0.3954,      0.3964,      0.3974,      0.3984,      0.3994,      0.4004,      0.4014,      0.4024,      0.4034,      0.4044,     0.40541,     0.40641,     0.40741,\n",
              "           0.40841,     0.40941,     0.41041,     0.41141,     0.41241,     0.41341,     0.41441,     0.41542,     0.41642,     0.41742,     0.41842,     0.41942,     0.42042,     0.42142,     0.42242,     0.42342,     0.42442,     0.42543,     0.42643,     0.42743,     0.42843,     0.42943,     0.43043,     0.43143,\n",
              "           0.43243,     0.43343,     0.43443,     0.43544,     0.43644,     0.43744,     0.43844,     0.43944,     0.44044,     0.44144,     0.44244,     0.44344,     0.44444,     0.44545,     0.44645,     0.44745,     0.44845,     0.44945,     0.45045,     0.45145,     0.45245,     0.45345,     0.45445,     0.45546,\n",
              "           0.45646,     0.45746,     0.45846,     0.45946,     0.46046,     0.46146,     0.46246,     0.46346,     0.46446,     0.46547,     0.46647,     0.46747,     0.46847,     0.46947,     0.47047,     0.47147,     0.47247,     0.47347,     0.47447,     0.47548,     0.47648,     0.47748,     0.47848,     0.47948,\n",
              "           0.48048,     0.48148,     0.48248,     0.48348,     0.48448,     0.48549,     0.48649,     0.48749,     0.48849,     0.48949,     0.49049,     0.49149,     0.49249,     0.49349,     0.49449,      0.4955,      0.4965,      0.4975,      0.4985,      0.4995,      0.5005,      0.5015,      0.5025,      0.5035,\n",
              "            0.5045,     0.50551,     0.50651,     0.50751,     0.50851,     0.50951,     0.51051,     0.51151,     0.51251,     0.51351,     0.51451,     0.51552,     0.51652,     0.51752,     0.51852,     0.51952,     0.52052,     0.52152,     0.52252,     0.52352,     0.52452,     0.52553,     0.52653,     0.52753,\n",
              "           0.52853,     0.52953,     0.53053,     0.53153,     0.53253,     0.53353,     0.53453,     0.53554,     0.53654,     0.53754,     0.53854,     0.53954,     0.54054,     0.54154,     0.54254,     0.54354,     0.54454,     0.54555,     0.54655,     0.54755,     0.54855,     0.54955,     0.55055,     0.55155,\n",
              "           0.55255,     0.55355,     0.55455,     0.55556,     0.55656,     0.55756,     0.55856,     0.55956,     0.56056,     0.56156,     0.56256,     0.56356,     0.56456,     0.56557,     0.56657,     0.56757,     0.56857,     0.56957,     0.57057,     0.57157,     0.57257,     0.57357,     0.57457,     0.57558,\n",
              "           0.57658,     0.57758,     0.57858,     0.57958,     0.58058,     0.58158,     0.58258,     0.58358,     0.58458,     0.58559,     0.58659,     0.58759,     0.58859,     0.58959,     0.59059,     0.59159,     0.59259,     0.59359,     0.59459,      0.5956,      0.5966,      0.5976,      0.5986,      0.5996,\n",
              "            0.6006,      0.6016,      0.6026,      0.6036,      0.6046,     0.60561,     0.60661,     0.60761,     0.60861,     0.60961,     0.61061,     0.61161,     0.61261,     0.61361,     0.61461,     0.61562,     0.61662,     0.61762,     0.61862,     0.61962,     0.62062,     0.62162,     0.62262,     0.62362,\n",
              "           0.62462,     0.62563,     0.62663,     0.62763,     0.62863,     0.62963,     0.63063,     0.63163,     0.63263,     0.63363,     0.63463,     0.63564,     0.63664,     0.63764,     0.63864,     0.63964,     0.64064,     0.64164,     0.64264,     0.64364,     0.64464,     0.64565,     0.64665,     0.64765,\n",
              "           0.64865,     0.64965,     0.65065,     0.65165,     0.65265,     0.65365,     0.65465,     0.65566,     0.65666,     0.65766,     0.65866,     0.65966,     0.66066,     0.66166,     0.66266,     0.66366,     0.66466,     0.66567,     0.66667,     0.66767,     0.66867,     0.66967,     0.67067,     0.67167,\n",
              "           0.67267,     0.67367,     0.67467,     0.67568,     0.67668,     0.67768,     0.67868,     0.67968,     0.68068,     0.68168,     0.68268,     0.68368,     0.68468,     0.68569,     0.68669,     0.68769,     0.68869,     0.68969,     0.69069,     0.69169,     0.69269,     0.69369,     0.69469,      0.6957,\n",
              "            0.6967,      0.6977,      0.6987,      0.6997,      0.7007,      0.7017,      0.7027,      0.7037,      0.7047,     0.70571,     0.70671,     0.70771,     0.70871,     0.70971,     0.71071,     0.71171,     0.71271,     0.71371,     0.71471,     0.71572,     0.71672,     0.71772,     0.71872,     0.71972,\n",
              "           0.72072,     0.72172,     0.72272,     0.72372,     0.72472,     0.72573,     0.72673,     0.72773,     0.72873,     0.72973,     0.73073,     0.73173,     0.73273,     0.73373,     0.73473,     0.73574,     0.73674,     0.73774,     0.73874,     0.73974,     0.74074,     0.74174,     0.74274,     0.74374,\n",
              "           0.74474,     0.74575,     0.74675,     0.74775,     0.74875,     0.74975,     0.75075,     0.75175,     0.75275,     0.75375,     0.75475,     0.75576,     0.75676,     0.75776,     0.75876,     0.75976,     0.76076,     0.76176,     0.76276,     0.76376,     0.76476,     0.76577,     0.76677,     0.76777,\n",
              "           0.76877,     0.76977,     0.77077,     0.77177,     0.77277,     0.77377,     0.77477,     0.77578,     0.77678,     0.77778,     0.77878,     0.77978,     0.78078,     0.78178,     0.78278,     0.78378,     0.78478,     0.78579,     0.78679,     0.78779,     0.78879,     0.78979,     0.79079,     0.79179,\n",
              "           0.79279,     0.79379,     0.79479,      0.7958,      0.7968,      0.7978,      0.7988,      0.7998,      0.8008,      0.8018,      0.8028,      0.8038,      0.8048,     0.80581,     0.80681,     0.80781,     0.80881,     0.80981,     0.81081,     0.81181,     0.81281,     0.81381,     0.81481,     0.81582,\n",
              "           0.81682,     0.81782,     0.81882,     0.81982,     0.82082,     0.82182,     0.82282,     0.82382,     0.82482,     0.82583,     0.82683,     0.82783,     0.82883,     0.82983,     0.83083,     0.83183,     0.83283,     0.83383,     0.83483,     0.83584,     0.83684,     0.83784,     0.83884,     0.83984,\n",
              "           0.84084,     0.84184,     0.84284,     0.84384,     0.84484,     0.84585,     0.84685,     0.84785,     0.84885,     0.84985,     0.85085,     0.85185,     0.85285,     0.85385,     0.85485,     0.85586,     0.85686,     0.85786,     0.85886,     0.85986,     0.86086,     0.86186,     0.86286,     0.86386,\n",
              "           0.86486,     0.86587,     0.86687,     0.86787,     0.86887,     0.86987,     0.87087,     0.87187,     0.87287,     0.87387,     0.87487,     0.87588,     0.87688,     0.87788,     0.87888,     0.87988,     0.88088,     0.88188,     0.88288,     0.88388,     0.88488,     0.88589,     0.88689,     0.88789,\n",
              "           0.88889,     0.88989,     0.89089,     0.89189,     0.89289,     0.89389,     0.89489,      0.8959,      0.8969,      0.8979,      0.8989,      0.8999,      0.9009,      0.9019,      0.9029,      0.9039,      0.9049,     0.90591,     0.90691,     0.90791,     0.90891,     0.90991,     0.91091,     0.91191,\n",
              "           0.91291,     0.91391,     0.91491,     0.91592,     0.91692,     0.91792,     0.91892,     0.91992,     0.92092,     0.92192,     0.92292,     0.92392,     0.92492,     0.92593,     0.92693,     0.92793,     0.92893,     0.92993,     0.93093,     0.93193,     0.93293,     0.93393,     0.93493,     0.93594,\n",
              "           0.93694,     0.93794,     0.93894,     0.93994,     0.94094,     0.94194,     0.94294,     0.94394,     0.94494,     0.94595,     0.94695,     0.94795,     0.94895,     0.94995,     0.95095,     0.95195,     0.95295,     0.95395,     0.95495,     0.95596,     0.95696,     0.95796,     0.95896,     0.95996,\n",
              "           0.96096,     0.96196,     0.96296,     0.96396,     0.96496,     0.96597,     0.96697,     0.96797,     0.96897,     0.96997,     0.97097,     0.97197,     0.97297,     0.97397,     0.97497,     0.97598,     0.97698,     0.97798,     0.97898,     0.97998,     0.98098,     0.98198,     0.98298,     0.98398,\n",
              "           0.98498,     0.98599,     0.98699,     0.98799,     0.98899,     0.98999,     0.99099,     0.99199,     0.99299,     0.99399,     0.99499,       0.996,       0.997,       0.998,       0.999,           1]), array([[    0.97072,     0.97072,     0.96059,     0.95833,     0.95158,     0.94932,     0.94595,     0.94369,     0.94144,     0.94032,     0.93919,     0.93919,     0.93806,     0.93581,     0.93243,     0.92793,      0.9268,     0.92455,     0.92342,      0.9223,     0.92005,     0.92005,     0.92005,\n",
              "            0.91779,     0.91779,     0.91667,     0.91667,     0.91554,     0.91441,     0.91329,     0.91329,     0.91216,     0.91104,     0.91104,     0.91104,     0.90991,     0.90991,     0.90878,     0.90766,     0.90653,     0.90541,     0.90428,     0.90428,     0.90428,     0.90428,     0.90428,\n",
              "            0.90428,     0.90428,     0.90428,     0.90428,     0.90428,     0.90315,     0.90203,      0.9009,     0.89977,     0.89865,     0.89865,     0.89865,     0.89865,     0.89865,     0.89655,      0.8964,     0.89527,     0.89527,     0.89414,     0.89283,     0.89189,     0.89077,     0.89077,\n",
              "            0.89077,     0.89077,     0.88964,     0.88964,     0.88964,     0.88964,     0.88964,     0.88964,     0.88912,     0.88739,     0.88739,     0.88739,     0.88739,     0.88636,     0.88626,     0.88626,      0.8858,     0.88514,     0.88514,     0.88426,     0.88401,     0.88401,     0.88401,\n",
              "            0.88395,     0.88288,     0.88176,     0.88063,     0.88063,      0.8795,      0.8795,      0.8795,      0.8795,     0.87862,     0.87725,     0.87725,     0.87725,     0.87649,     0.87613,     0.87613,     0.87515,       0.875,     0.87387,     0.87387,     0.87387,     0.87289,      0.8705,\n",
              "             0.8705,      0.8705,      0.8705,      0.8705,     0.86959,     0.86937,     0.86937,     0.86937,     0.86937,     0.86824,     0.86824,     0.86712,     0.86712,     0.86712,     0.86712,     0.86712,     0.86712,     0.86712,     0.86712,     0.86712,     0.86599,     0.86599,     0.86599,\n",
              "            0.86599,     0.86599,     0.86317,     0.86261,     0.86261,     0.86261,     0.86261,     0.86261,     0.86261,     0.86261,     0.86244,     0.86137,     0.86036,     0.86036,     0.86036,     0.86036,     0.85968,     0.85923,     0.85923,     0.85811,     0.85811,     0.85811,     0.85698,\n",
              "            0.85586,     0.85586,     0.85586,     0.85586,     0.85586,     0.85473,      0.8536,      0.8536,      0.8536,      0.8536,      0.8536,      0.8536,      0.8536,      0.8536,      0.8536,      0.8536,      0.8536,      0.8536,     0.85248,     0.85248,     0.85248,     0.85248,     0.85248,\n",
              "            0.85248,     0.85248,     0.85248,     0.85248,     0.85248,     0.85225,     0.85112,     0.85023,     0.85023,     0.85015,     0.84923,     0.84887,     0.84797,     0.84607,     0.84572,     0.84572,     0.84572,     0.84572,     0.84572,     0.84572,     0.84572,     0.84572,     0.84572,\n",
              "            0.84572,     0.84572,     0.84572,     0.84572,     0.84572,     0.84347,     0.84347,     0.84347,     0.84347,     0.84347,     0.84347,     0.84234,     0.84234,     0.84234,     0.84191,     0.84114,     0.84072,      0.8403,     0.84009,     0.84009,     0.84009,     0.84009,     0.84009,\n",
              "            0.83896,     0.83812,     0.83784,     0.83753,     0.83559,     0.83446,     0.83446,     0.83446,     0.83446,     0.83446,     0.83446,     0.83446,     0.83446,     0.83446,     0.83446,      0.8338,     0.83303,     0.83226,     0.83221,     0.83221,     0.83221,     0.83221,     0.83221,\n",
              "            0.83221,     0.83221,     0.83221,     0.83197,     0.83108,     0.83108,     0.82995,     0.82995,     0.82995,     0.82995,     0.82995,     0.82995,     0.82995,     0.82995,     0.82995,     0.82995,     0.82995,     0.82845,      0.8277,      0.8277,      0.8277,      0.8277,      0.8277,\n",
              "            0.82658,     0.82581,     0.82545,     0.82545,     0.82545,     0.82545,     0.82545,     0.82545,     0.82545,      0.8245,     0.82432,     0.82432,     0.82364,     0.82273,     0.82207,     0.82207,     0.82207,     0.82207,     0.82207,     0.82207,     0.82207,     0.82207,     0.82207,\n",
              "            0.82207,     0.82186,     0.82144,     0.82102,     0.82095,     0.81982,     0.81982,     0.81982,     0.81982,     0.81982,     0.81982,     0.81982,     0.81982,     0.81975,     0.81869,     0.81829,     0.81757,     0.81757,     0.81757,     0.81757,     0.81644,     0.81644,     0.81644,\n",
              "            0.81608,     0.81542,     0.81504,     0.81471,     0.81438,     0.81419,     0.81419,     0.81419,     0.81306,     0.81274,     0.81194,     0.81194,     0.81194,     0.81194,     0.81194,     0.81194,     0.81194,     0.81194,     0.81194,     0.81057,     0.81011,     0.80968,     0.80968,\n",
              "            0.80968,     0.80968,     0.80968,     0.80968,     0.80968,     0.80968,     0.80965,     0.80847,     0.80743,     0.80743,     0.80743,     0.80743,     0.80743,     0.80743,      0.8059,     0.80548,     0.80518,     0.80518,     0.80518,     0.80518,     0.80518,     0.80518,     0.80518,\n",
              "            0.80518,     0.80518,     0.80518,     0.80518,     0.80518,     0.80518,     0.80484,     0.80426,     0.80293,     0.80293,     0.80293,     0.80237,     0.80179,     0.79944,     0.79906,     0.79867,     0.79819,     0.79753,      0.7973,      0.7973,      0.7973,      0.7973,     0.79729,\n",
              "            0.79671,      0.7961,     0.79505,     0.79505,     0.79505,     0.79505,     0.79505,     0.79505,     0.79505,     0.79505,     0.79505,     0.79505,     0.79505,     0.79505,     0.79478,     0.79447,     0.79416,     0.79392,     0.79392,     0.79363,     0.79279,     0.79279,     0.79279,\n",
              "            0.79279,     0.79279,     0.79167,     0.79054,     0.79054,     0.79054,     0.79054,     0.78966,     0.78941,     0.78829,     0.78829,     0.78829,     0.78829,     0.78829,     0.78829,     0.78829,     0.78702,     0.78644,     0.78604,     0.78597,     0.78577,     0.78557,     0.78537,\n",
              "            0.78517,     0.78497,      0.7845,     0.78392,     0.78334,     0.78276,     0.78252,     0.78236,     0.78219,     0.78203,     0.78186,      0.7817,     0.78153,     0.77815,       0.778,     0.77785,      0.7777,     0.77756,     0.77741,     0.77726,     0.77711,      0.7759,      0.7759,\n",
              "            0.77532,     0.77417,     0.77365,     0.77365,     0.77365,     0.77293,     0.77252,     0.77241,     0.77225,     0.77208,     0.77192,     0.77175,     0.77159,     0.77142,      0.7714,     0.77027,     0.77027,     0.77027,     0.77027,     0.77027,     0.76989,     0.76951,     0.76907,\n",
              "            0.76802,     0.76802,     0.76802,     0.76802,     0.76802,     0.76802,     0.76683,     0.76654,     0.76625,     0.76596,     0.76464,     0.76464,     0.76464,     0.76441,     0.76383,     0.76325,     0.76268,     0.76097,      0.7604,     0.76014,     0.75788,     0.75788,     0.75788,\n",
              "            0.75788,     0.75788,     0.75772,     0.75749,     0.75726,     0.75703,      0.7568,     0.75629,     0.75571,     0.75563,     0.75563,     0.75563,     0.75563,     0.75563,      0.7545,     0.75421,     0.75392,     0.75364,     0.75335,     0.75306,     0.75277,     0.75248,     0.75201,\n",
              "            0.75113,     0.75113,     0.75113,     0.75095,     0.75037,        0.75,        0.75,        0.75,        0.75,        0.75,        0.75,        0.75,        0.75,     0.74875,     0.74852,     0.74829,     0.74805,     0.74782,     0.74775,     0.74775,     0.74775,     0.74689,     0.74662,\n",
              "            0.74645,     0.74625,     0.74604,     0.74583,     0.74562,      0.7455,      0.7455,      0.7455,      0.7455,      0.7455,      0.7455,      0.7455,      0.7455,      0.7455,      0.7455,      0.7455,      0.7455,      0.7455,      0.7455,      0.7455,      0.7455,     0.74534,     0.74515,\n",
              "            0.74495,     0.74476,     0.74457,     0.74438,     0.74324,     0.74211,     0.74134,     0.74099,     0.74099,     0.73952,     0.73894,     0.73799,     0.73684,     0.73343,     0.73228,     0.73198,     0.73198,     0.73198,     0.73198,      0.7317,     0.73137,     0.73104,      0.7285,\n",
              "            0.72827,     0.72804,     0.72781,     0.72758,     0.72684,     0.72569,     0.72341,     0.72268,     0.72222,     0.72178,     0.72139,     0.72101,     0.72072,     0.72072,     0.72072,     0.72072,     0.72072,     0.72072,     0.72072,     0.72072,     0.71963,     0.71848,     0.71818,\n",
              "            0.71789,     0.71761,     0.71724,     0.71596,     0.71437,     0.71259,      0.7122,     0.71182,     0.71129,     0.71072,     0.70999,     0.70928,      0.7087,     0.70792,     0.70703,     0.70657,     0.70611,     0.70608,     0.70608,     0.70608,     0.70608,     0.70608,     0.70608,\n",
              "            0.70608,     0.70536,     0.70495,     0.70495,     0.70495,     0.70383,     0.70353,     0.70237,     0.70009,     0.69917,     0.69871,     0.69825,     0.69768,     0.69711,     0.69482,     0.69482,     0.69482,     0.69441,     0.69137,     0.68909,     0.68806,       0.688,     0.68754,\n",
              "            0.68708,     0.68436,      0.6839,     0.68131,     0.68018,     0.67982,      0.6788,     0.67803,     0.67692,     0.67577,     0.67293,      0.6723,      0.6723,     0.67228,     0.67003,      0.6697,     0.66937,     0.66904,     0.66667,     0.66479,     0.66329,     0.66329,     0.66329,\n",
              "            0.66329,     0.66216,      0.6619,     0.66157,     0.66124,     0.66015,     0.65775,     0.65322,     0.65243,     0.65166,     0.65088,     0.64862,     0.64785,     0.64621,     0.64588,     0.64555,     0.64283,     0.64033,     0.63586,     0.63528,     0.63401,     0.63391,     0.63359,\n",
              "            0.63326,     0.63293,     0.63013,     0.62955,     0.62897,      0.6284,     0.62472,     0.62415,     0.61932,     0.61696,     0.61532,     0.61327,     0.61138,     0.61061,     0.60845,     0.60576,      0.6053,     0.60483,     0.60473,     0.60473,     0.60473,     0.60263,     0.60035,\n",
              "            0.59653,     0.59576,     0.59463,     0.58972,     0.58895,     0.58818,     0.58752,     0.58694,     0.57982,     0.57625,     0.57357,     0.57207,     0.57158,     0.57011,     0.56963,     0.56937,     0.56911,     0.56886,     0.56869,     0.56769,     0.56315,     0.56123,     0.56028,\n",
              "            0.55931,     0.55743,     0.55682,       0.554,     0.55323,     0.55293,     0.55287,     0.55249,      0.5521,     0.54906,     0.54561,     0.54444,     0.53994,     0.53692,     0.53615,     0.53224,     0.53064,     0.52937,     0.52603,     0.52256,     0.51916,     0.51838,     0.51689,\n",
              "            0.51561,     0.51059,     0.50761,     0.50603,     0.50187,     0.50087,     0.50048,      0.5001,     0.49714,     0.49662,     0.49365,     0.49324,     0.49016,     0.48886,     0.48554,     0.48373,     0.48311,     0.47805,     0.47689,     0.47405,     0.46839,     0.46713,     0.46439,\n",
              "            0.46324,     0.46021,     0.45963,     0.45141,     0.45064,     0.44308,     0.43886,     0.43545,     0.43391,      0.4268,     0.42366,     0.42022,     0.41391,     0.41276,     0.40879,     0.40426,      0.4008,     0.39624,     0.39168,     0.39007,     0.38593,     0.38025,     0.37725,\n",
              "             0.3745,     0.36656,       0.362,     0.35632,     0.35043,     0.34607,     0.34249,     0.33244,     0.32788,      0.3227,     0.32154,     0.31814,     0.31527,     0.30845,     0.30623,     0.30271,      0.2959,      0.2915,     0.28903,     0.28334,     0.28103,      0.2759,     0.26966,\n",
              "            0.26622,     0.25941,     0.25485,     0.24691,     0.23897,     0.23666,     0.22985,     0.22416,      0.2196,     0.20828,     0.20547,     0.20142,     0.19685,     0.19342,     0.19184,     0.18317,     0.17974,      0.1718,     0.16386,     0.15848,     0.15586,     0.14342,     0.13886,\n",
              "            0.13317,     0.12748,      0.1218,     0.11611,     0.11042,     0.10474,    0.097948,    0.093415,    0.088802,    0.080862,    0.074049,    0.071741,    0.063995,    0.062619,    0.057745,    0.053497,    0.051189,    0.046628,    0.044319,    0.040884,    0.039558,    0.034015,    0.031706,\n",
              "           0.028775,    0.027089,    0.022528,    0.019093,    0.016481,    0.014476,    0.012332,    0.011755,    0.011095,   0.0099407,   0.0087864,   0.0077575,   0.0071803,   0.0066885,    0.006432,   0.0061755,    0.005919,   0.0056624,   0.0034934,   0.0030319,   0.0026472,   0.0022624,   0.0021658,\n",
              "           0.002077,   0.0019882,   0.0018994,   0.0018106,   0.0017218,    0.001633,   0.0015443,   0.0014555,   0.0013667,   0.0012779,   0.0011891,           0,           0,           0,           0,           0,           0,           0,           0,           0,           0,           0,           0,\n",
              "                  0,           0,           0,           0,           0,           0,           0,           0,           0,           0,           0,           0,           0,           0,           0,           0,           0,           0,           0,           0,           0,           0,           0,\n",
              "                  0,           0,           0,           0,           0,           0,           0,           0,           0,           0,           0,           0,           0,           0,           0,           0,           0,           0,           0,           0,           0,           0,           0,\n",
              "                  0,           0,           0,           0,           0,           0,           0,           0,           0,           0,           0]]), 'Confidence', 'Recall']]\n",
              "fitness: np.float64(0.6045373129915091)\n",
              "keys: ['metrics/precision(B)', 'metrics/recall(B)', 'metrics/mAP50(B)', 'metrics/mAP50-95(B)']\n",
              "maps: array([    0.57423,     0.57423])\n",
              "names: {0: 'Pothole', 1: 'Sewage-Manhole'}\n",
              "nt_per_class: array([888,   0])\n",
              "nt_per_image: array([325,   0])\n",
              "results_dict: {'metrics/precision(B)': np.float64(0.8672722437797329), 'metrics/recall(B)': np.float64(0.795045045045045), 'metrics/mAP50(B)': np.float64(0.8773438840212376), 'metrics/mAP50-95(B)': np.float64(0.5742254717659837), 'fitness': np.float64(0.6045373129915091)}\n",
              "save_dir: PosixPath('runs/detect/pothole-yolov11n')\n",
              "speed: {'preprocess': 0.1940844646151163, 'inference': 2.154283569230896, 'loss': 0.0003352061538372744, 'postprocess': 3.04720760922954}\n",
              "stats: {'tp': [], 'conf': [], 'pred_cls': [], 'target_cls': [], 'target_img': []}\n",
              "task: 'detect'"
            ]
          },
          "metadata": {},
          "execution_count": 4
        }
      ]
    },
    {
      "cell_type": "code",
      "source": [
        "# STEP 1: Install Ultralytics\n",
        "!pip install ultralytics -q\n",
        "\n",
        "# STEP 2: Upload your .pt file\n",
        "from google.colab import files\n",
        "uploaded = files.upload()\n",
        "\n",
        "# Find uploaded file\n",
        "import os\n",
        "pt_path = next(iter(uploaded))\n",
        "\n",
        "# STEP 3: Load and export the model to TFLite\n",
        "from ultralytics import YOLO\n",
        "\n",
        "model = YOLO(pt_path)\n",
        "model.export(format=\"tflite\")  # creates 'your_model_float32.tflite'\n",
        "\n",
        "# STEP 4: Load the exported TFLite model\n",
        "tflite_model_path = pt_path.replace(\".pt\", \"_float32.tflite\")\n",
        "tflite_model = YOLO(tflite_model_path)\n",
        "\n",
        "# STEP 5: Run inference on an example image\n",
        "results = tflite_model(\"https://ultralytics.com/images/bus.jpg\")\n",
        "results.show()  # Optional: show results inline (e.g., bounding boxes)\n"
      ],
      "metadata": {
        "colab": {
          "base_uri": "https://localhost:8080/",
          "height": 623
        },
        "id": "m1upl7jol6rQ",
        "outputId": "5c75a98a-6c86-41b1-b597-3d186901ebd4"
      },
      "execution_count": 14,
      "outputs": [
        {
          "output_type": "display_data",
          "data": {
            "text/plain": [
              "<IPython.core.display.HTML object>"
            ],
            "text/html": [
              "\n",
              "     <input type=\"file\" id=\"files-79ba2ee1-a1ef-4f1e-abbd-a95ab438693a\" name=\"files[]\" multiple disabled\n",
              "        style=\"border:none\" />\n",
              "     <output id=\"result-79ba2ee1-a1ef-4f1e-abbd-a95ab438693a\">\n",
              "      Upload widget is only available when the cell has been executed in the\n",
              "      current browser session. Please rerun this cell to enable.\n",
              "      </output>\n",
              "      <script>// Copyright 2017 Google LLC\n",
              "//\n",
              "// Licensed under the Apache License, Version 2.0 (the \"License\");\n",
              "// you may not use this file except in compliance with the License.\n",
              "// You may obtain a copy of the License at\n",
              "//\n",
              "//      http://www.apache.org/licenses/LICENSE-2.0\n",
              "//\n",
              "// Unless required by applicable law or agreed to in writing, software\n",
              "// distributed under the License is distributed on an \"AS IS\" BASIS,\n",
              "// WITHOUT WARRANTIES OR CONDITIONS OF ANY KIND, either express or implied.\n",
              "// See the License for the specific language governing permissions and\n",
              "// limitations under the License.\n",
              "\n",
              "/**\n",
              " * @fileoverview Helpers for google.colab Python module.\n",
              " */\n",
              "(function(scope) {\n",
              "function span(text, styleAttributes = {}) {\n",
              "  const element = document.createElement('span');\n",
              "  element.textContent = text;\n",
              "  for (const key of Object.keys(styleAttributes)) {\n",
              "    element.style[key] = styleAttributes[key];\n",
              "  }\n",
              "  return element;\n",
              "}\n",
              "\n",
              "// Max number of bytes which will be uploaded at a time.\n",
              "const MAX_PAYLOAD_SIZE = 100 * 1024;\n",
              "\n",
              "function _uploadFiles(inputId, outputId) {\n",
              "  const steps = uploadFilesStep(inputId, outputId);\n",
              "  const outputElement = document.getElementById(outputId);\n",
              "  // Cache steps on the outputElement to make it available for the next call\n",
              "  // to uploadFilesContinue from Python.\n",
              "  outputElement.steps = steps;\n",
              "\n",
              "  return _uploadFilesContinue(outputId);\n",
              "}\n",
              "\n",
              "// This is roughly an async generator (not supported in the browser yet),\n",
              "// where there are multiple asynchronous steps and the Python side is going\n",
              "// to poll for completion of each step.\n",
              "// This uses a Promise to block the python side on completion of each step,\n",
              "// then passes the result of the previous step as the input to the next step.\n",
              "function _uploadFilesContinue(outputId) {\n",
              "  const outputElement = document.getElementById(outputId);\n",
              "  const steps = outputElement.steps;\n",
              "\n",
              "  const next = steps.next(outputElement.lastPromiseValue);\n",
              "  return Promise.resolve(next.value.promise).then((value) => {\n",
              "    // Cache the last promise value to make it available to the next\n",
              "    // step of the generator.\n",
              "    outputElement.lastPromiseValue = value;\n",
              "    return next.value.response;\n",
              "  });\n",
              "}\n",
              "\n",
              "/**\n",
              " * Generator function which is called between each async step of the upload\n",
              " * process.\n",
              " * @param {string} inputId Element ID of the input file picker element.\n",
              " * @param {string} outputId Element ID of the output display.\n",
              " * @return {!Iterable<!Object>} Iterable of next steps.\n",
              " */\n",
              "function* uploadFilesStep(inputId, outputId) {\n",
              "  const inputElement = document.getElementById(inputId);\n",
              "  inputElement.disabled = false;\n",
              "\n",
              "  const outputElement = document.getElementById(outputId);\n",
              "  outputElement.innerHTML = '';\n",
              "\n",
              "  const pickedPromise = new Promise((resolve) => {\n",
              "    inputElement.addEventListener('change', (e) => {\n",
              "      resolve(e.target.files);\n",
              "    });\n",
              "  });\n",
              "\n",
              "  const cancel = document.createElement('button');\n",
              "  inputElement.parentElement.appendChild(cancel);\n",
              "  cancel.textContent = 'Cancel upload';\n",
              "  const cancelPromise = new Promise((resolve) => {\n",
              "    cancel.onclick = () => {\n",
              "      resolve(null);\n",
              "    };\n",
              "  });\n",
              "\n",
              "  // Wait for the user to pick the files.\n",
              "  const files = yield {\n",
              "    promise: Promise.race([pickedPromise, cancelPromise]),\n",
              "    response: {\n",
              "      action: 'starting',\n",
              "    }\n",
              "  };\n",
              "\n",
              "  cancel.remove();\n",
              "\n",
              "  // Disable the input element since further picks are not allowed.\n",
              "  inputElement.disabled = true;\n",
              "\n",
              "  if (!files) {\n",
              "    return {\n",
              "      response: {\n",
              "        action: 'complete',\n",
              "      }\n",
              "    };\n",
              "  }\n",
              "\n",
              "  for (const file of files) {\n",
              "    const li = document.createElement('li');\n",
              "    li.append(span(file.name, {fontWeight: 'bold'}));\n",
              "    li.append(span(\n",
              "        `(${file.type || 'n/a'}) - ${file.size} bytes, ` +\n",
              "        `last modified: ${\n",
              "            file.lastModifiedDate ? file.lastModifiedDate.toLocaleDateString() :\n",
              "                                    'n/a'} - `));\n",
              "    const percent = span('0% done');\n",
              "    li.appendChild(percent);\n",
              "\n",
              "    outputElement.appendChild(li);\n",
              "\n",
              "    const fileDataPromise = new Promise((resolve) => {\n",
              "      const reader = new FileReader();\n",
              "      reader.onload = (e) => {\n",
              "        resolve(e.target.result);\n",
              "      };\n",
              "      reader.readAsArrayBuffer(file);\n",
              "    });\n",
              "    // Wait for the data to be ready.\n",
              "    let fileData = yield {\n",
              "      promise: fileDataPromise,\n",
              "      response: {\n",
              "        action: 'continue',\n",
              "      }\n",
              "    };\n",
              "\n",
              "    // Use a chunked sending to avoid message size limits. See b/62115660.\n",
              "    let position = 0;\n",
              "    do {\n",
              "      const length = Math.min(fileData.byteLength - position, MAX_PAYLOAD_SIZE);\n",
              "      const chunk = new Uint8Array(fileData, position, length);\n",
              "      position += length;\n",
              "\n",
              "      const base64 = btoa(String.fromCharCode.apply(null, chunk));\n",
              "      yield {\n",
              "        response: {\n",
              "          action: 'append',\n",
              "          file: file.name,\n",
              "          data: base64,\n",
              "        },\n",
              "      };\n",
              "\n",
              "      let percentDone = fileData.byteLength === 0 ?\n",
              "          100 :\n",
              "          Math.round((position / fileData.byteLength) * 100);\n",
              "      percent.textContent = `${percentDone}% done`;\n",
              "\n",
              "    } while (position < fileData.byteLength);\n",
              "  }\n",
              "\n",
              "  // All done.\n",
              "  yield {\n",
              "    response: {\n",
              "      action: 'complete',\n",
              "    }\n",
              "  };\n",
              "}\n",
              "\n",
              "scope.google = scope.google || {};\n",
              "scope.google.colab = scope.google.colab || {};\n",
              "scope.google.colab._files = {\n",
              "  _uploadFiles,\n",
              "  _uploadFilesContinue,\n",
              "};\n",
              "})(self);\n",
              "</script> "
            ]
          },
          "metadata": {}
        },
        {
          "output_type": "stream",
          "name": "stdout",
          "text": [
            "Saving yolo11n_877.pt to yolo11n_877 (8).pt\n",
            "Ultralytics 8.3.171 🚀 Python-3.11.13 torch-2.6.0+cu124 CPU (Intel Xeon 2.20GHz)\n",
            "YOLO11n summary (fused): 100 layers, 2,582,542 parameters, 0 gradients, 6.3 GFLOPs\n",
            "\n",
            "\u001b[34m\u001b[1mPyTorch:\u001b[0m starting from 'yolo11n_877 (8).pt' with input shape (1, 3, 640, 640) BCHW and output shape(s) (1, 6, 8400) (5.2 MB)\n",
            "\n",
            "\u001b[34m\u001b[1mTensorFlow SavedModel:\u001b[0m starting export with tensorflow 2.18.0...\n",
            "\n",
            "\u001b[34m\u001b[1mONNX:\u001b[0m starting export with onnx 1.17.0 opset 19...\n",
            "\u001b[34m\u001b[1mONNX:\u001b[0m slimming with onnxslim 0.1.61...\n",
            "\u001b[34m\u001b[1mONNX:\u001b[0m export success ✅ 1.4s, saved as 'yolo11n_877 (8).onnx' (10.1 MB)\n",
            "ERROR ❌ \u001b[34m\u001b[1mTensorFlow SavedModel:\u001b[0m export failure 1.4s: module 'tf_keras.src.backend' has no attribute '_SEED_GENERATOR'\n"
          ]
        },
        {
          "output_type": "error",
          "ename": "AttributeError",
          "evalue": "module 'tf_keras.src.backend' has no attribute '_SEED_GENERATOR'",
          "traceback": [
            "\u001b[0;31m---------------------------------------------------------------------------\u001b[0m",
            "\u001b[0;31mAttributeError\u001b[0m                            Traceback (most recent call last)",
            "\u001b[0;32m/tmp/ipython-input-802665455.py\u001b[0m in \u001b[0;36m<cell line: 0>\u001b[0;34m()\u001b[0m\n\u001b[1;32m     14\u001b[0m \u001b[0;34m\u001b[0m\u001b[0m\n\u001b[1;32m     15\u001b[0m \u001b[0mmodel\u001b[0m \u001b[0;34m=\u001b[0m \u001b[0mYOLO\u001b[0m\u001b[0;34m(\u001b[0m\u001b[0mpt_path\u001b[0m\u001b[0;34m)\u001b[0m\u001b[0;34m\u001b[0m\u001b[0;34m\u001b[0m\u001b[0m\n\u001b[0;32m---> 16\u001b[0;31m \u001b[0mmodel\u001b[0m\u001b[0;34m.\u001b[0m\u001b[0mexport\u001b[0m\u001b[0;34m(\u001b[0m\u001b[0mformat\u001b[0m\u001b[0;34m=\u001b[0m\u001b[0;34m\"tflite\"\u001b[0m\u001b[0;34m)\u001b[0m  \u001b[0;31m# creates 'your_model_float32.tflite'\u001b[0m\u001b[0;34m\u001b[0m\u001b[0;34m\u001b[0m\u001b[0m\n\u001b[0m\u001b[1;32m     17\u001b[0m \u001b[0;34m\u001b[0m\u001b[0m\n\u001b[1;32m     18\u001b[0m \u001b[0;31m# STEP 4: Load the exported TFLite model\u001b[0m\u001b[0;34m\u001b[0m\u001b[0;34m\u001b[0m\u001b[0m\n",
            "\u001b[0;32m/usr/local/lib/python3.11/dist-packages/ultralytics/engine/model.py\u001b[0m in \u001b[0;36mexport\u001b[0;34m(self, **kwargs)\u001b[0m\n\u001b[1;32m    732\u001b[0m         }  # method defaults\n\u001b[1;32m    733\u001b[0m         \u001b[0margs\u001b[0m \u001b[0;34m=\u001b[0m \u001b[0;34m{\u001b[0m\u001b[0;34m**\u001b[0m\u001b[0mself\u001b[0m\u001b[0;34m.\u001b[0m\u001b[0moverrides\u001b[0m\u001b[0;34m,\u001b[0m \u001b[0;34m**\u001b[0m\u001b[0mcustom\u001b[0m\u001b[0;34m,\u001b[0m \u001b[0;34m**\u001b[0m\u001b[0mkwargs\u001b[0m\u001b[0;34m,\u001b[0m \u001b[0;34m\"mode\"\u001b[0m\u001b[0;34m:\u001b[0m \u001b[0;34m\"export\"\u001b[0m\u001b[0;34m}\u001b[0m  \u001b[0;31m# highest priority args on the right\u001b[0m\u001b[0;34m\u001b[0m\u001b[0;34m\u001b[0m\u001b[0m\n\u001b[0;32m--> 734\u001b[0;31m         \u001b[0;32mreturn\u001b[0m \u001b[0mExporter\u001b[0m\u001b[0;34m(\u001b[0m\u001b[0moverrides\u001b[0m\u001b[0;34m=\u001b[0m\u001b[0margs\u001b[0m\u001b[0;34m,\u001b[0m \u001b[0m_callbacks\u001b[0m\u001b[0;34m=\u001b[0m\u001b[0mself\u001b[0m\u001b[0;34m.\u001b[0m\u001b[0mcallbacks\u001b[0m\u001b[0;34m)\u001b[0m\u001b[0;34m(\u001b[0m\u001b[0mmodel\u001b[0m\u001b[0;34m=\u001b[0m\u001b[0mself\u001b[0m\u001b[0;34m.\u001b[0m\u001b[0mmodel\u001b[0m\u001b[0;34m)\u001b[0m\u001b[0;34m\u001b[0m\u001b[0;34m\u001b[0m\u001b[0m\n\u001b[0m\u001b[1;32m    735\u001b[0m \u001b[0;34m\u001b[0m\u001b[0m\n\u001b[1;32m    736\u001b[0m     def train(\n",
            "\u001b[0;32m/usr/local/lib/python3.11/dist-packages/ultralytics/engine/exporter.py\u001b[0m in \u001b[0;36m__call__\u001b[0;34m(self, model)\u001b[0m\n\u001b[1;32m    492\u001b[0m         \u001b[0;32mif\u001b[0m \u001b[0mis_tf_format\u001b[0m\u001b[0;34m:\u001b[0m  \u001b[0;31m# TensorFlow formats\u001b[0m\u001b[0;34m\u001b[0m\u001b[0;34m\u001b[0m\u001b[0m\n\u001b[1;32m    493\u001b[0m             \u001b[0mself\u001b[0m\u001b[0;34m.\u001b[0m\u001b[0margs\u001b[0m\u001b[0;34m.\u001b[0m\u001b[0mint8\u001b[0m \u001b[0;34m|=\u001b[0m \u001b[0medgetpu\u001b[0m\u001b[0;34m\u001b[0m\u001b[0;34m\u001b[0m\u001b[0m\n\u001b[0;32m--> 494\u001b[0;31m             \u001b[0mf\u001b[0m\u001b[0;34m[\u001b[0m\u001b[0;36m5\u001b[0m\u001b[0;34m]\u001b[0m\u001b[0;34m,\u001b[0m \u001b[0mkeras_model\u001b[0m \u001b[0;34m=\u001b[0m \u001b[0mself\u001b[0m\u001b[0;34m.\u001b[0m\u001b[0mexport_saved_model\u001b[0m\u001b[0;34m(\u001b[0m\u001b[0;34m)\u001b[0m\u001b[0;34m\u001b[0m\u001b[0;34m\u001b[0m\u001b[0m\n\u001b[0m\u001b[1;32m    495\u001b[0m             \u001b[0;32mif\u001b[0m \u001b[0mpb\u001b[0m \u001b[0;32mor\u001b[0m \u001b[0mtfjs\u001b[0m\u001b[0;34m:\u001b[0m  \u001b[0;31m# pb prerequisite to tfjs\u001b[0m\u001b[0;34m\u001b[0m\u001b[0;34m\u001b[0m\u001b[0m\n\u001b[1;32m    496\u001b[0m                 \u001b[0mf\u001b[0m\u001b[0;34m[\u001b[0m\u001b[0;36m6\u001b[0m\u001b[0;34m]\u001b[0m\u001b[0;34m,\u001b[0m \u001b[0m_\u001b[0m \u001b[0;34m=\u001b[0m \u001b[0mself\u001b[0m\u001b[0;34m.\u001b[0m\u001b[0mexport_pb\u001b[0m\u001b[0;34m(\u001b[0m\u001b[0mkeras_model\u001b[0m\u001b[0;34m=\u001b[0m\u001b[0mkeras_model\u001b[0m\u001b[0;34m)\u001b[0m\u001b[0;34m\u001b[0m\u001b[0;34m\u001b[0m\u001b[0m\n",
            "\u001b[0;32m/usr/local/lib/python3.11/dist-packages/ultralytics/engine/exporter.py\u001b[0m in \u001b[0;36mouter_func\u001b[0;34m(*args, **kwargs)\u001b[0m\n\u001b[1;32m    196\u001b[0m         \u001b[0;32mexcept\u001b[0m \u001b[0mException\u001b[0m \u001b[0;32mas\u001b[0m \u001b[0me\u001b[0m\u001b[0;34m:\u001b[0m\u001b[0;34m\u001b[0m\u001b[0;34m\u001b[0m\u001b[0m\n\u001b[1;32m    197\u001b[0m             \u001b[0mLOGGER\u001b[0m\u001b[0;34m.\u001b[0m\u001b[0merror\u001b[0m\u001b[0;34m(\u001b[0m\u001b[0;34mf\"{prefix} export failure {dt.t:.1f}s: {e}\"\u001b[0m\u001b[0;34m)\u001b[0m\u001b[0;34m\u001b[0m\u001b[0;34m\u001b[0m\u001b[0m\n\u001b[0;32m--> 198\u001b[0;31m             \u001b[0;32mraise\u001b[0m \u001b[0me\u001b[0m\u001b[0;34m\u001b[0m\u001b[0;34m\u001b[0m\u001b[0m\n\u001b[0m\u001b[1;32m    199\u001b[0m \u001b[0;34m\u001b[0m\u001b[0m\n\u001b[1;32m    200\u001b[0m     \u001b[0;32mreturn\u001b[0m \u001b[0mouter_func\u001b[0m\u001b[0;34m\u001b[0m\u001b[0;34m\u001b[0m\u001b[0m\n",
            "\u001b[0;32m/usr/local/lib/python3.11/dist-packages/ultralytics/engine/exporter.py\u001b[0m in \u001b[0;36mouter_func\u001b[0;34m(*args, **kwargs)\u001b[0m\n\u001b[1;32m    191\u001b[0m         \u001b[0;32mtry\u001b[0m\u001b[0;34m:\u001b[0m\u001b[0;34m\u001b[0m\u001b[0;34m\u001b[0m\u001b[0m\n\u001b[1;32m    192\u001b[0m             \u001b[0;32mwith\u001b[0m \u001b[0mProfile\u001b[0m\u001b[0;34m(\u001b[0m\u001b[0;34m)\u001b[0m \u001b[0;32mas\u001b[0m \u001b[0mdt\u001b[0m\u001b[0;34m:\u001b[0m\u001b[0;34m\u001b[0m\u001b[0;34m\u001b[0m\u001b[0m\n\u001b[0;32m--> 193\u001b[0;31m                 \u001b[0mf\u001b[0m\u001b[0;34m,\u001b[0m \u001b[0mmodel\u001b[0m \u001b[0;34m=\u001b[0m \u001b[0minner_func\u001b[0m\u001b[0;34m(\u001b[0m\u001b[0;34m*\u001b[0m\u001b[0margs\u001b[0m\u001b[0;34m,\u001b[0m \u001b[0;34m**\u001b[0m\u001b[0mkwargs\u001b[0m\u001b[0;34m)\u001b[0m\u001b[0;34m\u001b[0m\u001b[0;34m\u001b[0m\u001b[0m\n\u001b[0m\u001b[1;32m    194\u001b[0m             \u001b[0mLOGGER\u001b[0m\u001b[0;34m.\u001b[0m\u001b[0minfo\u001b[0m\u001b[0;34m(\u001b[0m\u001b[0;34mf\"{prefix} export success ✅ {dt.t:.1f}s, saved as '{f}' ({file_size(f):.1f} MB)\"\u001b[0m\u001b[0;34m)\u001b[0m\u001b[0;34m\u001b[0m\u001b[0;34m\u001b[0m\u001b[0m\n\u001b[1;32m    195\u001b[0m             \u001b[0;32mreturn\u001b[0m \u001b[0mf\u001b[0m\u001b[0;34m,\u001b[0m \u001b[0mmodel\u001b[0m\u001b[0;34m\u001b[0m\u001b[0;34m\u001b[0m\u001b[0m\n",
            "\u001b[0;32m/usr/local/lib/python3.11/dist-packages/ultralytics/engine/exporter.py\u001b[0m in \u001b[0;36mexport_saved_model\u001b[0;34m(self, prefix)\u001b[0m\n\u001b[1;32m   1001\u001b[0m                 \u001b[0mnp_data\u001b[0m \u001b[0;34m=\u001b[0m \u001b[0;34m[\u001b[0m\u001b[0;34m[\u001b[0m\u001b[0;34m\"images\"\u001b[0m\u001b[0;34m,\u001b[0m \u001b[0mtmp_file\u001b[0m\u001b[0;34m,\u001b[0m \u001b[0;34m[\u001b[0m\u001b[0;34m[\u001b[0m\u001b[0;34m[\u001b[0m\u001b[0;34m[\u001b[0m\u001b[0;36m0\u001b[0m\u001b[0;34m,\u001b[0m \u001b[0;36m0\u001b[0m\u001b[0;34m,\u001b[0m \u001b[0;36m0\u001b[0m\u001b[0;34m]\u001b[0m\u001b[0;34m]\u001b[0m\u001b[0;34m]\u001b[0m\u001b[0;34m]\u001b[0m\u001b[0;34m,\u001b[0m \u001b[0;34m[\u001b[0m\u001b[0;34m[\u001b[0m\u001b[0;34m[\u001b[0m\u001b[0;34m[\u001b[0m\u001b[0;36m255\u001b[0m\u001b[0;34m,\u001b[0m \u001b[0;36m255\u001b[0m\u001b[0;34m,\u001b[0m \u001b[0;36m255\u001b[0m\u001b[0;34m]\u001b[0m\u001b[0;34m]\u001b[0m\u001b[0;34m]\u001b[0m\u001b[0;34m]\u001b[0m\u001b[0;34m]\u001b[0m\u001b[0;34m]\u001b[0m\u001b[0;34m\u001b[0m\u001b[0;34m\u001b[0m\u001b[0m\n\u001b[1;32m   1002\u001b[0m \u001b[0;34m\u001b[0m\u001b[0m\n\u001b[0;32m-> 1003\u001b[0;31m         \u001b[0;32mimport\u001b[0m \u001b[0monnx2tf\u001b[0m  \u001b[0;31m# scoped for after ONNX export for reduced conflict during import\u001b[0m\u001b[0;34m\u001b[0m\u001b[0;34m\u001b[0m\u001b[0m\n\u001b[0m\u001b[1;32m   1004\u001b[0m \u001b[0;34m\u001b[0m\u001b[0m\n\u001b[1;32m   1005\u001b[0m         \u001b[0mLOGGER\u001b[0m\u001b[0;34m.\u001b[0m\u001b[0minfo\u001b[0m\u001b[0;34m(\u001b[0m\u001b[0;34mf\"{prefix} starting TFLite export with onnx2tf {onnx2tf.__version__}...\"\u001b[0m\u001b[0;34m)\u001b[0m\u001b[0;34m\u001b[0m\u001b[0;34m\u001b[0m\u001b[0m\n",
            "\u001b[0;32m/usr/local/lib/python3.11/dist-packages/onnx2tf/__init__.py\u001b[0m in \u001b[0;36m<module>\u001b[0;34m\u001b[0m\n\u001b[0;32m----> 1\u001b[0;31m \u001b[0;32mfrom\u001b[0m \u001b[0monnx2tf\u001b[0m\u001b[0;34m.\u001b[0m\u001b[0monnx2tf\u001b[0m \u001b[0;32mimport\u001b[0m \u001b[0mconvert\u001b[0m\u001b[0;34m,\u001b[0m \u001b[0mmain\u001b[0m\u001b[0;34m\u001b[0m\u001b[0;34m\u001b[0m\u001b[0m\n\u001b[0m\u001b[1;32m      2\u001b[0m \u001b[0;34m\u001b[0m\u001b[0m\n\u001b[1;32m      3\u001b[0m \u001b[0m__version__\u001b[0m \u001b[0;34m=\u001b[0m \u001b[0;34m'1.28.2'\u001b[0m\u001b[0;34m\u001b[0m\u001b[0;34m\u001b[0m\u001b[0m\n",
            "\u001b[0;32m/usr/local/lib/python3.11/dist-packages/onnx2tf/onnx2tf.py\u001b[0m in \u001b[0;36m<module>\u001b[0;34m\u001b[0m\n\u001b[1;32m     28\u001b[0m \u001b[0;32mfrom\u001b[0m \u001b[0mtensorflow\u001b[0m\u001b[0;34m.\u001b[0m\u001b[0mpython\u001b[0m\u001b[0;34m.\u001b[0m\u001b[0msaved_model\u001b[0m\u001b[0;34m.\u001b[0m\u001b[0mload\u001b[0m \u001b[0;32mimport\u001b[0m \u001b[0m_WrapperFunction\u001b[0m\u001b[0;34m\u001b[0m\u001b[0;34m\u001b[0m\u001b[0m\n\u001b[1;32m     29\u001b[0m \u001b[0;32mimport\u001b[0m \u001b[0mtf_keras\u001b[0m\u001b[0;34m\u001b[0m\u001b[0;34m\u001b[0m\u001b[0m\n\u001b[0;32m---> 30\u001b[0;31m \u001b[0mtf_keras\u001b[0m\u001b[0;34m.\u001b[0m\u001b[0mutils\u001b[0m\u001b[0;34m.\u001b[0m\u001b[0mset_random_seed\u001b[0m\u001b[0;34m(\u001b[0m\u001b[0;36m0\u001b[0m\u001b[0;34m)\u001b[0m\u001b[0;34m\u001b[0m\u001b[0;34m\u001b[0m\u001b[0m\n\u001b[0m\u001b[1;32m     31\u001b[0m \u001b[0mtf\u001b[0m\u001b[0;34m.\u001b[0m\u001b[0mconfig\u001b[0m\u001b[0;34m.\u001b[0m\u001b[0mexperimental\u001b[0m\u001b[0;34m.\u001b[0m\u001b[0menable_op_determinism\u001b[0m\u001b[0;34m(\u001b[0m\u001b[0;34m)\u001b[0m\u001b[0;34m\u001b[0m\u001b[0;34m\u001b[0m\u001b[0m\n\u001b[1;32m     32\u001b[0m \u001b[0mtf\u001b[0m\u001b[0;34m.\u001b[0m\u001b[0mget_logger\u001b[0m\u001b[0;34m(\u001b[0m\u001b[0;34m)\u001b[0m\u001b[0;34m.\u001b[0m\u001b[0msetLevel\u001b[0m\u001b[0;34m(\u001b[0m\u001b[0;34m'INFO'\u001b[0m\u001b[0;34m)\u001b[0m\u001b[0;34m\u001b[0m\u001b[0;34m\u001b[0m\u001b[0m\n",
            "\u001b[0;32m/usr/local/lib/python3.11/dist-packages/tf_keras/src/utils/tf_utils.py\u001b[0m in \u001b[0;36mset_random_seed\u001b[0;34m(seed)\u001b[0m\n\u001b[1;32m     69\u001b[0m     \u001b[0mnp\u001b[0m\u001b[0;34m.\u001b[0m\u001b[0mrandom\u001b[0m\u001b[0;34m.\u001b[0m\u001b[0mseed\u001b[0m\u001b[0;34m(\u001b[0m\u001b[0mseed\u001b[0m\u001b[0;34m)\u001b[0m\u001b[0;34m\u001b[0m\u001b[0;34m\u001b[0m\u001b[0m\n\u001b[1;32m     70\u001b[0m     \u001b[0mtf\u001b[0m\u001b[0;34m.\u001b[0m\u001b[0mrandom\u001b[0m\u001b[0;34m.\u001b[0m\u001b[0mset_seed\u001b[0m\u001b[0;34m(\u001b[0m\u001b[0mseed\u001b[0m\u001b[0;34m)\u001b[0m\u001b[0;34m\u001b[0m\u001b[0;34m\u001b[0m\u001b[0m\n\u001b[0;32m---> 71\u001b[0;31m     \u001b[0mbackend\u001b[0m\u001b[0;34m.\u001b[0m\u001b[0m_SEED_GENERATOR\u001b[0m\u001b[0;34m.\u001b[0m\u001b[0mgenerator\u001b[0m \u001b[0;34m=\u001b[0m \u001b[0mrandom\u001b[0m\u001b[0;34m.\u001b[0m\u001b[0mRandom\u001b[0m\u001b[0;34m(\u001b[0m\u001b[0mseed\u001b[0m\u001b[0;34m)\u001b[0m\u001b[0;34m\u001b[0m\u001b[0;34m\u001b[0m\u001b[0m\n\u001b[0m\u001b[1;32m     72\u001b[0m \u001b[0;34m\u001b[0m\u001b[0m\n\u001b[1;32m     73\u001b[0m \u001b[0;34m\u001b[0m\u001b[0m\n",
            "\u001b[0;31mAttributeError\u001b[0m: module 'tf_keras.src.backend' has no attribute '_SEED_GENERATOR'"
          ]
        }
      ]
    }
  ]
}